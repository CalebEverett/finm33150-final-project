{
 "cells": [
  {
   "cell_type": "markdown",
   "metadata": {},
   "source": [
    "# Final Project"
   ]
  },
  {
   "cell_type": "markdown",
   "metadata": {},
   "source": [
    "## Imports"
   ]
  },
  {
   "cell_type": "code",
   "execution_count": 34,
   "metadata": {},
   "outputs": [],
   "source": [
    "# <include-final_project/utils.py>"
   ]
  },
  {
   "cell_type": "code",
   "execution_count": 6,
   "metadata": {},
   "outputs": [],
   "source": [
    "# <imports>\n",
    "import time\n",
    "import hmac\n",
    "import os\n",
    "\n",
    "import pandas as pd\n",
    "import plotly.io as pio\n",
    "from requests import Request, Session\n",
    "\n",
    "from final_project import utils\n",
    "\n",
    "pd.options.plotting.backend = \"plotly\"\n",
    "pio.templates.default = \"none\""
   ]
  },
  {
   "cell_type": "code",
   "execution_count": 3,
   "metadata": {},
   "outputs": [
    {
     "data": {
      "text/plain": "'uZUAs8MU9w88sBgyr__RLCNNVzoJsmj4DuItPI60'"
     },
     "execution_count": 3,
     "metadata": {},
     "output_type": "execute_result"
    }
   ],
   "source": [
    "os.getenv(\"FTX_API_KEY\")"
   ]
  },
  {
   "cell_type": "code",
   "execution_count": 5,
   "metadata": {},
   "outputs": [],
   "source": [
    "base_url = \"https://ftx.us/api\"\n",
    "end_point = \"/markets\"\n",
    "\n",
    "ts = int(time.time() * 1000)\n",
    "request = Request('GET', f\"{base_url}{end_point}\")\n",
    "prepared = request.prepare()\n",
    "signature_payload = f'{ts}{prepared.method}{prepared.path_url}'.encode()\n",
    "signature = hmac.new(os.getenv(\"FTX_API_SECRET\").encode(), signature_payload, 'sha256').hexdigest()\n",
    "\n",
    "request.headers[f'FTXUS-KEY'] = os.getenv(\"FTX_API_KEY\")\n",
    "request.headers[f'FTXUS-SIGN'] = signature\n",
    "request.headers[f'FTXUS-TS'] = str(ts)"
   ]
  },
  {
   "cell_type": "code",
   "execution_count": 7,
   "metadata": {},
   "outputs": [
    {
     "data": {
      "text/plain": "'/api/markets'"
     },
     "execution_count": 7,
     "metadata": {},
     "output_type": "execute_result"
    }
   ],
   "source": [
    "prepared.path_url"
   ]
  },
  {
   "cell_type": "code",
   "execution_count": 5,
   "metadata": {},
   "outputs": [],
   "source": [
    "base_url = \"https://ftx.us/api\"\n",
    "end_point = \"/markets\"\n",
    "\n",
    "ts = int(time.time() * 1000)\n",
    "request = Request('GET', f\"{base_url}{end_point}\")\n",
    "prepared = request.prepare()\n",
    "signature_payload = f'{ts}{prepared.method}{prepared.path_url}'.encode()\n",
    "signature = hmac.new(os.getenv(\"FTX_API_SECRET\").encode(), signature_payload, 'sha256').hexdigest()\n",
    "\n",
    "request.headers[f'FTXUS-KEY'] = os.getenv(\"FTX_API_KEY\")\n",
    "request.headers[f'FTXUS-SIGN'] = signature\n",
    "request.headers[f'FTXUS-TS'] = str(ts)"
   ]
  },
  {
   "cell_type": "markdown",
   "metadata": {},
   "source": [
    "## Summary"
   ]
  }
 ],
 "metadata": {
  "interpreter": {
   "hash": "f88ee8450bcf0b467ff151c0407f80646193c1d54297fb4c805cc404f50286be"
  },
  "kernelspec": {
   "display_name": "Python 3.8.5 64-bit ('final_project-OI0eFCiU': pipenv)",
   "name": "python3"
  },
  "language_info": {
   "codemirror_mode": {
    "name": "ipython",
    "version": 3
   },
   "file_extension": ".py",
   "mimetype": "text/x-python",
   "name": "python",
   "nbconvert_exporter": "python",
   "pygments_lexer": "ipython3",
   "version": "3.8.5"
  },
  "orig_nbformat": 3
 },
 "nbformat": 4,
 "nbformat_minor": 2
}