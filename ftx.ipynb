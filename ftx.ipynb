{
 "cells": [
  {
   "cell_type": "markdown",
   "metadata": {},
   "source": [
    "# Final Project"
   ]
  },
  {
   "cell_type": "markdown",
   "metadata": {},
   "source": [
    "## Imports"
   ]
  },
  {
   "cell_type": "code",
   "execution_count": 1,
   "metadata": {},
   "outputs": [],
   "source": [
    "# <include-final_project/utils.py>"
   ]
  },
  {
   "cell_type": "code",
   "execution_count": 51,
   "metadata": {},
   "outputs": [],
   "source": [
    "# <imports>\n",
    "import time\n",
    "import hmac\n",
    "import os\n",
    "\n",
    "from binance_f import RequestClient\n",
    "import pandas as pd\n",
    "import plotly.io as pio\n",
    "from requests import Request, Session\n",
    "import requests\n",
    "\n",
    "from final_project import utils\n",
    "\n",
    "pd.options.plotting.backend = \"plotly\"\n",
    "pio.templates.default = \"seaborn\""
   ]
  },
  {
   "cell_type": "markdown",
   "metadata": {},
   "source": [
    "## FTX"
   ]
  },
  {
   "cell_type": "markdown",
   "metadata": {},
   "source": [
    "### Markets"
   ]
  },
  {
   "cell_type": "code",
   "execution_count": 3,
   "metadata": {},
   "outputs": [],
   "source": [
    "base_url = \"https://ftx.us/api\"\n",
    "end_point = \"/markets\"\n",
    "\n",
    "ts = int(time.time() * 1000)\n",
    "request = Request('GET', f\"{base_url}{end_point}\")\n",
    "prepared = request.prepare()\n",
    "signature_payload = f'{ts}{prepared.method}{prepared.path_url}'.encode()\n",
    "signature = hmac.new(os.getenv(\"FTX_API_SECRET\").encode(), signature_payload, 'sha256').hexdigest()\n",
    "\n",
    "request.headers[f'FTXUS-KEY'] = os.getenv(\"FTX_API_KEY\")\n",
    "request.headers[f'FTXUS-SIGN'] = signature\n",
    "request.headers[f'FTXUS-TS'] = str(ts)\n",
    "resp = Session().send(prepared)"
   ]
  },
  {
   "cell_type": "code",
   "execution_count": 4,
   "metadata": {},
   "outputs": [
    {
     "data": {
      "text/html": "<div>\n<style scoped>\n    .dataframe tbody tr th:only-of-type {\n        vertical-align: middle;\n    }\n\n    .dataframe tbody tr th {\n        vertical-align: top;\n    }\n\n    .dataframe thead th {\n        text-align: right;\n    }\n</style>\n<table border=\"1\" class=\"dataframe\">\n  <thead>\n    <tr style=\"text-align: right;\">\n      <th></th>\n      <th>name</th>\n      <th>enabled</th>\n      <th>postOnly</th>\n      <th>priceIncrement</th>\n      <th>sizeIncrement</th>\n      <th>minProvideSize</th>\n      <th>last</th>\n      <th>bid</th>\n      <th>ask</th>\n      <th>price</th>\n      <th>...</th>\n      <th>baseCurrency</th>\n      <th>quoteCurrency</th>\n      <th>underlying</th>\n      <th>restricted</th>\n      <th>highLeverageFeeExempt</th>\n      <th>change1h</th>\n      <th>change24h</th>\n      <th>changeBod</th>\n      <th>quoteVolume24h</th>\n      <th>volumeUsd24h</th>\n    </tr>\n  </thead>\n  <tbody>\n    <tr>\n      <th>0</th>\n      <td>AUD/USD</td>\n      <td>True</td>\n      <td>False</td>\n      <td>1.000000e-04</td>\n      <td>1.0000</td>\n      <td>1.0000</td>\n      <td>0.773300</td>\n      <td>0.777300</td>\n      <td>0.778200</td>\n      <td>0.777300</td>\n      <td>...</td>\n      <td>AUD</td>\n      <td>USD</td>\n      <td>None</td>\n      <td>False</td>\n      <td>True</td>\n      <td>0.000772</td>\n      <td>0.001417</td>\n      <td>0.001417</td>\n      <td>0.000000e+00</td>\n      <td>0.000000e+00</td>\n    </tr>\n    <tr>\n      <th>1</th>\n      <td>BAT/USD</td>\n      <td>True</td>\n      <td>False</td>\n      <td>2.500000e-05</td>\n      <td>1.0000</td>\n      <td>1.0000</td>\n      <td>1.121025</td>\n      <td>1.133950</td>\n      <td>1.137525</td>\n      <td>1.133950</td>\n      <td>...</td>\n      <td>BAT</td>\n      <td>USD</td>\n      <td>None</td>\n      <td>False</td>\n      <td>True</td>\n      <td>0.040059</td>\n      <td>-0.033002</td>\n      <td>-0.007853</td>\n      <td>3.050410e+04</td>\n      <td>3.050410e+04</td>\n    </tr>\n    <tr>\n      <th>2</th>\n      <td>BCH/BTC</td>\n      <td>True</td>\n      <td>False</td>\n      <td>1.000000e-06</td>\n      <td>0.0010</td>\n      <td>0.0010</td>\n      <td>0.024998</td>\n      <td>0.025045</td>\n      <td>0.025163</td>\n      <td>0.025045</td>\n      <td>...</td>\n      <td>BCH</td>\n      <td>BTC</td>\n      <td>None</td>\n      <td>False</td>\n      <td>True</td>\n      <td>-0.001674</td>\n      <td>0.002522</td>\n      <td>0.002923</td>\n      <td>9.016058e+00</td>\n      <td>4.155080e+05</td>\n    </tr>\n    <tr>\n      <th>3</th>\n      <td>BCH/USD</td>\n      <td>True</td>\n      <td>False</td>\n      <td>2.500000e-02</td>\n      <td>0.0010</td>\n      <td>0.0010</td>\n      <td>1158.175000</td>\n      <td>1156.675000</td>\n      <td>1159.475000</td>\n      <td>1158.175000</td>\n      <td>...</td>\n      <td>BCH</td>\n      <td>USD</td>\n      <td>None</td>\n      <td>False</td>\n      <td>True</td>\n      <td>0.040682</td>\n      <td>-0.047416</td>\n      <td>-0.015534</td>\n      <td>7.575923e+06</td>\n      <td>7.575923e+06</td>\n    </tr>\n    <tr>\n      <th>4</th>\n      <td>BCH/USDT</td>\n      <td>True</td>\n      <td>False</td>\n      <td>2.500000e-02</td>\n      <td>0.0010</td>\n      <td>0.0010</td>\n      <td>1156.100000</td>\n      <td>1157.325000</td>\n      <td>1158.575000</td>\n      <td>1157.325000</td>\n      <td>...</td>\n      <td>BCH</td>\n      <td>USDT</td>\n      <td>None</td>\n      <td>False</td>\n      <td>True</td>\n      <td>0.040549</td>\n      <td>-0.047450</td>\n      <td>-0.016779</td>\n      <td>3.610911e+06</td>\n      <td>3.613310e+06</td>\n    </tr>\n    <tr>\n      <th>5</th>\n      <td>BRZ/USD</td>\n      <td>True</td>\n      <td>False</td>\n      <td>1.000000e-05</td>\n      <td>1.0000</td>\n      <td>1.0000</td>\n      <td>0.188330</td>\n      <td>0.188260</td>\n      <td>0.188920</td>\n      <td>0.188330</td>\n      <td>...</td>\n      <td>BRZ</td>\n      <td>USD</td>\n      <td>None</td>\n      <td>False</td>\n      <td>True</td>\n      <td>0.000000</td>\n      <td>0.000000</td>\n      <td>0.000000</td>\n      <td>0.000000e+00</td>\n      <td>0.000000e+00</td>\n    </tr>\n    <tr>\n      <th>6</th>\n      <td>BRZ/USDT</td>\n      <td>True</td>\n      <td>False</td>\n      <td>1.000000e-05</td>\n      <td>1.0000</td>\n      <td>1.0000</td>\n      <td>0.188970</td>\n      <td>0.188210</td>\n      <td>0.188920</td>\n      <td>0.188920</td>\n      <td>...</td>\n      <td>BRZ</td>\n      <td>USDT</td>\n      <td>None</td>\n      <td>False</td>\n      <td>True</td>\n      <td>0.000053</td>\n      <td>-0.000159</td>\n      <td>0.000000</td>\n      <td>0.000000e+00</td>\n      <td>0.000000e+00</td>\n    </tr>\n    <tr>\n      <th>7</th>\n      <td>BTC/AUD</td>\n      <td>True</td>\n      <td>False</td>\n      <td>1.000000e+00</td>\n      <td>0.0001</td>\n      <td>0.0001</td>\n      <td>58000.000000</td>\n      <td>59213.000000</td>\n      <td>59452.000000</td>\n      <td>59213.000000</td>\n      <td>...</td>\n      <td>BTC</td>\n      <td>AUD</td>\n      <td>None</td>\n      <td>False</td>\n      <td>True</td>\n      <td>0.035536</td>\n      <td>-0.056622</td>\n      <td>-0.029247</td>\n      <td>7.520860e+04</td>\n      <td>5.843708e+04</td>\n    </tr>\n    <tr>\n      <th>8</th>\n      <td>BTC/BRZ</td>\n      <td>True</td>\n      <td>False</td>\n      <td>5.000000e+00</td>\n      <td>0.0001</td>\n      <td>0.0001</td>\n      <td>272715.000000</td>\n      <td>244375.000000</td>\n      <td>245175.000000</td>\n      <td>245175.000000</td>\n      <td>...</td>\n      <td>BTC</td>\n      <td>BRZ</td>\n      <td>None</td>\n      <td>False</td>\n      <td>True</td>\n      <td>0.040111</td>\n      <td>-0.050758</td>\n      <td>-0.024529</td>\n      <td>0.000000e+00</td>\n      <td>0.000000e+00</td>\n    </tr>\n    <tr>\n      <th>9</th>\n      <td>BTC/EUR</td>\n      <td>True</td>\n      <td>False</td>\n      <td>1.000000e+00</td>\n      <td>0.0001</td>\n      <td>0.0001</td>\n      <td>36332.000000</td>\n      <td>37946.000000</td>\n      <td>38129.000000</td>\n      <td>37946.000000</td>\n      <td>...</td>\n      <td>BTC</td>\n      <td>EUR</td>\n      <td>None</td>\n      <td>False</td>\n      <td>True</td>\n      <td>0.038962</td>\n      <td>-0.056351</td>\n      <td>-0.030803</td>\n      <td>3.710429e+03</td>\n      <td>4.508171e+03</td>\n    </tr>\n    <tr>\n      <th>10</th>\n      <td>BTC/USD</td>\n      <td>True</td>\n      <td>False</td>\n      <td>1.000000e+00</td>\n      <td>0.0001</td>\n      <td>0.0001</td>\n      <td>46072.000000</td>\n      <td>46112.000000</td>\n      <td>46129.000000</td>\n      <td>46112.000000</td>\n      <td>...</td>\n      <td>BTC</td>\n      <td>USD</td>\n      <td>None</td>\n      <td>False</td>\n      <td>True</td>\n      <td>0.039753</td>\n      <td>-0.052324</td>\n      <td>-0.022554</td>\n      <td>6.598835e+07</td>\n      <td>6.598835e+07</td>\n    </tr>\n    <tr>\n      <th>11</th>\n      <td>BTC/USDT</td>\n      <td>True</td>\n      <td>False</td>\n      <td>1.000000e+00</td>\n      <td>0.0001</td>\n      <td>0.0001</td>\n      <td>46028.000000</td>\n      <td>46069.000000</td>\n      <td>46102.000000</td>\n      <td>46069.000000</td>\n      <td>...</td>\n      <td>BTC</td>\n      <td>USDT</td>\n      <td>None</td>\n      <td>False</td>\n      <td>True</td>\n      <td>0.037170</td>\n      <td>-0.052488</td>\n      <td>-0.023486</td>\n      <td>1.391027e+07</td>\n      <td>1.391950e+07</td>\n    </tr>\n    <tr>\n      <th>12</th>\n      <td>CAD/USD</td>\n      <td>True</td>\n      <td>False</td>\n      <td>1.000000e-04</td>\n      <td>1.0000</td>\n      <td>1.0000</td>\n      <td>0.825000</td>\n      <td>0.825600</td>\n      <td>0.827500</td>\n      <td>0.825600</td>\n      <td>...</td>\n      <td>CAD</td>\n      <td>USD</td>\n      <td>None</td>\n      <td>False</td>\n      <td>True</td>\n      <td>0.000485</td>\n      <td>-0.000242</td>\n      <td>-0.000242</td>\n      <td>0.000000e+00</td>\n      <td>0.000000e+00</td>\n    </tr>\n    <tr>\n      <th>13</th>\n      <td>CUSDT/USD</td>\n      <td>True</td>\n      <td>False</td>\n      <td>2.500000e-06</td>\n      <td>1.0000</td>\n      <td>1.0000</td>\n      <td>0.021095</td>\n      <td>0.021112</td>\n      <td>0.021175</td>\n      <td>0.021112</td>\n      <td>...</td>\n      <td>CUSDT</td>\n      <td>USD</td>\n      <td>None</td>\n      <td>False</td>\n      <td>True</td>\n      <td>0.000830</td>\n      <td>0.001423</td>\n      <td>-0.001773</td>\n      <td>2.046502e+01</td>\n      <td>2.046502e+01</td>\n    </tr>\n    <tr>\n      <th>14</th>\n      <td>CUSDT/USDT</td>\n      <td>True</td>\n      <td>False</td>\n      <td>2.500000e-06</td>\n      <td>1.0000</td>\n      <td>1.0000</td>\n      <td>0.021070</td>\n      <td>0.021093</td>\n      <td>0.021175</td>\n      <td>0.021093</td>\n      <td>...</td>\n      <td>CUSDT</td>\n      <td>USDT</td>\n      <td>None</td>\n      <td>False</td>\n      <td>True</td>\n      <td>0.000000</td>\n      <td>0.001068</td>\n      <td>0.000237</td>\n      <td>0.000000e+00</td>\n      <td>0.000000e+00</td>\n    </tr>\n    <tr>\n      <th>15</th>\n      <td>DAI/USD</td>\n      <td>True</td>\n      <td>False</td>\n      <td>1.000000e-04</td>\n      <td>0.1000</td>\n      <td>0.1000</td>\n      <td>1.003000</td>\n      <td>0.998700</td>\n      <td>1.003000</td>\n      <td>1.003000</td>\n      <td>...</td>\n      <td>DAI</td>\n      <td>USD</td>\n      <td>None</td>\n      <td>False</td>\n      <td>True</td>\n      <td>0.004306</td>\n      <td>0.002098</td>\n      <td>0.002098</td>\n      <td>6.488830e+02</td>\n      <td>6.488830e+02</td>\n    </tr>\n    <tr>\n      <th>16</th>\n      <td>DAI/USDT</td>\n      <td>True</td>\n      <td>False</td>\n      <td>1.000000e-04</td>\n      <td>0.1000</td>\n      <td>0.1000</td>\n      <td>1.000300</td>\n      <td>0.998200</td>\n      <td>1.002600</td>\n      <td>1.000300</td>\n      <td>...</td>\n      <td>DAI</td>\n      <td>USDT</td>\n      <td>None</td>\n      <td>False</td>\n      <td>True</td>\n      <td>0.000000</td>\n      <td>0.000000</td>\n      <td>0.000000</td>\n      <td>0.000000e+00</td>\n      <td>0.000000e+00</td>\n    </tr>\n    <tr>\n      <th>17</th>\n      <td>DOGE/BTC</td>\n      <td>True</td>\n      <td>False</td>\n      <td>1.000000e-08</td>\n      <td>1.0000</td>\n      <td>1.0000</td>\n      <td>0.000011</td>\n      <td>0.000011</td>\n      <td>0.000011</td>\n      <td>0.000011</td>\n      <td>...</td>\n      <td>DOGE</td>\n      <td>BTC</td>\n      <td>None</td>\n      <td>False</td>\n      <td>True</td>\n      <td>0.013876</td>\n      <td>0.004583</td>\n      <td>0.007353</td>\n      <td>1.816860e+01</td>\n      <td>8.373057e+05</td>\n    </tr>\n    <tr>\n      <th>18</th>\n      <td>DOGE/USD</td>\n      <td>True</td>\n      <td>False</td>\n      <td>5.000000e-07</td>\n      <td>1.0000</td>\n      <td>1.0000</td>\n      <td>0.504197</td>\n      <td>0.503861</td>\n      <td>0.505011</td>\n      <td>0.504197</td>\n      <td>...</td>\n      <td>DOGE</td>\n      <td>USD</td>\n      <td>None</td>\n      <td>False</td>\n      <td>True</td>\n      <td>0.052469</td>\n      <td>-0.050665</td>\n      <td>-0.015794</td>\n      <td>3.882420e+06</td>\n      <td>3.882420e+06</td>\n    </tr>\n    <tr>\n      <th>19</th>\n      <td>DOGE/USDT</td>\n      <td>True</td>\n      <td>False</td>\n      <td>5.000000e-07</td>\n      <td>1.0000</td>\n      <td>1.0000</td>\n      <td>0.505404</td>\n      <td>0.503039</td>\n      <td>0.505397</td>\n      <td>0.505397</td>\n      <td>...</td>\n      <td>DOGE</td>\n      <td>USDT</td>\n      <td>None</td>\n      <td>False</td>\n      <td>True</td>\n      <td>0.053523</td>\n      <td>-0.048643</td>\n      <td>-0.011367</td>\n      <td>7.286901e+05</td>\n      <td>7.291740e+05</td>\n    </tr>\n    <tr>\n      <th>20</th>\n      <td>ETH/AUD</td>\n      <td>True</td>\n      <td>False</td>\n      <td>1.000000e-01</td>\n      <td>0.0010</td>\n      <td>0.0010</td>\n      <td>4488.400000</td>\n      <td>4585.800000</td>\n      <td>4601.400000</td>\n      <td>4585.800000</td>\n      <td>...</td>\n      <td>ETH</td>\n      <td>AUD</td>\n      <td>None</td>\n      <td>False</td>\n      <td>True</td>\n      <td>0.050512</td>\n      <td>-0.068476</td>\n      <td>-0.036232</td>\n      <td>8.115990e+01</td>\n      <td>6.306124e+01</td>\n    </tr>\n    <tr>\n      <th>21</th>\n      <td>ETH/BTC</td>\n      <td>True</td>\n      <td>False</td>\n      <td>2.500000e-06</td>\n      <td>0.0010</td>\n      <td>0.0010</td>\n      <td>0.077420</td>\n      <td>0.077408</td>\n      <td>0.077440</td>\n      <td>0.077420</td>\n      <td>...</td>\n      <td>ETH</td>\n      <td>BTC</td>\n      <td>None</td>\n      <td>False</td>\n      <td>True</td>\n      <td>0.015911</td>\n      <td>-0.014260</td>\n      <td>-0.007181</td>\n      <td>4.958363e+02</td>\n      <td>2.285078e+07</td>\n    </tr>\n    <tr>\n      <th>22</th>\n      <td>ETH/EUR</td>\n      <td>True</td>\n      <td>False</td>\n      <td>1.000000e-01</td>\n      <td>0.0010</td>\n      <td>0.0010</td>\n      <td>2881.200000</td>\n      <td>2939.500000</td>\n      <td>2954.300000</td>\n      <td>2939.500000</td>\n      <td>...</td>\n      <td>ETH</td>\n      <td>EUR</td>\n      <td>None</td>\n      <td>False</td>\n      <td>True</td>\n      <td>0.052905</td>\n      <td>-0.065669</td>\n      <td>-0.037208</td>\n      <td>8.688300e+01</td>\n      <td>1.055628e+02</td>\n    </tr>\n    <tr>\n      <th>23</th>\n      <td>ETH/USD</td>\n      <td>True</td>\n      <td>False</td>\n      <td>1.000000e-01</td>\n      <td>0.0010</td>\n      <td>0.0010</td>\n      <td>3567.400000</td>\n      <td>3566.200000</td>\n      <td>3569.500000</td>\n      <td>3567.400000</td>\n      <td>...</td>\n      <td>ETH</td>\n      <td>USD</td>\n      <td>None</td>\n      <td>False</td>\n      <td>True</td>\n      <td>0.052020</td>\n      <td>-0.066297</td>\n      <td>-0.031677</td>\n      <td>2.624631e+07</td>\n      <td>2.624631e+07</td>\n    </tr>\n    <tr>\n      <th>24</th>\n      <td>ETH/USDT</td>\n      <td>True</td>\n      <td>False</td>\n      <td>1.000000e-01</td>\n      <td>0.0010</td>\n      <td>0.0010</td>\n      <td>3558.800000</td>\n      <td>3561.700000</td>\n      <td>3566.000000</td>\n      <td>3561.700000</td>\n      <td>...</td>\n      <td>ETH</td>\n      <td>USDT</td>\n      <td>None</td>\n      <td>False</td>\n      <td>True</td>\n      <td>0.049751</td>\n      <td>-0.067422</td>\n      <td>-0.033696</td>\n      <td>4.955530e+06</td>\n      <td>4.958821e+06</td>\n    </tr>\n    <tr>\n      <th>25</th>\n      <td>EUR/USD</td>\n      <td>True</td>\n      <td>False</td>\n      <td>1.000000e-04</td>\n      <td>1.0000</td>\n      <td>1.0000</td>\n      <td>1.213700</td>\n      <td>1.210900</td>\n      <td>1.213700</td>\n      <td>1.213700</td>\n      <td>...</td>\n      <td>EUR</td>\n      <td>USD</td>\n      <td>None</td>\n      <td>False</td>\n      <td>True</td>\n      <td>0.000000</td>\n      <td>0.000990</td>\n      <td>0.000990</td>\n      <td>4.976290e+01</td>\n      <td>4.976290e+01</td>\n    </tr>\n    <tr>\n      <th>26</th>\n      <td>GBP/USD</td>\n      <td>True</td>\n      <td>False</td>\n      <td>1.000000e-04</td>\n      <td>1.0000</td>\n      <td>1.0000</td>\n      <td>1.410700</td>\n      <td>1.409400</td>\n      <td>1.410700</td>\n      <td>1.410700</td>\n      <td>...</td>\n      <td>GBP</td>\n      <td>USD</td>\n      <td>None</td>\n      <td>False</td>\n      <td>True</td>\n      <td>0.000000</td>\n      <td>0.000000</td>\n      <td>0.000426</td>\n      <td>5.642200e+00</td>\n      <td>5.642200e+00</td>\n    </tr>\n    <tr>\n      <th>27</th>\n      <td>GRT/USD</td>\n      <td>True</td>\n      <td>False</td>\n      <td>5.000000e-05</td>\n      <td>1.0000</td>\n      <td>1.0000</td>\n      <td>1.288150</td>\n      <td>1.292650</td>\n      <td>1.298000</td>\n      <td>1.292650</td>\n      <td>...</td>\n      <td>GRT</td>\n      <td>USD</td>\n      <td>None</td>\n      <td>False</td>\n      <td>True</td>\n      <td>0.033293</td>\n      <td>-0.065599</td>\n      <td>-0.023826</td>\n      <td>1.532251e+05</td>\n      <td>1.532251e+05</td>\n    </tr>\n    <tr>\n      <th>28</th>\n      <td>LINK/BTC</td>\n      <td>True</td>\n      <td>False</td>\n      <td>5.000000e-08</td>\n      <td>0.1000</td>\n      <td>0.1000</td>\n      <td>0.000870</td>\n      <td>0.000878</td>\n      <td>0.000881</td>\n      <td>0.000878</td>\n      <td>...</td>\n      <td>LINK</td>\n      <td>BTC</td>\n      <td>None</td>\n      <td>False</td>\n      <td>True</td>\n      <td>0.011517</td>\n      <td>-0.003065</td>\n      <td>-0.005773</td>\n      <td>8.151785e-01</td>\n      <td>3.756776e+04</td>\n    </tr>\n    <tr>\n      <th>29</th>\n      <td>LINK/USD</td>\n      <td>True</td>\n      <td>False</td>\n      <td>5.000000e-04</td>\n      <td>0.1000</td>\n      <td>0.1000</td>\n      <td>40.020000</td>\n      <td>40.540000</td>\n      <td>40.641500</td>\n      <td>40.540000</td>\n      <td>...</td>\n      <td>LINK</td>\n      <td>USD</td>\n      <td>None</td>\n      <td>False</td>\n      <td>True</td>\n      <td>0.047802</td>\n      <td>-0.054913</td>\n      <td>-0.028575</td>\n      <td>1.202864e+06</td>\n      <td>1.202864e+06</td>\n    </tr>\n    <tr>\n      <th>30</th>\n      <td>LINK/USDT</td>\n      <td>True</td>\n      <td>False</td>\n      <td>5.000000e-04</td>\n      <td>0.1000</td>\n      <td>0.1000</td>\n      <td>40.560000</td>\n      <td>40.508500</td>\n      <td>40.624000</td>\n      <td>40.560000</td>\n      <td>...</td>\n      <td>LINK</td>\n      <td>USDT</td>\n      <td>None</td>\n      <td>False</td>\n      <td>True</td>\n      <td>0.050451</td>\n      <td>-0.052790</td>\n      <td>-0.029456</td>\n      <td>2.304840e+05</td>\n      <td>2.306371e+05</td>\n    </tr>\n    <tr>\n      <th>31</th>\n      <td>LTC/BTC</td>\n      <td>True</td>\n      <td>False</td>\n      <td>2.500000e-07</td>\n      <td>0.0100</td>\n      <td>0.0100</td>\n      <td>0.006369</td>\n      <td>0.006366</td>\n      <td>0.006389</td>\n      <td>0.006369</td>\n      <td>...</td>\n      <td>LTC</td>\n      <td>BTC</td>\n      <td>None</td>\n      <td>False</td>\n      <td>True</td>\n      <td>-0.003287</td>\n      <td>-0.006125</td>\n      <td>-0.005854</td>\n      <td>2.594167e+00</td>\n      <td>1.195530e+05</td>\n    </tr>\n    <tr>\n      <th>32</th>\n      <td>LTC/USD</td>\n      <td>True</td>\n      <td>False</td>\n      <td>5.000000e-03</td>\n      <td>0.0100</td>\n      <td>0.0100</td>\n      <td>293.830000</td>\n      <td>293.950000</td>\n      <td>294.450000</td>\n      <td>293.950000</td>\n      <td>...</td>\n      <td>LTC</td>\n      <td>USD</td>\n      <td>None</td>\n      <td>False</td>\n      <td>True</td>\n      <td>0.039446</td>\n      <td>-0.057294</td>\n      <td>-0.026269</td>\n      <td>3.739889e+06</td>\n      <td>3.739889e+06</td>\n    </tr>\n    <tr>\n      <th>33</th>\n      <td>LTC/USDT</td>\n      <td>True</td>\n      <td>False</td>\n      <td>5.000000e-03</td>\n      <td>0.0100</td>\n      <td>0.0100</td>\n      <td>293.580000</td>\n      <td>293.700000</td>\n      <td>294.500000</td>\n      <td>293.700000</td>\n      <td>...</td>\n      <td>LTC</td>\n      <td>USDT</td>\n      <td>None</td>\n      <td>False</td>\n      <td>True</td>\n      <td>0.033536</td>\n      <td>-0.057173</td>\n      <td>-0.029267</td>\n      <td>1.086845e+06</td>\n      <td>1.087567e+06</td>\n    </tr>\n    <tr>\n      <th>34</th>\n      <td>PAXG/USD</td>\n      <td>True</td>\n      <td>False</td>\n      <td>1.000000e-01</td>\n      <td>0.0001</td>\n      <td>0.0001</td>\n      <td>1925.000000</td>\n      <td>1922.800000</td>\n      <td>1933.000000</td>\n      <td>1925.000000</td>\n      <td>...</td>\n      <td>PAXG</td>\n      <td>USD</td>\n      <td>None</td>\n      <td>False</td>\n      <td>True</td>\n      <td>0.004278</td>\n      <td>0.028312</td>\n      <td>0.024808</td>\n      <td>9.590821e+03</td>\n      <td>9.590821e+03</td>\n    </tr>\n    <tr>\n      <th>35</th>\n      <td>PAXG/USDT</td>\n      <td>True</td>\n      <td>False</td>\n      <td>1.000000e-01</td>\n      <td>0.0001</td>\n      <td>0.0001</td>\n      <td>1935.800000</td>\n      <td>1924.100000</td>\n      <td>1933.600000</td>\n      <td>1933.600000</td>\n      <td>...</td>\n      <td>PAXG</td>\n      <td>USDT</td>\n      <td>None</td>\n      <td>False</td>\n      <td>True</td>\n      <td>0.008712</td>\n      <td>0.025891</td>\n      <td>0.025891</td>\n      <td>3.060308e+03</td>\n      <td>3.062341e+03</td>\n    </tr>\n    <tr>\n      <th>36</th>\n      <td>SGD/USD</td>\n      <td>True</td>\n      <td>False</td>\n      <td>1.000000e-04</td>\n      <td>1.0000</td>\n      <td>1.0000</td>\n      <td>0.749100</td>\n      <td>0.746000</td>\n      <td>0.748300</td>\n      <td>0.748300</td>\n      <td>...</td>\n      <td>SGD</td>\n      <td>USD</td>\n      <td>None</td>\n      <td>False</td>\n      <td>True</td>\n      <td>0.000000</td>\n      <td>-0.000134</td>\n      <td>-0.000134</td>\n      <td>0.000000e+00</td>\n      <td>0.000000e+00</td>\n    </tr>\n    <tr>\n      <th>37</th>\n      <td>SOL/BTC</td>\n      <td>True</td>\n      <td>False</td>\n      <td>2.500000e-07</td>\n      <td>0.1000</td>\n      <td>0.1000</td>\n      <td>0.001035</td>\n      <td>0.001031</td>\n      <td>0.001039</td>\n      <td>0.001035</td>\n      <td>...</td>\n      <td>SOL</td>\n      <td>BTC</td>\n      <td>None</td>\n      <td>False</td>\n      <td>True</td>\n      <td>0.037603</td>\n      <td>0.178195</td>\n      <td>0.120769</td>\n      <td>7.887673e+01</td>\n      <td>3.635060e+06</td>\n    </tr>\n    <tr>\n      <th>38</th>\n      <td>SOL/USD</td>\n      <td>True</td>\n      <td>False</td>\n      <td>2.500000e-03</td>\n      <td>0.1000</td>\n      <td>0.1000</td>\n      <td>47.760000</td>\n      <td>47.535000</td>\n      <td>47.760000</td>\n      <td>47.760000</td>\n      <td>...</td>\n      <td>SOL</td>\n      <td>USD</td>\n      <td>None</td>\n      <td>False</td>\n      <td>True</td>\n      <td>0.076949</td>\n      <td>0.121917</td>\n      <td>0.091844</td>\n      <td>1.715832e+07</td>\n      <td>1.715832e+07</td>\n    </tr>\n    <tr>\n      <th>39</th>\n      <td>SOL/USDT</td>\n      <td>True</td>\n      <td>False</td>\n      <td>2.500000e-03</td>\n      <td>0.1000</td>\n      <td>0.1000</td>\n      <td>47.777500</td>\n      <td>47.572500</td>\n      <td>47.802500</td>\n      <td>47.777500</td>\n      <td>...</td>\n      <td>SOL</td>\n      <td>USDT</td>\n      <td>None</td>\n      <td>False</td>\n      <td>True</td>\n      <td>0.076312</td>\n      <td>0.118387</td>\n      <td>0.095312</td>\n      <td>1.551717e+07</td>\n      <td>1.552747e+07</td>\n    </tr>\n    <tr>\n      <th>40</th>\n      <td>SUSHI/BTC</td>\n      <td>True</td>\n      <td>False</td>\n      <td>1.000000e-08</td>\n      <td>0.5000</td>\n      <td>0.5000</td>\n      <td>0.000349</td>\n      <td>0.000349</td>\n      <td>0.000350</td>\n      <td>0.000349</td>\n      <td>...</td>\n      <td>SUSHI</td>\n      <td>BTC</td>\n      <td>None</td>\n      <td>False</td>\n      <td>True</td>\n      <td>0.015443</td>\n      <td>-0.007279</td>\n      <td>0.009863</td>\n      <td>2.020172e+02</td>\n      <td>9.310028e+06</td>\n    </tr>\n    <tr>\n      <th>41</th>\n      <td>SUSHI/USD</td>\n      <td>True</td>\n      <td>False</td>\n      <td>1.000000e-04</td>\n      <td>0.5000</td>\n      <td>0.5000</td>\n      <td>16.068900</td>\n      <td>16.106800</td>\n      <td>16.140600</td>\n      <td>16.106800</td>\n      <td>...</td>\n      <td>SUSHI</td>\n      <td>USD</td>\n      <td>None</td>\n      <td>False</td>\n      <td>True</td>\n      <td>0.055775</td>\n      <td>-0.058401</td>\n      <td>-0.014814</td>\n      <td>5.890348e+06</td>\n      <td>5.890348e+06</td>\n    </tr>\n    <tr>\n      <th>42</th>\n      <td>SUSHI/USDT</td>\n      <td>True</td>\n      <td>False</td>\n      <td>1.000000e-04</td>\n      <td>0.5000</td>\n      <td>0.5000</td>\n      <td>16.086900</td>\n      <td>16.091900</td>\n      <td>16.134100</td>\n      <td>16.091900</td>\n      <td>...</td>\n      <td>SUSHI</td>\n      <td>USDT</td>\n      <td>None</td>\n      <td>False</td>\n      <td>True</td>\n      <td>0.055657</td>\n      <td>-0.059849</td>\n      <td>-0.014351</td>\n      <td>1.583221e+07</td>\n      <td>1.584273e+07</td>\n    </tr>\n    <tr>\n      <th>43</th>\n      <td>TRX/USD</td>\n      <td>True</td>\n      <td>False</td>\n      <td>2.500000e-06</td>\n      <td>1.0000</td>\n      <td>1.0000</td>\n      <td>0.118405</td>\n      <td>0.118938</td>\n      <td>0.119413</td>\n      <td>0.118938</td>\n      <td>...</td>\n      <td>TRX</td>\n      <td>USD</td>\n      <td>None</td>\n      <td>False</td>\n      <td>True</td>\n      <td>0.026607</td>\n      <td>-0.042294</td>\n      <td>-0.017492</td>\n      <td>5.494199e+05</td>\n      <td>5.494199e+05</td>\n    </tr>\n    <tr>\n      <th>44</th>\n      <td>TRX/USDT</td>\n      <td>True</td>\n      <td>False</td>\n      <td>2.500000e-06</td>\n      <td>1.0000</td>\n      <td>1.0000</td>\n      <td>0.118030</td>\n      <td>0.118762</td>\n      <td>0.119112</td>\n      <td>0.118762</td>\n      <td>...</td>\n      <td>TRX</td>\n      <td>USDT</td>\n      <td>None</td>\n      <td>False</td>\n      <td>True</td>\n      <td>0.025295</td>\n      <td>-0.045874</td>\n      <td>-0.019525</td>\n      <td>1.581147e+05</td>\n      <td>1.582197e+05</td>\n    </tr>\n    <tr>\n      <th>45</th>\n      <td>UNI/BTC</td>\n      <td>True</td>\n      <td>False</td>\n      <td>5.000000e-08</td>\n      <td>0.0500</td>\n      <td>0.0500</td>\n      <td>0.000787</td>\n      <td>0.000785</td>\n      <td>0.000789</td>\n      <td>0.000787</td>\n      <td>...</td>\n      <td>UNI</td>\n      <td>BTC</td>\n      <td>None</td>\n      <td>False</td>\n      <td>True</td>\n      <td>0.002995</td>\n      <td>0.006007</td>\n      <td>0.005108</td>\n      <td>4.566861e-01</td>\n      <td>2.104653e+04</td>\n    </tr>\n    <tr>\n      <th>46</th>\n      <td>UNI/USD</td>\n      <td>True</td>\n      <td>False</td>\n      <td>1.000000e-03</td>\n      <td>0.1000</td>\n      <td>0.1000</td>\n      <td>36.055000</td>\n      <td>36.220000</td>\n      <td>36.386000</td>\n      <td>36.220000</td>\n      <td>...</td>\n      <td>UNI</td>\n      <td>USD</td>\n      <td>None</td>\n      <td>False</td>\n      <td>True</td>\n      <td>0.034946</td>\n      <td>-0.047218</td>\n      <td>-0.018933</td>\n      <td>1.086393e+05</td>\n      <td>1.086393e+05</td>\n    </tr>\n    <tr>\n      <th>47</th>\n      <td>UNI/USDT</td>\n      <td>True</td>\n      <td>False</td>\n      <td>1.000000e-03</td>\n      <td>0.0500</td>\n      <td>0.0500</td>\n      <td>35.727000</td>\n      <td>36.198000</td>\n      <td>36.353000</td>\n      <td>36.198000</td>\n      <td>...</td>\n      <td>UNI</td>\n      <td>USDT</td>\n      <td>None</td>\n      <td>False</td>\n      <td>True</td>\n      <td>0.040531</td>\n      <td>-0.047947</td>\n      <td>-0.020166</td>\n      <td>1.259318e+05</td>\n      <td>1.260155e+05</td>\n    </tr>\n    <tr>\n      <th>48</th>\n      <td>USDT/USD</td>\n      <td>True</td>\n      <td>False</td>\n      <td>1.000000e-04</td>\n      <td>0.0100</td>\n      <td>0.0100</td>\n      <td>1.000600</td>\n      <td>1.000400</td>\n      <td>1.000600</td>\n      <td>1.000600</td>\n      <td>...</td>\n      <td>USDT</td>\n      <td>USD</td>\n      <td>None</td>\n      <td>False</td>\n      <td>True</td>\n      <td>0.000300</td>\n      <td>-0.000100</td>\n      <td>0.000100</td>\n      <td>5.809706e+05</td>\n      <td>5.809706e+05</td>\n    </tr>\n    <tr>\n      <th>49</th>\n      <td>WBTC/USD</td>\n      <td>True</td>\n      <td>False</td>\n      <td>1.000000e+00</td>\n      <td>0.0001</td>\n      <td>0.0001</td>\n      <td>45694.000000</td>\n      <td>46021.000000</td>\n      <td>46181.000000</td>\n      <td>46021.000000</td>\n      <td>...</td>\n      <td>WBTC</td>\n      <td>USD</td>\n      <td>None</td>\n      <td>False</td>\n      <td>True</td>\n      <td>0.036486</td>\n      <td>-0.053163</td>\n      <td>-0.024173</td>\n      <td>5.044253e+06</td>\n      <td>5.044253e+06</td>\n    </tr>\n    <tr>\n      <th>50</th>\n      <td>YFI/BTC</td>\n      <td>True</td>\n      <td>False</td>\n      <td>2.500000e-04</td>\n      <td>0.0010</td>\n      <td>0.0010</td>\n      <td>1.381250</td>\n      <td>1.396000</td>\n      <td>1.409250</td>\n      <td>1.396000</td>\n      <td>...</td>\n      <td>YFI</td>\n      <td>BTC</td>\n      <td>None</td>\n      <td>False</td>\n      <td>True</td>\n      <td>0.021214</td>\n      <td>-0.018802</td>\n      <td>-0.024969</td>\n      <td>3.493137e-01</td>\n      <td>1.609824e+04</td>\n    </tr>\n    <tr>\n      <th>51</th>\n      <td>YFI/USD</td>\n      <td>True</td>\n      <td>False</td>\n      <td>5.000000e+00</td>\n      <td>0.0010</td>\n      <td>0.0010</td>\n      <td>64810.000000</td>\n      <td>64585.000000</td>\n      <td>64955.000000</td>\n      <td>64810.000000</td>\n      <td>...</td>\n      <td>YFI</td>\n      <td>USD</td>\n      <td>None</td>\n      <td>False</td>\n      <td>True</td>\n      <td>0.068590</td>\n      <td>-0.064926</td>\n      <td>-0.044030</td>\n      <td>1.534540e+05</td>\n      <td>1.534540e+05</td>\n    </tr>\n    <tr>\n      <th>52</th>\n      <td>YFI/USDT</td>\n      <td>True</td>\n      <td>False</td>\n      <td>5.000000e+00</td>\n      <td>0.0010</td>\n      <td>0.0010</td>\n      <td>64695.000000</td>\n      <td>64405.000000</td>\n      <td>64790.000000</td>\n      <td>64695.000000</td>\n      <td>...</td>\n      <td>YFI</td>\n      <td>USDT</td>\n      <td>None</td>\n      <td>False</td>\n      <td>True</td>\n      <td>0.067046</td>\n      <td>-0.066518</td>\n      <td>-0.045585</td>\n      <td>1.430156e+05</td>\n      <td>1.431105e+05</td>\n    </tr>\n  </tbody>\n</table>\n<p>53 rows × 21 columns</p>\n</div>",
      "text/plain": "          name  enabled  postOnly  priceIncrement  sizeIncrement  \\\n0      AUD/USD     True     False    1.000000e-04         1.0000   \n1      BAT/USD     True     False    2.500000e-05         1.0000   \n2      BCH/BTC     True     False    1.000000e-06         0.0010   \n3      BCH/USD     True     False    2.500000e-02         0.0010   \n4     BCH/USDT     True     False    2.500000e-02         0.0010   \n5      BRZ/USD     True     False    1.000000e-05         1.0000   \n6     BRZ/USDT     True     False    1.000000e-05         1.0000   \n7      BTC/AUD     True     False    1.000000e+00         0.0001   \n8      BTC/BRZ     True     False    5.000000e+00         0.0001   \n9      BTC/EUR     True     False    1.000000e+00         0.0001   \n10     BTC/USD     True     False    1.000000e+00         0.0001   \n11    BTC/USDT     True     False    1.000000e+00         0.0001   \n12     CAD/USD     True     False    1.000000e-04         1.0000   \n13   CUSDT/USD     True     False    2.500000e-06         1.0000   \n14  CUSDT/USDT     True     False    2.500000e-06         1.0000   \n15     DAI/USD     True     False    1.000000e-04         0.1000   \n16    DAI/USDT     True     False    1.000000e-04         0.1000   \n17    DOGE/BTC     True     False    1.000000e-08         1.0000   \n18    DOGE/USD     True     False    5.000000e-07         1.0000   \n19   DOGE/USDT     True     False    5.000000e-07         1.0000   \n20     ETH/AUD     True     False    1.000000e-01         0.0010   \n21     ETH/BTC     True     False    2.500000e-06         0.0010   \n22     ETH/EUR     True     False    1.000000e-01         0.0010   \n23     ETH/USD     True     False    1.000000e-01         0.0010   \n24    ETH/USDT     True     False    1.000000e-01         0.0010   \n25     EUR/USD     True     False    1.000000e-04         1.0000   \n26     GBP/USD     True     False    1.000000e-04         1.0000   \n27     GRT/USD     True     False    5.000000e-05         1.0000   \n28    LINK/BTC     True     False    5.000000e-08         0.1000   \n29    LINK/USD     True     False    5.000000e-04         0.1000   \n30   LINK/USDT     True     False    5.000000e-04         0.1000   \n31     LTC/BTC     True     False    2.500000e-07         0.0100   \n32     LTC/USD     True     False    5.000000e-03         0.0100   \n33    LTC/USDT     True     False    5.000000e-03         0.0100   \n34    PAXG/USD     True     False    1.000000e-01         0.0001   \n35   PAXG/USDT     True     False    1.000000e-01         0.0001   \n36     SGD/USD     True     False    1.000000e-04         1.0000   \n37     SOL/BTC     True     False    2.500000e-07         0.1000   \n38     SOL/USD     True     False    2.500000e-03         0.1000   \n39    SOL/USDT     True     False    2.500000e-03         0.1000   \n40   SUSHI/BTC     True     False    1.000000e-08         0.5000   \n41   SUSHI/USD     True     False    1.000000e-04         0.5000   \n42  SUSHI/USDT     True     False    1.000000e-04         0.5000   \n43     TRX/USD     True     False    2.500000e-06         1.0000   \n44    TRX/USDT     True     False    2.500000e-06         1.0000   \n45     UNI/BTC     True     False    5.000000e-08         0.0500   \n46     UNI/USD     True     False    1.000000e-03         0.1000   \n47    UNI/USDT     True     False    1.000000e-03         0.0500   \n48    USDT/USD     True     False    1.000000e-04         0.0100   \n49    WBTC/USD     True     False    1.000000e+00         0.0001   \n50     YFI/BTC     True     False    2.500000e-04         0.0010   \n51     YFI/USD     True     False    5.000000e+00         0.0010   \n52    YFI/USDT     True     False    5.000000e+00         0.0010   \n\n    minProvideSize           last            bid            ask  \\\n0           1.0000       0.773300       0.777300       0.778200   \n1           1.0000       1.121025       1.133950       1.137525   \n2           0.0010       0.024998       0.025045       0.025163   \n3           0.0010    1158.175000    1156.675000    1159.475000   \n4           0.0010    1156.100000    1157.325000    1158.575000   \n5           1.0000       0.188330       0.188260       0.188920   \n6           1.0000       0.188970       0.188210       0.188920   \n7           0.0001   58000.000000   59213.000000   59452.000000   \n8           0.0001  272715.000000  244375.000000  245175.000000   \n9           0.0001   36332.000000   37946.000000   38129.000000   \n10          0.0001   46072.000000   46112.000000   46129.000000   \n11          0.0001   46028.000000   46069.000000   46102.000000   \n12          1.0000       0.825000       0.825600       0.827500   \n13          1.0000       0.021095       0.021112       0.021175   \n14          1.0000       0.021070       0.021093       0.021175   \n15          0.1000       1.003000       0.998700       1.003000   \n16          0.1000       1.000300       0.998200       1.002600   \n17          1.0000       0.000011       0.000011       0.000011   \n18          1.0000       0.504197       0.503861       0.505011   \n19          1.0000       0.505404       0.503039       0.505397   \n20          0.0010    4488.400000    4585.800000    4601.400000   \n21          0.0010       0.077420       0.077408       0.077440   \n22          0.0010    2881.200000    2939.500000    2954.300000   \n23          0.0010    3567.400000    3566.200000    3569.500000   \n24          0.0010    3558.800000    3561.700000    3566.000000   \n25          1.0000       1.213700       1.210900       1.213700   \n26          1.0000       1.410700       1.409400       1.410700   \n27          1.0000       1.288150       1.292650       1.298000   \n28          0.1000       0.000870       0.000878       0.000881   \n29          0.1000      40.020000      40.540000      40.641500   \n30          0.1000      40.560000      40.508500      40.624000   \n31          0.0100       0.006369       0.006366       0.006389   \n32          0.0100     293.830000     293.950000     294.450000   \n33          0.0100     293.580000     293.700000     294.500000   \n34          0.0001    1925.000000    1922.800000    1933.000000   \n35          0.0001    1935.800000    1924.100000    1933.600000   \n36          1.0000       0.749100       0.746000       0.748300   \n37          0.1000       0.001035       0.001031       0.001039   \n38          0.1000      47.760000      47.535000      47.760000   \n39          0.1000      47.777500      47.572500      47.802500   \n40          0.5000       0.000349       0.000349       0.000350   \n41          0.5000      16.068900      16.106800      16.140600   \n42          0.5000      16.086900      16.091900      16.134100   \n43          1.0000       0.118405       0.118938       0.119413   \n44          1.0000       0.118030       0.118762       0.119112   \n45          0.0500       0.000787       0.000785       0.000789   \n46          0.1000      36.055000      36.220000      36.386000   \n47          0.0500      35.727000      36.198000      36.353000   \n48          0.0100       1.000600       1.000400       1.000600   \n49          0.0001   45694.000000   46021.000000   46181.000000   \n50          0.0010       1.381250       1.396000       1.409250   \n51          0.0010   64810.000000   64585.000000   64955.000000   \n52          0.0010   64695.000000   64405.000000   64790.000000   \n\n            price  ... baseCurrency quoteCurrency underlying restricted  \\\n0        0.777300  ...          AUD           USD       None      False   \n1        1.133950  ...          BAT           USD       None      False   \n2        0.025045  ...          BCH           BTC       None      False   \n3     1158.175000  ...          BCH           USD       None      False   \n4     1157.325000  ...          BCH          USDT       None      False   \n5        0.188330  ...          BRZ           USD       None      False   \n6        0.188920  ...          BRZ          USDT       None      False   \n7    59213.000000  ...          BTC           AUD       None      False   \n8   245175.000000  ...          BTC           BRZ       None      False   \n9    37946.000000  ...          BTC           EUR       None      False   \n10   46112.000000  ...          BTC           USD       None      False   \n11   46069.000000  ...          BTC          USDT       None      False   \n12       0.825600  ...          CAD           USD       None      False   \n13       0.021112  ...        CUSDT           USD       None      False   \n14       0.021093  ...        CUSDT          USDT       None      False   \n15       1.003000  ...          DAI           USD       None      False   \n16       1.000300  ...          DAI          USDT       None      False   \n17       0.000011  ...         DOGE           BTC       None      False   \n18       0.504197  ...         DOGE           USD       None      False   \n19       0.505397  ...         DOGE          USDT       None      False   \n20    4585.800000  ...          ETH           AUD       None      False   \n21       0.077420  ...          ETH           BTC       None      False   \n22    2939.500000  ...          ETH           EUR       None      False   \n23    3567.400000  ...          ETH           USD       None      False   \n24    3561.700000  ...          ETH          USDT       None      False   \n25       1.213700  ...          EUR           USD       None      False   \n26       1.410700  ...          GBP           USD       None      False   \n27       1.292650  ...          GRT           USD       None      False   \n28       0.000878  ...         LINK           BTC       None      False   \n29      40.540000  ...         LINK           USD       None      False   \n30      40.560000  ...         LINK          USDT       None      False   \n31       0.006369  ...          LTC           BTC       None      False   \n32     293.950000  ...          LTC           USD       None      False   \n33     293.700000  ...          LTC          USDT       None      False   \n34    1925.000000  ...         PAXG           USD       None      False   \n35    1933.600000  ...         PAXG          USDT       None      False   \n36       0.748300  ...          SGD           USD       None      False   \n37       0.001035  ...          SOL           BTC       None      False   \n38      47.760000  ...          SOL           USD       None      False   \n39      47.777500  ...          SOL          USDT       None      False   \n40       0.000349  ...        SUSHI           BTC       None      False   \n41      16.106800  ...        SUSHI           USD       None      False   \n42      16.091900  ...        SUSHI          USDT       None      False   \n43       0.118938  ...          TRX           USD       None      False   \n44       0.118762  ...          TRX          USDT       None      False   \n45       0.000787  ...          UNI           BTC       None      False   \n46      36.220000  ...          UNI           USD       None      False   \n47      36.198000  ...          UNI          USDT       None      False   \n48       1.000600  ...         USDT           USD       None      False   \n49   46021.000000  ...         WBTC           USD       None      False   \n50       1.396000  ...          YFI           BTC       None      False   \n51   64810.000000  ...          YFI           USD       None      False   \n52   64695.000000  ...          YFI          USDT       None      False   \n\n    highLeverageFeeExempt  change1h  change24h  changeBod  quoteVolume24h  \\\n0                    True  0.000772   0.001417   0.001417    0.000000e+00   \n1                    True  0.040059  -0.033002  -0.007853    3.050410e+04   \n2                    True -0.001674   0.002522   0.002923    9.016058e+00   \n3                    True  0.040682  -0.047416  -0.015534    7.575923e+06   \n4                    True  0.040549  -0.047450  -0.016779    3.610911e+06   \n5                    True  0.000000   0.000000   0.000000    0.000000e+00   \n6                    True  0.000053  -0.000159   0.000000    0.000000e+00   \n7                    True  0.035536  -0.056622  -0.029247    7.520860e+04   \n8                    True  0.040111  -0.050758  -0.024529    0.000000e+00   \n9                    True  0.038962  -0.056351  -0.030803    3.710429e+03   \n10                   True  0.039753  -0.052324  -0.022554    6.598835e+07   \n11                   True  0.037170  -0.052488  -0.023486    1.391027e+07   \n12                   True  0.000485  -0.000242  -0.000242    0.000000e+00   \n13                   True  0.000830   0.001423  -0.001773    2.046502e+01   \n14                   True  0.000000   0.001068   0.000237    0.000000e+00   \n15                   True  0.004306   0.002098   0.002098    6.488830e+02   \n16                   True  0.000000   0.000000   0.000000    0.000000e+00   \n17                   True  0.013876   0.004583   0.007353    1.816860e+01   \n18                   True  0.052469  -0.050665  -0.015794    3.882420e+06   \n19                   True  0.053523  -0.048643  -0.011367    7.286901e+05   \n20                   True  0.050512  -0.068476  -0.036232    8.115990e+01   \n21                   True  0.015911  -0.014260  -0.007181    4.958363e+02   \n22                   True  0.052905  -0.065669  -0.037208    8.688300e+01   \n23                   True  0.052020  -0.066297  -0.031677    2.624631e+07   \n24                   True  0.049751  -0.067422  -0.033696    4.955530e+06   \n25                   True  0.000000   0.000990   0.000990    4.976290e+01   \n26                   True  0.000000   0.000000   0.000426    5.642200e+00   \n27                   True  0.033293  -0.065599  -0.023826    1.532251e+05   \n28                   True  0.011517  -0.003065  -0.005773    8.151785e-01   \n29                   True  0.047802  -0.054913  -0.028575    1.202864e+06   \n30                   True  0.050451  -0.052790  -0.029456    2.304840e+05   \n31                   True -0.003287  -0.006125  -0.005854    2.594167e+00   \n32                   True  0.039446  -0.057294  -0.026269    3.739889e+06   \n33                   True  0.033536  -0.057173  -0.029267    1.086845e+06   \n34                   True  0.004278   0.028312   0.024808    9.590821e+03   \n35                   True  0.008712   0.025891   0.025891    3.060308e+03   \n36                   True  0.000000  -0.000134  -0.000134    0.000000e+00   \n37                   True  0.037603   0.178195   0.120769    7.887673e+01   \n38                   True  0.076949   0.121917   0.091844    1.715832e+07   \n39                   True  0.076312   0.118387   0.095312    1.551717e+07   \n40                   True  0.015443  -0.007279   0.009863    2.020172e+02   \n41                   True  0.055775  -0.058401  -0.014814    5.890348e+06   \n42                   True  0.055657  -0.059849  -0.014351    1.583221e+07   \n43                   True  0.026607  -0.042294  -0.017492    5.494199e+05   \n44                   True  0.025295  -0.045874  -0.019525    1.581147e+05   \n45                   True  0.002995   0.006007   0.005108    4.566861e-01   \n46                   True  0.034946  -0.047218  -0.018933    1.086393e+05   \n47                   True  0.040531  -0.047947  -0.020166    1.259318e+05   \n48                   True  0.000300  -0.000100   0.000100    5.809706e+05   \n49                   True  0.036486  -0.053163  -0.024173    5.044253e+06   \n50                   True  0.021214  -0.018802  -0.024969    3.493137e-01   \n51                   True  0.068590  -0.064926  -0.044030    1.534540e+05   \n52                   True  0.067046  -0.066518  -0.045585    1.430156e+05   \n\n    volumeUsd24h  \n0   0.000000e+00  \n1   3.050410e+04  \n2   4.155080e+05  \n3   7.575923e+06  \n4   3.613310e+06  \n5   0.000000e+00  \n6   0.000000e+00  \n7   5.843708e+04  \n8   0.000000e+00  \n9   4.508171e+03  \n10  6.598835e+07  \n11  1.391950e+07  \n12  0.000000e+00  \n13  2.046502e+01  \n14  0.000000e+00  \n15  6.488830e+02  \n16  0.000000e+00  \n17  8.373057e+05  \n18  3.882420e+06  \n19  7.291740e+05  \n20  6.306124e+01  \n21  2.285078e+07  \n22  1.055628e+02  \n23  2.624631e+07  \n24  4.958821e+06  \n25  4.976290e+01  \n26  5.642200e+00  \n27  1.532251e+05  \n28  3.756776e+04  \n29  1.202864e+06  \n30  2.306371e+05  \n31  1.195530e+05  \n32  3.739889e+06  \n33  1.087567e+06  \n34  9.590821e+03  \n35  3.062341e+03  \n36  0.000000e+00  \n37  3.635060e+06  \n38  1.715832e+07  \n39  1.552747e+07  \n40  9.310028e+06  \n41  5.890348e+06  \n42  1.584273e+07  \n43  5.494199e+05  \n44  1.582197e+05  \n45  2.104653e+04  \n46  1.086393e+05  \n47  1.260155e+05  \n48  5.809706e+05  \n49  5.044253e+06  \n50  1.609824e+04  \n51  1.534540e+05  \n52  1.431105e+05  \n\n[53 rows x 21 columns]"
     },
     "execution_count": 4,
     "metadata": {},
     "output_type": "execute_result"
    }
   ],
   "source": [
    "df_markets = pd.DataFrame(resp.json()[\"result\"])\n",
    "df_markets"
   ]
  },
  {
   "cell_type": "markdown",
   "metadata": {},
   "source": [
    "### Trades"
   ]
  },
  {
   "cell_type": "code",
   "execution_count": 5,
   "metadata": {},
   "outputs": [
    {
     "data": {
      "text/plain": "1614003399.856537"
     },
     "execution_count": 5,
     "metadata": {},
     "output_type": "execute_result"
    }
   ],
   "source": [
    "time.time() - 1000 * 60 * 60 * 2"
   ]
  },
  {
   "cell_type": "code",
   "execution_count": 6,
   "metadata": {},
   "outputs": [],
   "source": [
    "base_url = \"https://ftx.us/api\"\n",
    "end_point = \"/markets/BTC/USD/trades\"\n",
    "\n",
    "ts = int(time.time() * 1000)\n",
    "request = Request('GET', f\"{base_url}{end_point}\", params={\"start_time\": time.time() - 1000 * 60 * 60})\n",
    "prepared = request.prepare()\n",
    "signature_payload = f'{ts}{prepared.method}{prepared.path_url}'.encode()\n",
    "signature = hmac.new(os.getenv(\"FTX_API_SECRET\").encode(), signature_payload, 'sha256').hexdigest()\n",
    "\n",
    "request.headers[f'FTXUS-KEY'] = os.getenv(\"FTX_API_KEY\")\n",
    "request.headers[f'FTXUS-SIGN'] = signature\n",
    "request.headers[f'FTXUS-TS'] = str(ts)\n",
    "resp = Session().send(prepared)"
   ]
  },
  {
   "cell_type": "code",
   "execution_count": 7,
   "metadata": {},
   "outputs": [
    {
     "data": {
      "text/html": "<div>\n<style scoped>\n    .dataframe tbody tr th:only-of-type {\n        vertical-align: middle;\n    }\n\n    .dataframe tbody tr th {\n        vertical-align: top;\n    }\n\n    .dataframe thead th {\n        text-align: right;\n    }\n</style>\n<table border=\"1\" class=\"dataframe\">\n  <thead>\n    <tr style=\"text-align: right;\">\n      <th></th>\n      <th>id</th>\n      <th>price</th>\n      <th>size</th>\n      <th>side</th>\n      <th>liquidation</th>\n      <th>time</th>\n    </tr>\n  </thead>\n  <tbody>\n    <tr>\n      <th>0</th>\n      <td>3041937</td>\n      <td>46072.0</td>\n      <td>0.0005</td>\n      <td>buy</td>\n      <td>False</td>\n      <td>2021-05-16T22:15:38.905171+00:00</td>\n    </tr>\n    <tr>\n      <th>1</th>\n      <td>3041910</td>\n      <td>46048.0</td>\n      <td>0.1088</td>\n      <td>buy</td>\n      <td>False</td>\n      <td>2021-05-16T22:15:32.410996+00:00</td>\n    </tr>\n    <tr>\n      <th>2</th>\n      <td>3041886</td>\n      <td>46000.0</td>\n      <td>0.1739</td>\n      <td>buy</td>\n      <td>False</td>\n      <td>2021-05-16T22:15:26.182401+00:00</td>\n    </tr>\n    <tr>\n      <th>3</th>\n      <td>3041723</td>\n      <td>45852.0</td>\n      <td>0.0500</td>\n      <td>sell</td>\n      <td>False</td>\n      <td>2021-05-16T22:11:39.217005+00:00</td>\n    </tr>\n    <tr>\n      <th>4</th>\n      <td>3041722</td>\n      <td>45852.0</td>\n      <td>0.0500</td>\n      <td>sell</td>\n      <td>False</td>\n      <td>2021-05-16T22:11:39.216690+00:00</td>\n    </tr>\n    <tr>\n      <th>5</th>\n      <td>3041721</td>\n      <td>45852.0</td>\n      <td>0.1500</td>\n      <td>sell</td>\n      <td>False</td>\n      <td>2021-05-16T22:11:39.216259+00:00</td>\n    </tr>\n    <tr>\n      <th>6</th>\n      <td>3041720</td>\n      <td>45852.0</td>\n      <td>0.0676</td>\n      <td>sell</td>\n      <td>False</td>\n      <td>2021-05-16T22:11:39.189748+00:00</td>\n    </tr>\n    <tr>\n      <th>7</th>\n      <td>3041719</td>\n      <td>45852.0</td>\n      <td>0.1500</td>\n      <td>sell</td>\n      <td>False</td>\n      <td>2021-05-16T22:11:39.163616+00:00</td>\n    </tr>\n    <tr>\n      <th>8</th>\n      <td>3041682</td>\n      <td>45550.0</td>\n      <td>0.1099</td>\n      <td>buy</td>\n      <td>False</td>\n      <td>2021-05-16T22:10:15.412448+00:00</td>\n    </tr>\n    <tr>\n      <th>9</th>\n      <td>3041639</td>\n      <td>45566.0</td>\n      <td>0.0578</td>\n      <td>buy</td>\n      <td>False</td>\n      <td>2021-05-16T22:10:09.098730+00:00</td>\n    </tr>\n    <tr>\n      <th>10</th>\n      <td>3041638</td>\n      <td>45566.0</td>\n      <td>0.0520</td>\n      <td>buy</td>\n      <td>False</td>\n      <td>2021-05-16T22:10:09.047110+00:00</td>\n    </tr>\n    <tr>\n      <th>11</th>\n      <td>3041470</td>\n      <td>45711.0</td>\n      <td>0.1095</td>\n      <td>buy</td>\n      <td>False</td>\n      <td>2021-05-16T22:08:28.784739+00:00</td>\n    </tr>\n    <tr>\n      <th>12</th>\n      <td>3041462</td>\n      <td>45684.0</td>\n      <td>0.1096</td>\n      <td>buy</td>\n      <td>False</td>\n      <td>2021-05-16T22:08:17.065976+00:00</td>\n    </tr>\n    <tr>\n      <th>13</th>\n      <td>3041455</td>\n      <td>45651.0</td>\n      <td>0.0596</td>\n      <td>buy</td>\n      <td>False</td>\n      <td>2021-05-16T22:08:13.097209+00:00</td>\n    </tr>\n    <tr>\n      <th>14</th>\n      <td>3041454</td>\n      <td>45651.0</td>\n      <td>0.0500</td>\n      <td>buy</td>\n      <td>False</td>\n      <td>2021-05-16T22:08:12.970794+00:00</td>\n    </tr>\n    <tr>\n      <th>15</th>\n      <td>3041453</td>\n      <td>45650.0</td>\n      <td>0.0596</td>\n      <td>buy</td>\n      <td>False</td>\n      <td>2021-05-16T22:08:12.934948+00:00</td>\n    </tr>\n    <tr>\n      <th>16</th>\n      <td>3041448</td>\n      <td>45635.0</td>\n      <td>0.0597</td>\n      <td>buy</td>\n      <td>False</td>\n      <td>2021-05-16T22:08:12.789404+00:00</td>\n    </tr>\n    <tr>\n      <th>17</th>\n      <td>3041447</td>\n      <td>45635.0</td>\n      <td>0.0500</td>\n      <td>buy</td>\n      <td>False</td>\n      <td>2021-05-16T22:08:12.788922+00:00</td>\n    </tr>\n    <tr>\n      <th>18</th>\n      <td>3041438</td>\n      <td>45684.0</td>\n      <td>0.0684</td>\n      <td>buy</td>\n      <td>False</td>\n      <td>2021-05-16T22:07:51.964356+00:00</td>\n    </tr>\n    <tr>\n      <th>19</th>\n      <td>3041403</td>\n      <td>45809.0</td>\n      <td>0.0400</td>\n      <td>buy</td>\n      <td>False</td>\n      <td>2021-05-16T22:07:00.152286+00:00</td>\n    </tr>\n  </tbody>\n</table>\n</div>",
      "text/plain": "         id    price    size  side  liquidation  \\\n0   3041937  46072.0  0.0005   buy        False   \n1   3041910  46048.0  0.1088   buy        False   \n2   3041886  46000.0  0.1739   buy        False   \n3   3041723  45852.0  0.0500  sell        False   \n4   3041722  45852.0  0.0500  sell        False   \n5   3041721  45852.0  0.1500  sell        False   \n6   3041720  45852.0  0.0676  sell        False   \n7   3041719  45852.0  0.1500  sell        False   \n8   3041682  45550.0  0.1099   buy        False   \n9   3041639  45566.0  0.0578   buy        False   \n10  3041638  45566.0  0.0520   buy        False   \n11  3041470  45711.0  0.1095   buy        False   \n12  3041462  45684.0  0.1096   buy        False   \n13  3041455  45651.0  0.0596   buy        False   \n14  3041454  45651.0  0.0500   buy        False   \n15  3041453  45650.0  0.0596   buy        False   \n16  3041448  45635.0  0.0597   buy        False   \n17  3041447  45635.0  0.0500   buy        False   \n18  3041438  45684.0  0.0684   buy        False   \n19  3041403  45809.0  0.0400   buy        False   \n\n                                time  \n0   2021-05-16T22:15:38.905171+00:00  \n1   2021-05-16T22:15:32.410996+00:00  \n2   2021-05-16T22:15:26.182401+00:00  \n3   2021-05-16T22:11:39.217005+00:00  \n4   2021-05-16T22:11:39.216690+00:00  \n5   2021-05-16T22:11:39.216259+00:00  \n6   2021-05-16T22:11:39.189748+00:00  \n7   2021-05-16T22:11:39.163616+00:00  \n8   2021-05-16T22:10:15.412448+00:00  \n9   2021-05-16T22:10:09.098730+00:00  \n10  2021-05-16T22:10:09.047110+00:00  \n11  2021-05-16T22:08:28.784739+00:00  \n12  2021-05-16T22:08:17.065976+00:00  \n13  2021-05-16T22:08:13.097209+00:00  \n14  2021-05-16T22:08:12.970794+00:00  \n15  2021-05-16T22:08:12.934948+00:00  \n16  2021-05-16T22:08:12.789404+00:00  \n17  2021-05-16T22:08:12.788922+00:00  \n18  2021-05-16T22:07:51.964356+00:00  \n19  2021-05-16T22:07:00.152286+00:00  "
     },
     "execution_count": 7,
     "metadata": {},
     "output_type": "execute_result"
    }
   ],
   "source": [
    "df_trades = pd.DataFrame(resp.json()[\"result\"])\n",
    "df_trades"
   ]
  },
  {
   "cell_type": "markdown",
   "metadata": {},
   "source": [
    "## Spot Margin"
   ]
  },
  {
   "cell_type": "code",
   "execution_count": 8,
   "metadata": {},
   "outputs": [
    {
     "data": {
      "text/html": "<div>\n<style scoped>\n    .dataframe tbody tr th:only-of-type {\n        vertical-align: middle;\n    }\n\n    .dataframe tbody tr th {\n        vertical-align: top;\n    }\n\n    .dataframe thead th {\n        text-align: right;\n    }\n</style>\n<table border=\"1\" class=\"dataframe\">\n  <thead>\n    <tr style=\"text-align: right;\">\n      <th></th>\n      <th>coin</th>\n      <th>previous</th>\n      <th>estimate</th>\n    </tr>\n  </thead>\n  <tbody>\n    <tr>\n      <th>0</th>\n      <td>AUD</td>\n      <td>0.000068</td>\n      <td>0.000068</td>\n    </tr>\n    <tr>\n      <th>1</th>\n      <td>BCH</td>\n      <td>0.000002</td>\n      <td>0.000032</td>\n    </tr>\n    <tr>\n      <th>2</th>\n      <td>BRZ</td>\n      <td>0.000183</td>\n      <td>0.000183</td>\n    </tr>\n    <tr>\n      <th>3</th>\n      <td>BTC</td>\n      <td>0.000002</td>\n      <td>0.000002</td>\n    </tr>\n    <tr>\n      <th>4</th>\n      <td>CAD</td>\n      <td>0.000068</td>\n      <td>0.000068</td>\n    </tr>\n    <tr>\n      <th>5</th>\n      <td>CUSDT</td>\n      <td>0.000068</td>\n      <td>0.000068</td>\n    </tr>\n    <tr>\n      <th>6</th>\n      <td>DAI</td>\n      <td>0.000046</td>\n      <td>0.000046</td>\n    </tr>\n    <tr>\n      <th>7</th>\n      <td>DOGE</td>\n      <td>0.000023</td>\n      <td>0.000023</td>\n    </tr>\n    <tr>\n      <th>8</th>\n      <td>ETH</td>\n      <td>0.000002</td>\n      <td>0.000002</td>\n    </tr>\n    <tr>\n      <th>9</th>\n      <td>EUR</td>\n      <td>0.000066</td>\n      <td>0.000066</td>\n    </tr>\n    <tr>\n      <th>10</th>\n      <td>GBP</td>\n      <td>0.000068</td>\n      <td>0.000068</td>\n    </tr>\n    <tr>\n      <th>11</th>\n      <td>GRT</td>\n      <td>0.000046</td>\n      <td>0.000046</td>\n    </tr>\n    <tr>\n      <th>12</th>\n      <td>LINK</td>\n      <td>0.000002</td>\n      <td>0.000002</td>\n    </tr>\n    <tr>\n      <th>13</th>\n      <td>LTC</td>\n      <td>0.000002</td>\n      <td>0.000032</td>\n    </tr>\n    <tr>\n      <th>14</th>\n      <td>PAXG</td>\n      <td>0.000400</td>\n      <td>0.000400</td>\n    </tr>\n    <tr>\n      <th>15</th>\n      <td>SUSHI</td>\n      <td>0.000002</td>\n      <td>0.000002</td>\n    </tr>\n    <tr>\n      <th>16</th>\n      <td>TRX</td>\n      <td>0.000114</td>\n      <td>0.000114</td>\n    </tr>\n    <tr>\n      <th>17</th>\n      <td>UNI</td>\n      <td>0.000002</td>\n      <td>0.000002</td>\n    </tr>\n    <tr>\n      <th>18</th>\n      <td>USD</td>\n      <td>0.000228</td>\n      <td>0.000228</td>\n    </tr>\n    <tr>\n      <th>19</th>\n      <td>USDT</td>\n      <td>0.000068</td>\n      <td>0.000068</td>\n    </tr>\n    <tr>\n      <th>20</th>\n      <td>WBTC</td>\n      <td>0.000103</td>\n      <td>0.000103</td>\n    </tr>\n    <tr>\n      <th>21</th>\n      <td>YFI</td>\n      <td>0.000034</td>\n      <td>0.000034</td>\n    </tr>\n  </tbody>\n</table>\n</div>",
      "text/plain": "     coin  previous  estimate\n0     AUD  0.000068  0.000068\n1     BCH  0.000002  0.000032\n2     BRZ  0.000183  0.000183\n3     BTC  0.000002  0.000002\n4     CAD  0.000068  0.000068\n5   CUSDT  0.000068  0.000068\n6     DAI  0.000046  0.000046\n7    DOGE  0.000023  0.000023\n8     ETH  0.000002  0.000002\n9     EUR  0.000066  0.000066\n10    GBP  0.000068  0.000068\n11    GRT  0.000046  0.000046\n12   LINK  0.000002  0.000002\n13    LTC  0.000002  0.000032\n14   PAXG  0.000400  0.000400\n15  SUSHI  0.000002  0.000002\n16    TRX  0.000114  0.000114\n17    UNI  0.000002  0.000002\n18    USD  0.000228  0.000228\n19   USDT  0.000068  0.000068\n20   WBTC  0.000103  0.000103\n21    YFI  0.000034  0.000034"
     },
     "execution_count": 8,
     "metadata": {},
     "output_type": "execute_result"
    }
   ],
   "source": [
    "base_url = \"https://ftx.us/api\"\n",
    "end_point = \"/spot_margin/borrow_rates\"\n",
    "\n",
    "ts = int(time.time() * 1000)\n",
    "request = Request('GET', f\"{base_url}{end_point}\", params={\"start_time\": time.time() - 1000 * 60 * 60})\n",
    "prepared = request.prepare()\n",
    "signature_payload = f'{ts}{prepared.method}{prepared.path_url}'.encode()\n",
    "signature = hmac.new(os.getenv(\"FTX_API_SECRET\").encode(), signature_payload, 'sha256').hexdigest()\n",
    "\n",
    "request.headers[f'FTXUS-KEY'] = os.getenv(\"FTX_API_KEY\")\n",
    "request.headers[f'FTXUS-SIGN'] = signature\n",
    "request.headers[f'FTXUS-TS'] = str(ts)\n",
    "prepared = request.prepare()\n",
    "\n",
    "resp = Session().send(prepared)\n",
    "pd.DataFrame(resp.json()[\"result\"])"
   ]
  },
  {
   "cell_type": "markdown",
   "metadata": {},
   "source": [
    "## Binance"
   ]
  },
  {
   "cell_type": "markdown",
   "metadata": {},
   "source": [
    "#### Resources"
   ]
  },
  {
   "cell_type": "markdown",
   "metadata": {},
   "source": [
    "* [Binance futures contract specifications](https://www.binance.com/en/support/faq/a3401595e1734084959c61491bc0dbe3)"
   ]
  },
  {
   "cell_type": "code",
   "execution_count": 9,
   "metadata": {},
   "outputs": [
    {
     "data": {
      "text/html": "<div>\n<style scoped>\n    .dataframe tbody tr th:only-of-type {\n        vertical-align: middle;\n    }\n\n    .dataframe tbody tr th {\n        vertical-align: top;\n    }\n\n    .dataframe thead th {\n        text-align: right;\n    }\n</style>\n<table border=\"1\" class=\"dataframe\">\n  <thead>\n    <tr style=\"text-align: right;\">\n      <th></th>\n      <th>id</th>\n      <th>price</th>\n      <th>qty</th>\n      <th>quoteQty</th>\n      <th>time</th>\n      <th>isBuyerMaker</th>\n      <th>isBestMatch</th>\n    </tr>\n  </thead>\n  <tbody>\n    <tr>\n      <th>0</th>\n      <td>12971081</td>\n      <td>46104.1700</td>\n      <td>0.00000200</td>\n      <td>0.0922</td>\n      <td>1621203395462</td>\n      <td>False</td>\n      <td>True</td>\n    </tr>\n    <tr>\n      <th>1</th>\n      <td>12971082</td>\n      <td>46104.1800</td>\n      <td>0.02323700</td>\n      <td>1071.3228</td>\n      <td>1621203395462</td>\n      <td>False</td>\n      <td>True</td>\n    </tr>\n    <tr>\n      <th>2</th>\n      <td>12971083</td>\n      <td>46104.1800</td>\n      <td>0.00163000</td>\n      <td>75.1498</td>\n      <td>1621203395476</td>\n      <td>False</td>\n      <td>True</td>\n    </tr>\n    <tr>\n      <th>3</th>\n      <td>12971084</td>\n      <td>46104.1800</td>\n      <td>0.00000700</td>\n      <td>0.3227</td>\n      <td>1621203395487</td>\n      <td>False</td>\n      <td>True</td>\n    </tr>\n    <tr>\n      <th>4</th>\n      <td>12971085</td>\n      <td>46111.0300</td>\n      <td>0.00424600</td>\n      <td>195.7874</td>\n      <td>1621203395487</td>\n      <td>False</td>\n      <td>True</td>\n    </tr>\n    <tr>\n      <th>5</th>\n      <td>12971086</td>\n      <td>46115.2300</td>\n      <td>0.00809900</td>\n      <td>373.4872</td>\n      <td>1621203395487</td>\n      <td>False</td>\n      <td>True</td>\n    </tr>\n    <tr>\n      <th>6</th>\n      <td>12971087</td>\n      <td>46105.7700</td>\n      <td>0.00025000</td>\n      <td>11.5264</td>\n      <td>1621203396612</td>\n      <td>True</td>\n      <td>True</td>\n    </tr>\n    <tr>\n      <th>7</th>\n      <td>12971088</td>\n      <td>46123.6600</td>\n      <td>0.01188000</td>\n      <td>547.9490</td>\n      <td>1621203397649</td>\n      <td>False</td>\n      <td>True</td>\n    </tr>\n    <tr>\n      <th>8</th>\n      <td>12971089</td>\n      <td>46116.8100</td>\n      <td>0.00154200</td>\n      <td>71.1121</td>\n      <td>1621203398955</td>\n      <td>True</td>\n      <td>True</td>\n    </tr>\n    <tr>\n      <th>9</th>\n      <td>12971090</td>\n      <td>46116.5200</td>\n      <td>0.00021500</td>\n      <td>9.9150</td>\n      <td>1621203398955</td>\n      <td>True</td>\n      <td>True</td>\n    </tr>\n  </tbody>\n</table>\n</div>",
      "text/plain": "         id       price         qty   quoteQty           time  isBuyerMaker  \\\n0  12971081  46104.1700  0.00000200     0.0922  1621203395462         False   \n1  12971082  46104.1800  0.02323700  1071.3228  1621203395462         False   \n2  12971083  46104.1800  0.00163000    75.1498  1621203395476         False   \n3  12971084  46104.1800  0.00000700     0.3227  1621203395487         False   \n4  12971085  46111.0300  0.00424600   195.7874  1621203395487         False   \n5  12971086  46115.2300  0.00809900   373.4872  1621203395487         False   \n6  12971087  46105.7700  0.00025000    11.5264  1621203396612          True   \n7  12971088  46123.6600  0.01188000   547.9490  1621203397649         False   \n8  12971089  46116.8100  0.00154200    71.1121  1621203398955          True   \n9  12971090  46116.5200  0.00021500     9.9150  1621203398955          True   \n\n   isBestMatch  \n0         True  \n1         True  \n2         True  \n3         True  \n4         True  \n5         True  \n6         True  \n7         True  \n8         True  \n9         True  "
     },
     "execution_count": 9,
     "metadata": {},
     "output_type": "execute_result"
    }
   ],
   "source": [
    "base_url = \"https://api.binance.us\"\n",
    "end_point = \"/api/v3/trades\"\n",
    "\n",
    "ts = int(time.time() * 1000)\n",
    "request = Request('GET', f\"{base_url}{end_point}\", params={\"limit\": 10, \"symbol\": \"BTCUSD\"})\n",
    "prepared = request.prepare()\n",
    "\n",
    "if False:\n",
    "    signature_payload = f'{ts}{prepared.method}{prepared.path_url}'.encode()\n",
    "    signature = hmac.new(os.getenv(\"FTX_API_SECRET\").encode(), signature_payload, 'sha256').hexdigest()\n",
    "\n",
    "    request.headers[f'FTXUS-KEY'] = os.getenv(\"FTX_API_KEY\")\n",
    "    request.headers[f'FTXUS-SIGN'] = signature\n",
    "    request.headers[f'FTXUS-TS'] = str(ts)\n",
    "    prepared = request.prepare()\n",
    "\n",
    "resp = Session().send(prepared)\n",
    "pd.DataFrame(resp.json())"
   ]
  },
  {
   "cell_type": "markdown",
   "metadata": {},
   "source": [
    "## Contracts"
   ]
  },
  {
   "cell_type": "code",
   "execution_count": 105,
   "metadata": {},
   "outputs": [
    {
     "data": {
      "application/vnd.plotly.v1+json": {
       "config": {
        "plotlyServerURL": "https://plot.ly"
       },
       "data": [
        {
         "close": [
          "57399.06",
          "57836.34",
          "56682.01",
          "56654.38",
          "56630.33",
          "58845.47",
          "57682.93",
          "57214.83",
          "55951.22",
          "53881.84",
          "53263.32",
          "54901.33",
          "57596.10",
          "57497.77",
          "56865.01",
          "57173.49",
          "56435.35",
          "55854.40",
          "57558.06",
          "57350.88",
          "58500.00",
          "57660.76",
          "58924.98",
          "57997.20",
          "57461.83",
          "58292.53",
          "58465.01",
          "58359.23",
          "55869.67",
          "55792.83",
          "56084.25",
          "56710.43",
          "57177.01",
          "55540.65",
          "49595.76",
          "50893.36",
          "49679.57",
          "49707.90",
          "50043.74",
          "51241.26",
          "49873.27",
          "48510.00",
          "49019.96",
          "46793.41",
          "49400.00",
          "47812.34",
          "46429.28",
          "45182.45",
          "43401.14",
          "43566.18",
          "45175.91",
          "43000.01",
          "42882.53",
          "40372.57",
          "37304.85",
          "38197.26"
         ],
         "high": [
          "58097.79",
          "58075.39",
          "57959.97",
          "57355.00",
          "57205.85",
          "58907.60",
          "59056.59",
          "58230.00",
          "57253.76",
          "56670.00",
          "54879.76",
          "55462.80",
          "57700.00",
          "57940.00",
          "57674.98",
          "58450.00",
          "57564.88",
          "57179.13",
          "57730.36",
          "58800.00",
          "58688.00",
          "59513.69",
          "59590.96",
          "59335.19",
          "58437.02",
          "58472.55",
          "59654.00",
          "58695.57",
          "58671.01",
          "56500.00",
          "56262.61",
          "56908.66",
          "58049.99",
          "57265.00",
          "55719.49",
          "51358.00",
          "50963.89",
          "50464.21",
          "50414.05",
          "51533.00",
          "51348.35",
          "50709.43",
          "49594.42",
          "49033.08",
          "49520.00",
          "49829.39",
          "48162.92",
          "46655.00",
          "45874.20",
          "44995.00",
          "45846.61",
          "45692.56",
          "43849.41",
          "43615.93",
          "40853.00",
          "40497.81"
         ],
         "low": [
          "57051.23",
          "57249.44",
          "56200.00",
          "56100.00",
          "56250.00",
          "56559.80",
          "57322.94",
          "56500.65",
          "54450.31",
          "53558.57",
          "53094.59",
          "52880.38",
          "54750.87",
          "56694.66",
          "56423.01",
          "56843.00",
          "55297.91",
          "55300.00",
          "55645.25",
          "56820.00",
          "56961.25",
          "57529.94",
          "57660.76",
          "57731.37",
          "56316.00",
          "57085.95",
          "58088.88",
          "56700.00",
          "53250.00",
          "54541.33",
          "54821.00",
          "55800.00",
          "56600.00",
          "55300.00",
          "48503.74",
          "45596.32",
          "48500.00",
          "46994.97",
          "48870.41",
          "49941.05",
          "49064.71",
          "48404.00",
          "47809.27",
          "46584.32",
          "46481.14",
          "47694.71",
          "43866.00",
          "42200.00",
          "43207.31",
          "42151.00",
          "43189.26",
          "42675.00",
          "42268.00",
          "38500.00",
          "28688.00",
          "36080.74"
         ],
         "open": [
          "57771.38",
          "57395.33",
          "57836.35",
          "56682.01",
          "56654.37",
          "56630.34",
          "58847.37",
          "57682.93",
          "57214.84",
          "55955.03",
          "53876.71",
          "53263.32",
          "54901.33",
          "57596.09",
          "57497.76",
          "56865.02",
          "57173.48",
          "56435.35",
          "55854.41",
          "57558.07",
          "57350.89",
          "58500.00",
          "57660.76",
          "58926.36",
          "57997.21",
          "57461.84",
          "58292.53",
          "58465.00",
          "58359.24",
          "55869.41",
          "55792.83",
          "56086.62",
          "56712.70",
          "57176.69",
          "55540.65",
          "49596.75",
          "50893.36",
          "49678.96",
          "49706.27",
          "50045.73",
          "51240.99",
          "49873.26",
          "48510.01",
          "49019.97",
          "46794.62",
          "49400.00",
          "47812.33",
          "46429.28",
          "45175.74",
          "43401.14",
          "43565.11",
          "45175.90",
          "43000.00",
          "42882.54",
          "40369.92",
          "37304.85"
         ],
         "type": "candlestick",
         "x": [
          "2021-05-01T08:00:00",
          "2021-05-01T16:00:00",
          "2021-05-02T00:00:00",
          "2021-05-02T08:00:00",
          "2021-05-02T16:00:00",
          "2021-05-03T00:00:00",
          "2021-05-03T08:00:00",
          "2021-05-03T16:00:00",
          "2021-05-04T00:00:00",
          "2021-05-04T08:00:00",
          "2021-05-04T16:00:00",
          "2021-05-05T00:00:00",
          "2021-05-05T08:00:00",
          "2021-05-05T16:00:00",
          "2021-05-06T00:00:00",
          "2021-05-06T08:00:00",
          "2021-05-06T16:00:00",
          "2021-05-07T00:00:00",
          "2021-05-07T08:00:00",
          "2021-05-07T16:00:00",
          "2021-05-08T00:00:00",
          "2021-05-08T08:00:00",
          "2021-05-08T16:00:00",
          "2021-05-09T00:00:00",
          "2021-05-09T08:00:00",
          "2021-05-09T16:00:00",
          "2021-05-10T00:00:00",
          "2021-05-10T08:00:00",
          "2021-05-10T16:00:00",
          "2021-05-11T00:00:00",
          "2021-05-11T08:00:00",
          "2021-05-11T16:00:00",
          "2021-05-12T00:00:00",
          "2021-05-12T08:00:00",
          "2021-05-12T16:00:00",
          "2021-05-13T00:00:00",
          "2021-05-13T08:00:00",
          "2021-05-13T16:00:00",
          "2021-05-14T00:00:00",
          "2021-05-14T08:00:00",
          "2021-05-14T16:00:00",
          "2021-05-15T00:00:00",
          "2021-05-15T08:00:00",
          "2021-05-15T16:00:00",
          "2021-05-16T00:00:00",
          "2021-05-16T08:00:00",
          "2021-05-16T16:00:00",
          "2021-05-17T00:00:00",
          "2021-05-17T08:00:00",
          "2021-05-17T16:00:00",
          "2021-05-18T00:00:00",
          "2021-05-18T08:00:00",
          "2021-05-18T16:00:00",
          "2021-05-19T00:00:00",
          "2021-05-19T08:00:00",
          "2021-05-19T16:00:00"
         ],
         "xaxis": "x",
         "yaxis": "y"
        },
        {
         "marker": {
          "color": "#4C78A8"
         },
         "type": "bar",
         "x": [
          "2021-05-01T08:00:00",
          "2021-05-01T16:00:00",
          "2021-05-02T00:00:00",
          "2021-05-02T08:00:00",
          "2021-05-02T16:00:00",
          "2021-05-03T00:00:00",
          "2021-05-03T08:00:00",
          "2021-05-03T16:00:00",
          "2021-05-04T00:00:00",
          "2021-05-04T08:00:00",
          "2021-05-04T16:00:00",
          "2021-05-05T00:00:00",
          "2021-05-05T08:00:00",
          "2021-05-05T16:00:00",
          "2021-05-06T00:00:00",
          "2021-05-06T08:00:00",
          "2021-05-06T16:00:00",
          "2021-05-07T00:00:00",
          "2021-05-07T08:00:00",
          "2021-05-07T16:00:00",
          "2021-05-08T00:00:00",
          "2021-05-08T08:00:00",
          "2021-05-08T16:00:00",
          "2021-05-09T00:00:00",
          "2021-05-09T08:00:00",
          "2021-05-09T16:00:00",
          "2021-05-10T00:00:00",
          "2021-05-10T08:00:00",
          "2021-05-10T16:00:00",
          "2021-05-11T00:00:00",
          "2021-05-11T08:00:00",
          "2021-05-11T16:00:00",
          "2021-05-12T00:00:00",
          "2021-05-12T08:00:00",
          "2021-05-12T16:00:00",
          "2021-05-13T00:00:00",
          "2021-05-13T08:00:00",
          "2021-05-13T16:00:00",
          "2021-05-14T00:00:00",
          "2021-05-14T08:00:00",
          "2021-05-14T16:00:00",
          "2021-05-15T00:00:00",
          "2021-05-15T08:00:00",
          "2021-05-15T16:00:00",
          "2021-05-16T00:00:00",
          "2021-05-16T08:00:00",
          "2021-05-16T16:00:00",
          "2021-05-17T00:00:00",
          "2021-05-17T08:00:00",
          "2021-05-17T16:00:00",
          "2021-05-18T00:00:00",
          "2021-05-18T08:00:00",
          "2021-05-18T16:00:00",
          "2021-05-19T00:00:00",
          "2021-05-19T08:00:00",
          "2021-05-19T16:00:00"
         ],
         "xaxis": "x2",
         "y": [
          "82032.005",
          "51078.212",
          "73736.020",
          "77622.071",
          "52354.424",
          "84217.974",
          "100038.907",
          "87477.091",
          "126643.907",
          "155731.249",
          "106613.598",
          "91018.191",
          "135959.190",
          "90834.324",
          "74663.908",
          "97137.861",
          "103675.214",
          "75060.303",
          "87942.852",
          "93156.349",
          "67110.124",
          "121138.079",
          "76658.526",
          "83842.472",
          "105955.991",
          "56155.551",
          "75661.786",
          "135569.005",
          "185006.342",
          "100717.898",
          "101836.906",
          "64671.300",
          "72177.946",
          "134271.586",
          "265879.620",
          "232157.417",
          "197753.853",
          "222565.419",
          "107642.927",
          "109346.802",
          "102079.273",
          "118435.046",
          "140513.622",
          "183074.828",
          "120114.124",
          "128860.061",
          "355563.445",
          "319839.908",
          "218467.728",
          "270821.729",
          "155125.366",
          "231277.761",
          "203955.465",
          "445211.508",
          "581539.299",
          "175544.679"
         ],
         "yaxis": "y2"
        }
       ],
       "layout": {
        "showlegend": false,
        "template": {
         "data": {
          "bar": [
           {
            "error_x": {
             "color": "rgb(36,36,36)"
            },
            "error_y": {
             "color": "rgb(36,36,36)"
            },
            "marker": {
             "line": {
              "color": "rgb(234,234,242)",
              "width": 0.5
             }
            },
            "type": "bar"
           }
          ],
          "barpolar": [
           {
            "marker": {
             "line": {
              "color": "rgb(234,234,242)",
              "width": 0.5
             }
            },
            "type": "barpolar"
           }
          ],
          "carpet": [
           {
            "aaxis": {
             "endlinecolor": "rgb(36,36,36)",
             "gridcolor": "white",
             "linecolor": "white",
             "minorgridcolor": "white",
             "startlinecolor": "rgb(36,36,36)"
            },
            "baxis": {
             "endlinecolor": "rgb(36,36,36)",
             "gridcolor": "white",
             "linecolor": "white",
             "minorgridcolor": "white",
             "startlinecolor": "rgb(36,36,36)"
            },
            "type": "carpet"
           }
          ],
          "choropleth": [
           {
            "colorbar": {
             "outlinewidth": 0,
             "tickcolor": "rgb(36,36,36)",
             "ticklen": 8,
             "ticks": "outside",
             "tickwidth": 2
            },
            "type": "choropleth"
           }
          ],
          "contour": [
           {
            "colorbar": {
             "outlinewidth": 0,
             "tickcolor": "rgb(36,36,36)",
             "ticklen": 8,
             "ticks": "outside",
             "tickwidth": 2
            },
            "colorscale": [
             [
              0,
              "rgb(2,4,25)"
             ],
             [
              0.06274509803921569,
              "rgb(24,15,41)"
             ],
             [
              0.12549019607843137,
              "rgb(47,23,57)"
             ],
             [
              0.18823529411764706,
              "rgb(71,28,72)"
             ],
             [
              0.25098039215686274,
              "rgb(97,30,82)"
             ],
             [
              0.3137254901960784,
              "rgb(123,30,89)"
             ],
             [
              0.3764705882352941,
              "rgb(150,27,91)"
             ],
             [
              0.4392156862745098,
              "rgb(177,22,88)"
             ],
             [
              0.5019607843137255,
              "rgb(203,26,79)"
             ],
             [
              0.5647058823529412,
              "rgb(223,47,67)"
             ],
             [
              0.6274509803921569,
              "rgb(236,76,61)"
             ],
             [
              0.6901960784313725,
              "rgb(242,107,73)"
             ],
             [
              0.7529411764705882,
              "rgb(244,135,95)"
             ],
             [
              0.8156862745098039,
              "rgb(245,162,122)"
             ],
             [
              0.8784313725490196,
              "rgb(246,188,153)"
             ],
             [
              0.9411764705882353,
              "rgb(247,212,187)"
             ],
             [
              1,
              "rgb(250,234,220)"
             ]
            ],
            "type": "contour"
           }
          ],
          "contourcarpet": [
           {
            "colorbar": {
             "outlinewidth": 0,
             "tickcolor": "rgb(36,36,36)",
             "ticklen": 8,
             "ticks": "outside",
             "tickwidth": 2
            },
            "type": "contourcarpet"
           }
          ],
          "heatmap": [
           {
            "colorbar": {
             "outlinewidth": 0,
             "tickcolor": "rgb(36,36,36)",
             "ticklen": 8,
             "ticks": "outside",
             "tickwidth": 2
            },
            "colorscale": [
             [
              0,
              "rgb(2,4,25)"
             ],
             [
              0.06274509803921569,
              "rgb(24,15,41)"
             ],
             [
              0.12549019607843137,
              "rgb(47,23,57)"
             ],
             [
              0.18823529411764706,
              "rgb(71,28,72)"
             ],
             [
              0.25098039215686274,
              "rgb(97,30,82)"
             ],
             [
              0.3137254901960784,
              "rgb(123,30,89)"
             ],
             [
              0.3764705882352941,
              "rgb(150,27,91)"
             ],
             [
              0.4392156862745098,
              "rgb(177,22,88)"
             ],
             [
              0.5019607843137255,
              "rgb(203,26,79)"
             ],
             [
              0.5647058823529412,
              "rgb(223,47,67)"
             ],
             [
              0.6274509803921569,
              "rgb(236,76,61)"
             ],
             [
              0.6901960784313725,
              "rgb(242,107,73)"
             ],
             [
              0.7529411764705882,
              "rgb(244,135,95)"
             ],
             [
              0.8156862745098039,
              "rgb(245,162,122)"
             ],
             [
              0.8784313725490196,
              "rgb(246,188,153)"
             ],
             [
              0.9411764705882353,
              "rgb(247,212,187)"
             ],
             [
              1,
              "rgb(250,234,220)"
             ]
            ],
            "type": "heatmap"
           }
          ],
          "heatmapgl": [
           {
            "colorbar": {
             "outlinewidth": 0,
             "tickcolor": "rgb(36,36,36)",
             "ticklen": 8,
             "ticks": "outside",
             "tickwidth": 2
            },
            "colorscale": [
             [
              0,
              "rgb(2,4,25)"
             ],
             [
              0.06274509803921569,
              "rgb(24,15,41)"
             ],
             [
              0.12549019607843137,
              "rgb(47,23,57)"
             ],
             [
              0.18823529411764706,
              "rgb(71,28,72)"
             ],
             [
              0.25098039215686274,
              "rgb(97,30,82)"
             ],
             [
              0.3137254901960784,
              "rgb(123,30,89)"
             ],
             [
              0.3764705882352941,
              "rgb(150,27,91)"
             ],
             [
              0.4392156862745098,
              "rgb(177,22,88)"
             ],
             [
              0.5019607843137255,
              "rgb(203,26,79)"
             ],
             [
              0.5647058823529412,
              "rgb(223,47,67)"
             ],
             [
              0.6274509803921569,
              "rgb(236,76,61)"
             ],
             [
              0.6901960784313725,
              "rgb(242,107,73)"
             ],
             [
              0.7529411764705882,
              "rgb(244,135,95)"
             ],
             [
              0.8156862745098039,
              "rgb(245,162,122)"
             ],
             [
              0.8784313725490196,
              "rgb(246,188,153)"
             ],
             [
              0.9411764705882353,
              "rgb(247,212,187)"
             ],
             [
              1,
              "rgb(250,234,220)"
             ]
            ],
            "type": "heatmapgl"
           }
          ],
          "histogram": [
           {
            "marker": {
             "colorbar": {
              "outlinewidth": 0,
              "tickcolor": "rgb(36,36,36)",
              "ticklen": 8,
              "ticks": "outside",
              "tickwidth": 2
             }
            },
            "type": "histogram"
           }
          ],
          "histogram2d": [
           {
            "colorbar": {
             "outlinewidth": 0,
             "tickcolor": "rgb(36,36,36)",
             "ticklen": 8,
             "ticks": "outside",
             "tickwidth": 2
            },
            "colorscale": [
             [
              0,
              "rgb(2,4,25)"
             ],
             [
              0.06274509803921569,
              "rgb(24,15,41)"
             ],
             [
              0.12549019607843137,
              "rgb(47,23,57)"
             ],
             [
              0.18823529411764706,
              "rgb(71,28,72)"
             ],
             [
              0.25098039215686274,
              "rgb(97,30,82)"
             ],
             [
              0.3137254901960784,
              "rgb(123,30,89)"
             ],
             [
              0.3764705882352941,
              "rgb(150,27,91)"
             ],
             [
              0.4392156862745098,
              "rgb(177,22,88)"
             ],
             [
              0.5019607843137255,
              "rgb(203,26,79)"
             ],
             [
              0.5647058823529412,
              "rgb(223,47,67)"
             ],
             [
              0.6274509803921569,
              "rgb(236,76,61)"
             ],
             [
              0.6901960784313725,
              "rgb(242,107,73)"
             ],
             [
              0.7529411764705882,
              "rgb(244,135,95)"
             ],
             [
              0.8156862745098039,
              "rgb(245,162,122)"
             ],
             [
              0.8784313725490196,
              "rgb(246,188,153)"
             ],
             [
              0.9411764705882353,
              "rgb(247,212,187)"
             ],
             [
              1,
              "rgb(250,234,220)"
             ]
            ],
            "type": "histogram2d"
           }
          ],
          "histogram2dcontour": [
           {
            "colorbar": {
             "outlinewidth": 0,
             "tickcolor": "rgb(36,36,36)",
             "ticklen": 8,
             "ticks": "outside",
             "tickwidth": 2
            },
            "colorscale": [
             [
              0,
              "rgb(2,4,25)"
             ],
             [
              0.06274509803921569,
              "rgb(24,15,41)"
             ],
             [
              0.12549019607843137,
              "rgb(47,23,57)"
             ],
             [
              0.18823529411764706,
              "rgb(71,28,72)"
             ],
             [
              0.25098039215686274,
              "rgb(97,30,82)"
             ],
             [
              0.3137254901960784,
              "rgb(123,30,89)"
             ],
             [
              0.3764705882352941,
              "rgb(150,27,91)"
             ],
             [
              0.4392156862745098,
              "rgb(177,22,88)"
             ],
             [
              0.5019607843137255,
              "rgb(203,26,79)"
             ],
             [
              0.5647058823529412,
              "rgb(223,47,67)"
             ],
             [
              0.6274509803921569,
              "rgb(236,76,61)"
             ],
             [
              0.6901960784313725,
              "rgb(242,107,73)"
             ],
             [
              0.7529411764705882,
              "rgb(244,135,95)"
             ],
             [
              0.8156862745098039,
              "rgb(245,162,122)"
             ],
             [
              0.8784313725490196,
              "rgb(246,188,153)"
             ],
             [
              0.9411764705882353,
              "rgb(247,212,187)"
             ],
             [
              1,
              "rgb(250,234,220)"
             ]
            ],
            "type": "histogram2dcontour"
           }
          ],
          "mesh3d": [
           {
            "colorbar": {
             "outlinewidth": 0,
             "tickcolor": "rgb(36,36,36)",
             "ticklen": 8,
             "ticks": "outside",
             "tickwidth": 2
            },
            "type": "mesh3d"
           }
          ],
          "parcoords": [
           {
            "line": {
             "colorbar": {
              "outlinewidth": 0,
              "tickcolor": "rgb(36,36,36)",
              "ticklen": 8,
              "ticks": "outside",
              "tickwidth": 2
             }
            },
            "type": "parcoords"
           }
          ],
          "pie": [
           {
            "automargin": true,
            "type": "pie"
           }
          ],
          "scatter": [
           {
            "marker": {
             "colorbar": {
              "outlinewidth": 0,
              "tickcolor": "rgb(36,36,36)",
              "ticklen": 8,
              "ticks": "outside",
              "tickwidth": 2
             }
            },
            "type": "scatter"
           }
          ],
          "scatter3d": [
           {
            "line": {
             "colorbar": {
              "outlinewidth": 0,
              "tickcolor": "rgb(36,36,36)",
              "ticklen": 8,
              "ticks": "outside",
              "tickwidth": 2
             }
            },
            "marker": {
             "colorbar": {
              "outlinewidth": 0,
              "tickcolor": "rgb(36,36,36)",
              "ticklen": 8,
              "ticks": "outside",
              "tickwidth": 2
             }
            },
            "type": "scatter3d"
           }
          ],
          "scattercarpet": [
           {
            "marker": {
             "colorbar": {
              "outlinewidth": 0,
              "tickcolor": "rgb(36,36,36)",
              "ticklen": 8,
              "ticks": "outside",
              "tickwidth": 2
             }
            },
            "type": "scattercarpet"
           }
          ],
          "scattergeo": [
           {
            "marker": {
             "colorbar": {
              "outlinewidth": 0,
              "tickcolor": "rgb(36,36,36)",
              "ticklen": 8,
              "ticks": "outside",
              "tickwidth": 2
             }
            },
            "type": "scattergeo"
           }
          ],
          "scattergl": [
           {
            "marker": {
             "colorbar": {
              "outlinewidth": 0,
              "tickcolor": "rgb(36,36,36)",
              "ticklen": 8,
              "ticks": "outside",
              "tickwidth": 2
             }
            },
            "type": "scattergl"
           }
          ],
          "scattermapbox": [
           {
            "marker": {
             "colorbar": {
              "outlinewidth": 0,
              "tickcolor": "rgb(36,36,36)",
              "ticklen": 8,
              "ticks": "outside",
              "tickwidth": 2
             }
            },
            "type": "scattermapbox"
           }
          ],
          "scatterpolar": [
           {
            "marker": {
             "colorbar": {
              "outlinewidth": 0,
              "tickcolor": "rgb(36,36,36)",
              "ticklen": 8,
              "ticks": "outside",
              "tickwidth": 2
             }
            },
            "type": "scatterpolar"
           }
          ],
          "scatterpolargl": [
           {
            "marker": {
             "colorbar": {
              "outlinewidth": 0,
              "tickcolor": "rgb(36,36,36)",
              "ticklen": 8,
              "ticks": "outside",
              "tickwidth": 2
             }
            },
            "type": "scatterpolargl"
           }
          ],
          "scatterternary": [
           {
            "marker": {
             "colorbar": {
              "outlinewidth": 0,
              "tickcolor": "rgb(36,36,36)",
              "ticklen": 8,
              "ticks": "outside",
              "tickwidth": 2
             }
            },
            "type": "scatterternary"
           }
          ],
          "surface": [
           {
            "colorbar": {
             "outlinewidth": 0,
             "tickcolor": "rgb(36,36,36)",
             "ticklen": 8,
             "ticks": "outside",
             "tickwidth": 2
            },
            "colorscale": [
             [
              0,
              "rgb(2,4,25)"
             ],
             [
              0.06274509803921569,
              "rgb(24,15,41)"
             ],
             [
              0.12549019607843137,
              "rgb(47,23,57)"
             ],
             [
              0.18823529411764706,
              "rgb(71,28,72)"
             ],
             [
              0.25098039215686274,
              "rgb(97,30,82)"
             ],
             [
              0.3137254901960784,
              "rgb(123,30,89)"
             ],
             [
              0.3764705882352941,
              "rgb(150,27,91)"
             ],
             [
              0.4392156862745098,
              "rgb(177,22,88)"
             ],
             [
              0.5019607843137255,
              "rgb(203,26,79)"
             ],
             [
              0.5647058823529412,
              "rgb(223,47,67)"
             ],
             [
              0.6274509803921569,
              "rgb(236,76,61)"
             ],
             [
              0.6901960784313725,
              "rgb(242,107,73)"
             ],
             [
              0.7529411764705882,
              "rgb(244,135,95)"
             ],
             [
              0.8156862745098039,
              "rgb(245,162,122)"
             ],
             [
              0.8784313725490196,
              "rgb(246,188,153)"
             ],
             [
              0.9411764705882353,
              "rgb(247,212,187)"
             ],
             [
              1,
              "rgb(250,234,220)"
             ]
            ],
            "type": "surface"
           }
          ],
          "table": [
           {
            "cells": {
             "fill": {
              "color": "rgb(231,231,240)"
             },
             "line": {
              "color": "white"
             }
            },
            "header": {
             "fill": {
              "color": "rgb(183,183,191)"
             },
             "line": {
              "color": "white"
             }
            },
            "type": "table"
           }
          ]
         },
         "layout": {
          "annotationdefaults": {
           "arrowcolor": "rgb(67,103,167)"
          },
          "autotypenumbers": "strict",
          "coloraxis": {
           "colorbar": {
            "outlinewidth": 0,
            "tickcolor": "rgb(36,36,36)",
            "ticklen": 8,
            "ticks": "outside",
            "tickwidth": 2
           }
          },
          "colorscale": {
           "sequential": [
            [
             0,
             "rgb(2,4,25)"
            ],
            [
             0.06274509803921569,
             "rgb(24,15,41)"
            ],
            [
             0.12549019607843137,
             "rgb(47,23,57)"
            ],
            [
             0.18823529411764706,
             "rgb(71,28,72)"
            ],
            [
             0.25098039215686274,
             "rgb(97,30,82)"
            ],
            [
             0.3137254901960784,
             "rgb(123,30,89)"
            ],
            [
             0.3764705882352941,
             "rgb(150,27,91)"
            ],
            [
             0.4392156862745098,
             "rgb(177,22,88)"
            ],
            [
             0.5019607843137255,
             "rgb(203,26,79)"
            ],
            [
             0.5647058823529412,
             "rgb(223,47,67)"
            ],
            [
             0.6274509803921569,
             "rgb(236,76,61)"
            ],
            [
             0.6901960784313725,
             "rgb(242,107,73)"
            ],
            [
             0.7529411764705882,
             "rgb(244,135,95)"
            ],
            [
             0.8156862745098039,
             "rgb(245,162,122)"
            ],
            [
             0.8784313725490196,
             "rgb(246,188,153)"
            ],
            [
             0.9411764705882353,
             "rgb(247,212,187)"
            ],
            [
             1,
             "rgb(250,234,220)"
            ]
           ],
           "sequentialminus": [
            [
             0,
             "rgb(2,4,25)"
            ],
            [
             0.06274509803921569,
             "rgb(24,15,41)"
            ],
            [
             0.12549019607843137,
             "rgb(47,23,57)"
            ],
            [
             0.18823529411764706,
             "rgb(71,28,72)"
            ],
            [
             0.25098039215686274,
             "rgb(97,30,82)"
            ],
            [
             0.3137254901960784,
             "rgb(123,30,89)"
            ],
            [
             0.3764705882352941,
             "rgb(150,27,91)"
            ],
            [
             0.4392156862745098,
             "rgb(177,22,88)"
            ],
            [
             0.5019607843137255,
             "rgb(203,26,79)"
            ],
            [
             0.5647058823529412,
             "rgb(223,47,67)"
            ],
            [
             0.6274509803921569,
             "rgb(236,76,61)"
            ],
            [
             0.6901960784313725,
             "rgb(242,107,73)"
            ],
            [
             0.7529411764705882,
             "rgb(244,135,95)"
            ],
            [
             0.8156862745098039,
             "rgb(245,162,122)"
            ],
            [
             0.8784313725490196,
             "rgb(246,188,153)"
            ],
            [
             0.9411764705882353,
             "rgb(247,212,187)"
            ],
            [
             1,
             "rgb(250,234,220)"
            ]
           ]
          },
          "colorway": [
           "rgb(76,114,176)",
           "rgb(221,132,82)",
           "rgb(85,168,104)",
           "rgb(196,78,82)",
           "rgb(129,114,179)",
           "rgb(147,120,96)",
           "rgb(218,139,195)",
           "rgb(140,140,140)",
           "rgb(204,185,116)",
           "rgb(100,181,205)"
          ],
          "font": {
           "color": "rgb(36,36,36)"
          },
          "geo": {
           "bgcolor": "white",
           "lakecolor": "white",
           "landcolor": "rgb(234,234,242)",
           "showlakes": true,
           "showland": true,
           "subunitcolor": "white"
          },
          "hoverlabel": {
           "align": "left"
          },
          "hovermode": "closest",
          "paper_bgcolor": "white",
          "plot_bgcolor": "rgb(234,234,242)",
          "polar": {
           "angularaxis": {
            "gridcolor": "white",
            "linecolor": "white",
            "showgrid": true,
            "ticks": ""
           },
           "bgcolor": "rgb(234,234,242)",
           "radialaxis": {
            "gridcolor": "white",
            "linecolor": "white",
            "showgrid": true,
            "ticks": ""
           }
          },
          "scene": {
           "xaxis": {
            "backgroundcolor": "rgb(234,234,242)",
            "gridcolor": "white",
            "gridwidth": 2,
            "linecolor": "white",
            "showbackground": true,
            "showgrid": true,
            "ticks": "",
            "zerolinecolor": "white"
           },
           "yaxis": {
            "backgroundcolor": "rgb(234,234,242)",
            "gridcolor": "white",
            "gridwidth": 2,
            "linecolor": "white",
            "showbackground": true,
            "showgrid": true,
            "ticks": "",
            "zerolinecolor": "white"
           },
           "zaxis": {
            "backgroundcolor": "rgb(234,234,242)",
            "gridcolor": "white",
            "gridwidth": 2,
            "linecolor": "white",
            "showbackground": true,
            "showgrid": true,
            "ticks": "",
            "zerolinecolor": "white"
           }
          },
          "shapedefaults": {
           "fillcolor": "rgb(67,103,167)",
           "line": {
            "width": 0
           },
           "opacity": 0.5
          },
          "ternary": {
           "aaxis": {
            "gridcolor": "white",
            "linecolor": "white",
            "showgrid": true,
            "ticks": ""
           },
           "baxis": {
            "gridcolor": "white",
            "linecolor": "white",
            "showgrid": true,
            "ticks": ""
           },
           "bgcolor": "rgb(234,234,242)",
           "caxis": {
            "gridcolor": "white",
            "linecolor": "white",
            "showgrid": true,
            "ticks": ""
           }
          },
          "xaxis": {
           "automargin": true,
           "gridcolor": "white",
           "linecolor": "white",
           "showgrid": true,
           "ticks": "",
           "title": {
            "standoff": 15
           },
           "zerolinecolor": "white"
          },
          "yaxis": {
           "automargin": true,
           "gridcolor": "white",
           "linecolor": "white",
           "showgrid": true,
           "ticks": "",
           "title": {
            "standoff": 15
           },
           "zerolinecolor": "white"
          }
         }
        },
        "title": {
         "text": "BTCUSDT Perpetual OHLC 8 Hour Intervals"
        },
        "xaxis": {
         "anchor": "y",
         "domain": [
          0,
          1
         ],
         "matches": "x2",
         "rangeslider": {
          "visible": false
         },
         "showticklabels": false
        },
        "xaxis2": {
         "anchor": "y2",
         "domain": [
          0,
          1
         ]
        },
        "yaxis": {
         "anchor": "x",
         "domain": [
          0.24555555555555558,
          1
         ]
        },
        "yaxis2": {
         "anchor": "x2",
         "domain": [
          0,
          0.21555555555555558
         ]
        }
       }
      },
      "text/html": "<div>                            <div id=\"26844b43-34b5-4511-867a-9be58d4d8b9b\" class=\"plotly-graph-div\" style=\"height:525px; width:100%;\"></div>            <script type=\"text/javascript\">                require([\"plotly\"], function(Plotly) {                    window.PLOTLYENV=window.PLOTLYENV || {};                                    if (document.getElementById(\"26844b43-34b5-4511-867a-9be58d4d8b9b\")) {                    Plotly.newPlot(                        \"26844b43-34b5-4511-867a-9be58d4d8b9b\",                        [{\"close\": [\"57399.06\", \"57836.34\", \"56682.01\", \"56654.38\", \"56630.33\", \"58845.47\", \"57682.93\", \"57214.83\", \"55951.22\", \"53881.84\", \"53263.32\", \"54901.33\", \"57596.10\", \"57497.77\", \"56865.01\", \"57173.49\", \"56435.35\", \"55854.40\", \"57558.06\", \"57350.88\", \"58500.00\", \"57660.76\", \"58924.98\", \"57997.20\", \"57461.83\", \"58292.53\", \"58465.01\", \"58359.23\", \"55869.67\", \"55792.83\", \"56084.25\", \"56710.43\", \"57177.01\", \"55540.65\", \"49595.76\", \"50893.36\", \"49679.57\", \"49707.90\", \"50043.74\", \"51241.26\", \"49873.27\", \"48510.00\", \"49019.96\", \"46793.41\", \"49400.00\", \"47812.34\", \"46429.28\", \"45182.45\", \"43401.14\", \"43566.18\", \"45175.91\", \"43000.01\", \"42882.53\", \"40372.57\", \"37304.85\", \"38197.26\"], \"high\": [\"58097.79\", \"58075.39\", \"57959.97\", \"57355.00\", \"57205.85\", \"58907.60\", \"59056.59\", \"58230.00\", \"57253.76\", \"56670.00\", \"54879.76\", \"55462.80\", \"57700.00\", \"57940.00\", \"57674.98\", \"58450.00\", \"57564.88\", \"57179.13\", \"57730.36\", \"58800.00\", \"58688.00\", \"59513.69\", \"59590.96\", \"59335.19\", \"58437.02\", \"58472.55\", \"59654.00\", \"58695.57\", \"58671.01\", \"56500.00\", \"56262.61\", \"56908.66\", \"58049.99\", \"57265.00\", \"55719.49\", \"51358.00\", \"50963.89\", \"50464.21\", \"50414.05\", \"51533.00\", \"51348.35\", \"50709.43\", \"49594.42\", \"49033.08\", \"49520.00\", \"49829.39\", \"48162.92\", \"46655.00\", \"45874.20\", \"44995.00\", \"45846.61\", \"45692.56\", \"43849.41\", \"43615.93\", \"40853.00\", \"40497.81\"], \"low\": [\"57051.23\", \"57249.44\", \"56200.00\", \"56100.00\", \"56250.00\", \"56559.80\", \"57322.94\", \"56500.65\", \"54450.31\", \"53558.57\", \"53094.59\", \"52880.38\", \"54750.87\", \"56694.66\", \"56423.01\", \"56843.00\", \"55297.91\", \"55300.00\", \"55645.25\", \"56820.00\", \"56961.25\", \"57529.94\", \"57660.76\", \"57731.37\", \"56316.00\", \"57085.95\", \"58088.88\", \"56700.00\", \"53250.00\", \"54541.33\", \"54821.00\", \"55800.00\", \"56600.00\", \"55300.00\", \"48503.74\", \"45596.32\", \"48500.00\", \"46994.97\", \"48870.41\", \"49941.05\", \"49064.71\", \"48404.00\", \"47809.27\", \"46584.32\", \"46481.14\", \"47694.71\", \"43866.00\", \"42200.00\", \"43207.31\", \"42151.00\", \"43189.26\", \"42675.00\", \"42268.00\", \"38500.00\", \"28688.00\", \"36080.74\"], \"open\": [\"57771.38\", \"57395.33\", \"57836.35\", \"56682.01\", \"56654.37\", \"56630.34\", \"58847.37\", \"57682.93\", \"57214.84\", \"55955.03\", \"53876.71\", \"53263.32\", \"54901.33\", \"57596.09\", \"57497.76\", \"56865.02\", \"57173.48\", \"56435.35\", \"55854.41\", \"57558.07\", \"57350.89\", \"58500.00\", \"57660.76\", \"58926.36\", \"57997.21\", \"57461.84\", \"58292.53\", \"58465.00\", \"58359.24\", \"55869.41\", \"55792.83\", \"56086.62\", \"56712.70\", \"57176.69\", \"55540.65\", \"49596.75\", \"50893.36\", \"49678.96\", \"49706.27\", \"50045.73\", \"51240.99\", \"49873.26\", \"48510.01\", \"49019.97\", \"46794.62\", \"49400.00\", \"47812.33\", \"46429.28\", \"45175.74\", \"43401.14\", \"43565.11\", \"45175.90\", \"43000.00\", \"42882.54\", \"40369.92\", \"37304.85\"], \"type\": \"candlestick\", \"x\": [\"2021-05-01T08:00:00\", \"2021-05-01T16:00:00\", \"2021-05-02T00:00:00\", \"2021-05-02T08:00:00\", \"2021-05-02T16:00:00\", \"2021-05-03T00:00:00\", \"2021-05-03T08:00:00\", \"2021-05-03T16:00:00\", \"2021-05-04T00:00:00\", \"2021-05-04T08:00:00\", \"2021-05-04T16:00:00\", \"2021-05-05T00:00:00\", \"2021-05-05T08:00:00\", \"2021-05-05T16:00:00\", \"2021-05-06T00:00:00\", \"2021-05-06T08:00:00\", \"2021-05-06T16:00:00\", \"2021-05-07T00:00:00\", \"2021-05-07T08:00:00\", \"2021-05-07T16:00:00\", \"2021-05-08T00:00:00\", \"2021-05-08T08:00:00\", \"2021-05-08T16:00:00\", \"2021-05-09T00:00:00\", \"2021-05-09T08:00:00\", \"2021-05-09T16:00:00\", \"2021-05-10T00:00:00\", \"2021-05-10T08:00:00\", \"2021-05-10T16:00:00\", \"2021-05-11T00:00:00\", \"2021-05-11T08:00:00\", \"2021-05-11T16:00:00\", \"2021-05-12T00:00:00\", \"2021-05-12T08:00:00\", \"2021-05-12T16:00:00\", \"2021-05-13T00:00:00\", \"2021-05-13T08:00:00\", \"2021-05-13T16:00:00\", \"2021-05-14T00:00:00\", \"2021-05-14T08:00:00\", \"2021-05-14T16:00:00\", \"2021-05-15T00:00:00\", \"2021-05-15T08:00:00\", \"2021-05-15T16:00:00\", \"2021-05-16T00:00:00\", \"2021-05-16T08:00:00\", \"2021-05-16T16:00:00\", \"2021-05-17T00:00:00\", \"2021-05-17T08:00:00\", \"2021-05-17T16:00:00\", \"2021-05-18T00:00:00\", \"2021-05-18T08:00:00\", \"2021-05-18T16:00:00\", \"2021-05-19T00:00:00\", \"2021-05-19T08:00:00\", \"2021-05-19T16:00:00\"], \"xaxis\": \"x\", \"yaxis\": \"y\"}, {\"marker\": {\"color\": \"#4C78A8\"}, \"type\": \"bar\", \"x\": [\"2021-05-01T08:00:00\", \"2021-05-01T16:00:00\", \"2021-05-02T00:00:00\", \"2021-05-02T08:00:00\", \"2021-05-02T16:00:00\", \"2021-05-03T00:00:00\", \"2021-05-03T08:00:00\", \"2021-05-03T16:00:00\", \"2021-05-04T00:00:00\", \"2021-05-04T08:00:00\", \"2021-05-04T16:00:00\", \"2021-05-05T00:00:00\", \"2021-05-05T08:00:00\", \"2021-05-05T16:00:00\", \"2021-05-06T00:00:00\", \"2021-05-06T08:00:00\", \"2021-05-06T16:00:00\", \"2021-05-07T00:00:00\", \"2021-05-07T08:00:00\", \"2021-05-07T16:00:00\", \"2021-05-08T00:00:00\", \"2021-05-08T08:00:00\", \"2021-05-08T16:00:00\", \"2021-05-09T00:00:00\", \"2021-05-09T08:00:00\", \"2021-05-09T16:00:00\", \"2021-05-10T00:00:00\", \"2021-05-10T08:00:00\", \"2021-05-10T16:00:00\", \"2021-05-11T00:00:00\", \"2021-05-11T08:00:00\", \"2021-05-11T16:00:00\", \"2021-05-12T00:00:00\", \"2021-05-12T08:00:00\", \"2021-05-12T16:00:00\", \"2021-05-13T00:00:00\", \"2021-05-13T08:00:00\", \"2021-05-13T16:00:00\", \"2021-05-14T00:00:00\", \"2021-05-14T08:00:00\", \"2021-05-14T16:00:00\", \"2021-05-15T00:00:00\", \"2021-05-15T08:00:00\", \"2021-05-15T16:00:00\", \"2021-05-16T00:00:00\", \"2021-05-16T08:00:00\", \"2021-05-16T16:00:00\", \"2021-05-17T00:00:00\", \"2021-05-17T08:00:00\", \"2021-05-17T16:00:00\", \"2021-05-18T00:00:00\", \"2021-05-18T08:00:00\", \"2021-05-18T16:00:00\", \"2021-05-19T00:00:00\", \"2021-05-19T08:00:00\", \"2021-05-19T16:00:00\"], \"xaxis\": \"x2\", \"y\": [\"82032.005\", \"51078.212\", \"73736.020\", \"77622.071\", \"52354.424\", \"84217.974\", \"100038.907\", \"87477.091\", \"126643.907\", \"155731.249\", \"106613.598\", \"91018.191\", \"135959.190\", \"90834.324\", \"74663.908\", \"97137.861\", \"103675.214\", \"75060.303\", \"87942.852\", \"93156.349\", \"67110.124\", \"121138.079\", \"76658.526\", \"83842.472\", \"105955.991\", \"56155.551\", \"75661.786\", \"135569.005\", \"185006.342\", \"100717.898\", \"101836.906\", \"64671.300\", \"72177.946\", \"134271.586\", \"265879.620\", \"232157.417\", \"197753.853\", \"222565.419\", \"107642.927\", \"109346.802\", \"102079.273\", \"118435.046\", \"140513.622\", \"183074.828\", \"120114.124\", \"128860.061\", \"355563.445\", \"319839.908\", \"218467.728\", \"270821.729\", \"155125.366\", \"231277.761\", \"203955.465\", \"445211.508\", \"581539.299\", \"175544.679\"], \"yaxis\": \"y2\"}],                        {\"showlegend\": false, \"template\": {\"data\": {\"bar\": [{\"error_x\": {\"color\": \"rgb(36,36,36)\"}, \"error_y\": {\"color\": \"rgb(36,36,36)\"}, \"marker\": {\"line\": {\"color\": \"rgb(234,234,242)\", \"width\": 0.5}}, \"type\": \"bar\"}], \"barpolar\": [{\"marker\": {\"line\": {\"color\": \"rgb(234,234,242)\", \"width\": 0.5}}, \"type\": \"barpolar\"}], \"carpet\": [{\"aaxis\": {\"endlinecolor\": \"rgb(36,36,36)\", \"gridcolor\": \"white\", \"linecolor\": \"white\", \"minorgridcolor\": \"white\", \"startlinecolor\": \"rgb(36,36,36)\"}, \"baxis\": {\"endlinecolor\": \"rgb(36,36,36)\", \"gridcolor\": \"white\", \"linecolor\": \"white\", \"minorgridcolor\": \"white\", \"startlinecolor\": \"rgb(36,36,36)\"}, \"type\": \"carpet\"}], \"choropleth\": [{\"colorbar\": {\"outlinewidth\": 0, \"tickcolor\": \"rgb(36,36,36)\", \"ticklen\": 8, \"ticks\": \"outside\", \"tickwidth\": 2}, \"type\": \"choropleth\"}], \"contour\": [{\"colorbar\": {\"outlinewidth\": 0, \"tickcolor\": \"rgb(36,36,36)\", \"ticklen\": 8, \"ticks\": \"outside\", \"tickwidth\": 2}, \"colorscale\": [[0.0, \"rgb(2,4,25)\"], [0.06274509803921569, \"rgb(24,15,41)\"], [0.12549019607843137, \"rgb(47,23,57)\"], [0.18823529411764706, \"rgb(71,28,72)\"], [0.25098039215686274, \"rgb(97,30,82)\"], [0.3137254901960784, \"rgb(123,30,89)\"], [0.3764705882352941, \"rgb(150,27,91)\"], [0.4392156862745098, \"rgb(177,22,88)\"], [0.5019607843137255, \"rgb(203,26,79)\"], [0.5647058823529412, \"rgb(223,47,67)\"], [0.6274509803921569, \"rgb(236,76,61)\"], [0.6901960784313725, \"rgb(242,107,73)\"], [0.7529411764705882, \"rgb(244,135,95)\"], [0.8156862745098039, \"rgb(245,162,122)\"], [0.8784313725490196, \"rgb(246,188,153)\"], [0.9411764705882353, \"rgb(247,212,187)\"], [1.0, \"rgb(250,234,220)\"]], \"type\": \"contour\"}], \"contourcarpet\": [{\"colorbar\": {\"outlinewidth\": 0, \"tickcolor\": \"rgb(36,36,36)\", \"ticklen\": 8, \"ticks\": \"outside\", \"tickwidth\": 2}, \"type\": \"contourcarpet\"}], \"heatmap\": [{\"colorbar\": {\"outlinewidth\": 0, \"tickcolor\": \"rgb(36,36,36)\", \"ticklen\": 8, \"ticks\": \"outside\", \"tickwidth\": 2}, \"colorscale\": [[0.0, \"rgb(2,4,25)\"], [0.06274509803921569, \"rgb(24,15,41)\"], [0.12549019607843137, \"rgb(47,23,57)\"], [0.18823529411764706, \"rgb(71,28,72)\"], [0.25098039215686274, \"rgb(97,30,82)\"], [0.3137254901960784, \"rgb(123,30,89)\"], [0.3764705882352941, \"rgb(150,27,91)\"], [0.4392156862745098, \"rgb(177,22,88)\"], [0.5019607843137255, \"rgb(203,26,79)\"], [0.5647058823529412, \"rgb(223,47,67)\"], [0.6274509803921569, \"rgb(236,76,61)\"], [0.6901960784313725, \"rgb(242,107,73)\"], [0.7529411764705882, \"rgb(244,135,95)\"], [0.8156862745098039, \"rgb(245,162,122)\"], [0.8784313725490196, \"rgb(246,188,153)\"], [0.9411764705882353, \"rgb(247,212,187)\"], [1.0, \"rgb(250,234,220)\"]], \"type\": \"heatmap\"}], \"heatmapgl\": [{\"colorbar\": {\"outlinewidth\": 0, \"tickcolor\": \"rgb(36,36,36)\", \"ticklen\": 8, \"ticks\": \"outside\", \"tickwidth\": 2}, \"colorscale\": [[0.0, \"rgb(2,4,25)\"], [0.06274509803921569, \"rgb(24,15,41)\"], [0.12549019607843137, \"rgb(47,23,57)\"], [0.18823529411764706, \"rgb(71,28,72)\"], [0.25098039215686274, \"rgb(97,30,82)\"], [0.3137254901960784, \"rgb(123,30,89)\"], [0.3764705882352941, \"rgb(150,27,91)\"], [0.4392156862745098, \"rgb(177,22,88)\"], [0.5019607843137255, \"rgb(203,26,79)\"], [0.5647058823529412, \"rgb(223,47,67)\"], [0.6274509803921569, \"rgb(236,76,61)\"], [0.6901960784313725, \"rgb(242,107,73)\"], [0.7529411764705882, \"rgb(244,135,95)\"], [0.8156862745098039, \"rgb(245,162,122)\"], [0.8784313725490196, \"rgb(246,188,153)\"], [0.9411764705882353, \"rgb(247,212,187)\"], [1.0, \"rgb(250,234,220)\"]], \"type\": \"heatmapgl\"}], \"histogram\": [{\"marker\": {\"colorbar\": {\"outlinewidth\": 0, \"tickcolor\": \"rgb(36,36,36)\", \"ticklen\": 8, \"ticks\": \"outside\", \"tickwidth\": 2}}, \"type\": \"histogram\"}], \"histogram2d\": [{\"colorbar\": {\"outlinewidth\": 0, \"tickcolor\": \"rgb(36,36,36)\", \"ticklen\": 8, \"ticks\": \"outside\", \"tickwidth\": 2}, \"colorscale\": [[0.0, \"rgb(2,4,25)\"], [0.06274509803921569, \"rgb(24,15,41)\"], [0.12549019607843137, \"rgb(47,23,57)\"], [0.18823529411764706, \"rgb(71,28,72)\"], [0.25098039215686274, \"rgb(97,30,82)\"], [0.3137254901960784, \"rgb(123,30,89)\"], [0.3764705882352941, \"rgb(150,27,91)\"], [0.4392156862745098, \"rgb(177,22,88)\"], [0.5019607843137255, \"rgb(203,26,79)\"], [0.5647058823529412, \"rgb(223,47,67)\"], [0.6274509803921569, \"rgb(236,76,61)\"], [0.6901960784313725, \"rgb(242,107,73)\"], [0.7529411764705882, \"rgb(244,135,95)\"], [0.8156862745098039, \"rgb(245,162,122)\"], [0.8784313725490196, \"rgb(246,188,153)\"], [0.9411764705882353, \"rgb(247,212,187)\"], [1.0, \"rgb(250,234,220)\"]], \"type\": \"histogram2d\"}], \"histogram2dcontour\": [{\"colorbar\": {\"outlinewidth\": 0, \"tickcolor\": \"rgb(36,36,36)\", \"ticklen\": 8, \"ticks\": \"outside\", \"tickwidth\": 2}, \"colorscale\": [[0.0, \"rgb(2,4,25)\"], [0.06274509803921569, \"rgb(24,15,41)\"], [0.12549019607843137, \"rgb(47,23,57)\"], [0.18823529411764706, \"rgb(71,28,72)\"], [0.25098039215686274, \"rgb(97,30,82)\"], [0.3137254901960784, \"rgb(123,30,89)\"], [0.3764705882352941, \"rgb(150,27,91)\"], [0.4392156862745098, \"rgb(177,22,88)\"], [0.5019607843137255, \"rgb(203,26,79)\"], [0.5647058823529412, \"rgb(223,47,67)\"], [0.6274509803921569, \"rgb(236,76,61)\"], [0.6901960784313725, \"rgb(242,107,73)\"], [0.7529411764705882, \"rgb(244,135,95)\"], [0.8156862745098039, \"rgb(245,162,122)\"], [0.8784313725490196, \"rgb(246,188,153)\"], [0.9411764705882353, \"rgb(247,212,187)\"], [1.0, \"rgb(250,234,220)\"]], \"type\": \"histogram2dcontour\"}], \"mesh3d\": [{\"colorbar\": {\"outlinewidth\": 0, \"tickcolor\": \"rgb(36,36,36)\", \"ticklen\": 8, \"ticks\": \"outside\", \"tickwidth\": 2}, \"type\": \"mesh3d\"}], \"parcoords\": [{\"line\": {\"colorbar\": {\"outlinewidth\": 0, \"tickcolor\": \"rgb(36,36,36)\", \"ticklen\": 8, \"ticks\": \"outside\", \"tickwidth\": 2}}, \"type\": \"parcoords\"}], \"pie\": [{\"automargin\": true, \"type\": \"pie\"}], \"scatter\": [{\"marker\": {\"colorbar\": {\"outlinewidth\": 0, \"tickcolor\": \"rgb(36,36,36)\", \"ticklen\": 8, \"ticks\": \"outside\", \"tickwidth\": 2}}, \"type\": \"scatter\"}], \"scatter3d\": [{\"line\": {\"colorbar\": {\"outlinewidth\": 0, \"tickcolor\": \"rgb(36,36,36)\", \"ticklen\": 8, \"ticks\": \"outside\", \"tickwidth\": 2}}, \"marker\": {\"colorbar\": {\"outlinewidth\": 0, \"tickcolor\": \"rgb(36,36,36)\", \"ticklen\": 8, \"ticks\": \"outside\", \"tickwidth\": 2}}, \"type\": \"scatter3d\"}], \"scattercarpet\": [{\"marker\": {\"colorbar\": {\"outlinewidth\": 0, \"tickcolor\": \"rgb(36,36,36)\", \"ticklen\": 8, \"ticks\": \"outside\", \"tickwidth\": 2}}, \"type\": \"scattercarpet\"}], \"scattergeo\": [{\"marker\": {\"colorbar\": {\"outlinewidth\": 0, \"tickcolor\": \"rgb(36,36,36)\", \"ticklen\": 8, \"ticks\": \"outside\", \"tickwidth\": 2}}, \"type\": \"scattergeo\"}], \"scattergl\": [{\"marker\": {\"colorbar\": {\"outlinewidth\": 0, \"tickcolor\": \"rgb(36,36,36)\", \"ticklen\": 8, \"ticks\": \"outside\", \"tickwidth\": 2}}, \"type\": \"scattergl\"}], \"scattermapbox\": [{\"marker\": {\"colorbar\": {\"outlinewidth\": 0, \"tickcolor\": \"rgb(36,36,36)\", \"ticklen\": 8, \"ticks\": \"outside\", \"tickwidth\": 2}}, \"type\": \"scattermapbox\"}], \"scatterpolar\": [{\"marker\": {\"colorbar\": {\"outlinewidth\": 0, \"tickcolor\": \"rgb(36,36,36)\", \"ticklen\": 8, \"ticks\": \"outside\", \"tickwidth\": 2}}, \"type\": \"scatterpolar\"}], \"scatterpolargl\": [{\"marker\": {\"colorbar\": {\"outlinewidth\": 0, \"tickcolor\": \"rgb(36,36,36)\", \"ticklen\": 8, \"ticks\": \"outside\", \"tickwidth\": 2}}, \"type\": \"scatterpolargl\"}], \"scatterternary\": [{\"marker\": {\"colorbar\": {\"outlinewidth\": 0, \"tickcolor\": \"rgb(36,36,36)\", \"ticklen\": 8, \"ticks\": \"outside\", \"tickwidth\": 2}}, \"type\": \"scatterternary\"}], \"surface\": [{\"colorbar\": {\"outlinewidth\": 0, \"tickcolor\": \"rgb(36,36,36)\", \"ticklen\": 8, \"ticks\": \"outside\", \"tickwidth\": 2}, \"colorscale\": [[0.0, \"rgb(2,4,25)\"], [0.06274509803921569, \"rgb(24,15,41)\"], [0.12549019607843137, \"rgb(47,23,57)\"], [0.18823529411764706, \"rgb(71,28,72)\"], [0.25098039215686274, \"rgb(97,30,82)\"], [0.3137254901960784, \"rgb(123,30,89)\"], [0.3764705882352941, \"rgb(150,27,91)\"], [0.4392156862745098, \"rgb(177,22,88)\"], [0.5019607843137255, \"rgb(203,26,79)\"], [0.5647058823529412, \"rgb(223,47,67)\"], [0.6274509803921569, \"rgb(236,76,61)\"], [0.6901960784313725, \"rgb(242,107,73)\"], [0.7529411764705882, \"rgb(244,135,95)\"], [0.8156862745098039, \"rgb(245,162,122)\"], [0.8784313725490196, \"rgb(246,188,153)\"], [0.9411764705882353, \"rgb(247,212,187)\"], [1.0, \"rgb(250,234,220)\"]], \"type\": \"surface\"}], \"table\": [{\"cells\": {\"fill\": {\"color\": \"rgb(231,231,240)\"}, \"line\": {\"color\": \"white\"}}, \"header\": {\"fill\": {\"color\": \"rgb(183,183,191)\"}, \"line\": {\"color\": \"white\"}}, \"type\": \"table\"}]}, \"layout\": {\"annotationdefaults\": {\"arrowcolor\": \"rgb(67,103,167)\"}, \"autotypenumbers\": \"strict\", \"coloraxis\": {\"colorbar\": {\"outlinewidth\": 0, \"tickcolor\": \"rgb(36,36,36)\", \"ticklen\": 8, \"ticks\": \"outside\", \"tickwidth\": 2}}, \"colorscale\": {\"sequential\": [[0.0, \"rgb(2,4,25)\"], [0.06274509803921569, \"rgb(24,15,41)\"], [0.12549019607843137, \"rgb(47,23,57)\"], [0.18823529411764706, \"rgb(71,28,72)\"], [0.25098039215686274, \"rgb(97,30,82)\"], [0.3137254901960784, \"rgb(123,30,89)\"], [0.3764705882352941, \"rgb(150,27,91)\"], [0.4392156862745098, \"rgb(177,22,88)\"], [0.5019607843137255, \"rgb(203,26,79)\"], [0.5647058823529412, \"rgb(223,47,67)\"], [0.6274509803921569, \"rgb(236,76,61)\"], [0.6901960784313725, \"rgb(242,107,73)\"], [0.7529411764705882, \"rgb(244,135,95)\"], [0.8156862745098039, \"rgb(245,162,122)\"], [0.8784313725490196, \"rgb(246,188,153)\"], [0.9411764705882353, \"rgb(247,212,187)\"], [1.0, \"rgb(250,234,220)\"]], \"sequentialminus\": [[0.0, \"rgb(2,4,25)\"], [0.06274509803921569, \"rgb(24,15,41)\"], [0.12549019607843137, \"rgb(47,23,57)\"], [0.18823529411764706, \"rgb(71,28,72)\"], [0.25098039215686274, \"rgb(97,30,82)\"], [0.3137254901960784, \"rgb(123,30,89)\"], [0.3764705882352941, \"rgb(150,27,91)\"], [0.4392156862745098, \"rgb(177,22,88)\"], [0.5019607843137255, \"rgb(203,26,79)\"], [0.5647058823529412, \"rgb(223,47,67)\"], [0.6274509803921569, \"rgb(236,76,61)\"], [0.6901960784313725, \"rgb(242,107,73)\"], [0.7529411764705882, \"rgb(244,135,95)\"], [0.8156862745098039, \"rgb(245,162,122)\"], [0.8784313725490196, \"rgb(246,188,153)\"], [0.9411764705882353, \"rgb(247,212,187)\"], [1.0, \"rgb(250,234,220)\"]]}, \"colorway\": [\"rgb(76,114,176)\", \"rgb(221,132,82)\", \"rgb(85,168,104)\", \"rgb(196,78,82)\", \"rgb(129,114,179)\", \"rgb(147,120,96)\", \"rgb(218,139,195)\", \"rgb(140,140,140)\", \"rgb(204,185,116)\", \"rgb(100,181,205)\"], \"font\": {\"color\": \"rgb(36,36,36)\"}, \"geo\": {\"bgcolor\": \"white\", \"lakecolor\": \"white\", \"landcolor\": \"rgb(234,234,242)\", \"showlakes\": true, \"showland\": true, \"subunitcolor\": \"white\"}, \"hoverlabel\": {\"align\": \"left\"}, \"hovermode\": \"closest\", \"paper_bgcolor\": \"white\", \"plot_bgcolor\": \"rgb(234,234,242)\", \"polar\": {\"angularaxis\": {\"gridcolor\": \"white\", \"linecolor\": \"white\", \"showgrid\": true, \"ticks\": \"\"}, \"bgcolor\": \"rgb(234,234,242)\", \"radialaxis\": {\"gridcolor\": \"white\", \"linecolor\": \"white\", \"showgrid\": true, \"ticks\": \"\"}}, \"scene\": {\"xaxis\": {\"backgroundcolor\": \"rgb(234,234,242)\", \"gridcolor\": \"white\", \"gridwidth\": 2, \"linecolor\": \"white\", \"showbackground\": true, \"showgrid\": true, \"ticks\": \"\", \"zerolinecolor\": \"white\"}, \"yaxis\": {\"backgroundcolor\": \"rgb(234,234,242)\", \"gridcolor\": \"white\", \"gridwidth\": 2, \"linecolor\": \"white\", \"showbackground\": true, \"showgrid\": true, \"ticks\": \"\", \"zerolinecolor\": \"white\"}, \"zaxis\": {\"backgroundcolor\": \"rgb(234,234,242)\", \"gridcolor\": \"white\", \"gridwidth\": 2, \"linecolor\": \"white\", \"showbackground\": true, \"showgrid\": true, \"ticks\": \"\", \"zerolinecolor\": \"white\"}}, \"shapedefaults\": {\"fillcolor\": \"rgb(67,103,167)\", \"line\": {\"width\": 0}, \"opacity\": 0.5}, \"ternary\": {\"aaxis\": {\"gridcolor\": \"white\", \"linecolor\": \"white\", \"showgrid\": true, \"ticks\": \"\"}, \"baxis\": {\"gridcolor\": \"white\", \"linecolor\": \"white\", \"showgrid\": true, \"ticks\": \"\"}, \"bgcolor\": \"rgb(234,234,242)\", \"caxis\": {\"gridcolor\": \"white\", \"linecolor\": \"white\", \"showgrid\": true, \"ticks\": \"\"}}, \"xaxis\": {\"automargin\": true, \"gridcolor\": \"white\", \"linecolor\": \"white\", \"showgrid\": true, \"ticks\": \"\", \"title\": {\"standoff\": 15}, \"zerolinecolor\": \"white\"}, \"yaxis\": {\"automargin\": true, \"gridcolor\": \"white\", \"linecolor\": \"white\", \"showgrid\": true, \"ticks\": \"\", \"title\": {\"standoff\": 15}, \"zerolinecolor\": \"white\"}}}, \"title\": {\"text\": \"BTCUSDT Perpetual OHLC 8 Hour Intervals\"}, \"xaxis\": {\"anchor\": \"y\", \"domain\": [0.0, 1.0], \"matches\": \"x2\", \"rangeslider\": {\"visible\": false}, \"showticklabels\": false}, \"xaxis2\": {\"anchor\": \"y2\", \"domain\": [0.0, 1.0]}, \"yaxis\": {\"anchor\": \"x\", \"domain\": [0.24555555555555558, 1.0]}, \"yaxis2\": {\"anchor\": \"x2\", \"domain\": [0.0, 0.21555555555555558]}},                        {\"responsive\": true}                    ).then(function(){\n                            \nvar gd = document.getElementById('26844b43-34b5-4511-867a-9be58d4d8b9b');\nvar x = new MutationObserver(function (mutations, observer) {{\n        var display = window.getComputedStyle(gd).display;\n        if (!display || display === 'none') {{\n            console.log([gd, 'removed!']);\n            Plotly.purge(gd);\n            observer.disconnect();\n        }}\n}});\n\n// Listen for the removal of the full notebook cells\nvar notebookContainer = gd.closest('#notebook-container');\nif (notebookContainer) {{\n    x.observe(notebookContainer, {childList: true});\n}}\n\n// Listen for the clearing of the current output cell\nvar outputEl = gd.closest('.output');\nif (outputEl) {{\n    x.observe(outputEl, {childList: true});\n}}\n\n                        })                };                });            </script>        </div>"
     },
     "metadata": {},
     "output_type": "display_data"
    }
   ],
   "source": [
    "df_perpetual = utils.get_continuous_contracts(pair=\"BTCUSDT\", start_time=\"2021-05-01\")\n",
    "utils.make_price_volume_chart(df_perpetual, title=\"BTCUSDT Perpetual OHLC 8 Hour Intervals\")"
   ]
  },
  {
   "cell_type": "code",
   "execution_count": 108,
   "metadata": {},
   "outputs": [
    {
     "data": {
      "application/vnd.plotly.v1+json": {
       "config": {
        "plotlyServerURL": "https://plot.ly"
       },
       "data": [
        {
         "close": [
          "59718.6",
          "60185.5",
          "58789.2",
          "58786.4",
          "58668.0",
          "61346.5",
          "59730.2",
          "59287.8",
          "57678.6",
          "55271.6",
          "54704.4",
          "56515.7",
          "59680.4",
          "59828.5",
          "58930.8",
          "59361.7",
          "58422.9",
          "57784.8",
          "59788.9",
          "59261.5",
          "60771.6",
          "59763.3",
          "61436.3",
          "60387.4",
          "59383.2",
          "60571.8",
          "60901.8",
          "60666.4",
          "57642.0",
          "57635.7",
          "57952.1",
          "58613.1",
          "59142.9",
          "57301.9",
          "50782.8",
          "52063.1",
          "50937.2",
          "50980.6",
          "51258.8",
          "52479.9",
          "50991.4",
          "49534.2",
          "50119.2",
          "47729.9",
          "50504.7",
          "48759.8",
          "47333.1",
          "46064.0",
          "44210.5",
          "44396.3",
          "46010.6",
          "43660.6",
          "43473.3",
          "40985.1",
          "37686.9",
          "38554.9"
         ],
         "high": [
          "60417.9",
          "60420.3",
          "60278.0",
          "59589.5",
          "59433.4",
          "61412.1",
          "61560.4",
          "60363.3",
          "59303.3",
          "58587.9",
          "56424.1",
          "57287.8",
          "59789.0",
          "60199.0",
          "59965.4",
          "60770.5",
          "59830.8",
          "59200.0",
          "60016.1",
          "61081.5",
          "60963.7",
          "61947.1",
          "62035.9",
          "61866.4",
          "60867.7",
          "60798.5",
          "62271.2",
          "61193.2",
          "61284.5",
          "58263.3",
          "58130.8",
          "58895.9",
          "60153.2",
          "59207.8",
          "57501.5",
          "52500.2",
          "52164.7",
          "51695.4",
          "51675.1",
          "52749.5",
          "52588.3",
          "51867.3",
          "50797.0",
          "50086.8",
          "50699.5",
          "50942.0",
          "49184.1",
          "47512.3",
          "46738.7",
          "45717.3",
          "46631.0",
          "46575.4",
          "44555.5",
          "44279.8",
          "42364.6",
          "40999.9"
         ],
         "low": [
          "59321.1",
          "59542.0",
          "58288.0",
          "58100.0",
          "58358.0",
          "58634.9",
          "59363.1",
          "58422.2",
          "56202.9",
          "55000.0",
          "54488.6",
          "54441.1",
          "56375.1",
          "58600.5",
          "58438.7",
          "58896.9",
          "56965.5",
          "57028.9",
          "57516.7",
          "58700.3",
          "58817.8",
          "59623.9",
          "59785.5",
          "60075.6",
          "57943.9",
          "59014.6",
          "60320.6",
          "58634.8",
          "55099.6",
          "56260.3",
          "56566.3",
          "57638.1",
          "58517.0",
          "57137.7",
          "49699.2",
          "46258.5",
          "49650.9",
          "48056.2",
          "50079.1",
          "51145.3",
          "50180.0",
          "49445.6",
          "48938.1",
          "47506.1",
          "47362.6",
          "48622.8",
          "44500.0",
          "42700.0",
          "43943.3",
          "42923.1",
          "43954.3",
          "43414.0",
          "42866.8",
          "39003.0",
          "29235.1",
          "36500.0"
         ],
         "open": [
          "60018.3",
          "59715.1",
          "60195.2",
          "58797.6",
          "58821.1",
          "58664.8",
          "61346.5",
          "59759.4",
          "59291.4",
          "57685.7",
          "55248.2",
          "54684.9",
          "56535.0",
          "59680.7",
          "59849.4",
          "58932.4",
          "59380.5",
          "58441.3",
          "57759.5",
          "59796.6",
          "59276.9",
          "60788.6",
          "59785.5",
          "61431.0",
          "60397.0",
          "59404.3",
          "60596.9",
          "60910.1",
          "60698.2",
          "57655.6",
          "57640.7",
          "57987.6",
          "58669.8",
          "59143.4",
          "57301.9",
          "50782.7",
          "52074.7",
          "50937.3",
          "50976.4",
          "51270.8",
          "52529.2",
          "50973.4",
          "49539.1",
          "50086.8",
          "47760.6",
          "50511.1",
          "48735.4",
          "47313.2",
          "46083.6",
          "44130.4",
          "44441.3",
          "45995.1",
          "43631.4",
          "43499.1",
          "40982.4",
          "37639.2"
         ],
         "type": "candlestick",
         "x": [
          "2021-05-01T08:00:00",
          "2021-05-01T16:00:00",
          "2021-05-02T00:00:00",
          "2021-05-02T08:00:00",
          "2021-05-02T16:00:00",
          "2021-05-03T00:00:00",
          "2021-05-03T08:00:00",
          "2021-05-03T16:00:00",
          "2021-05-04T00:00:00",
          "2021-05-04T08:00:00",
          "2021-05-04T16:00:00",
          "2021-05-05T00:00:00",
          "2021-05-05T08:00:00",
          "2021-05-05T16:00:00",
          "2021-05-06T00:00:00",
          "2021-05-06T08:00:00",
          "2021-05-06T16:00:00",
          "2021-05-07T00:00:00",
          "2021-05-07T08:00:00",
          "2021-05-07T16:00:00",
          "2021-05-08T00:00:00",
          "2021-05-08T08:00:00",
          "2021-05-08T16:00:00",
          "2021-05-09T00:00:00",
          "2021-05-09T08:00:00",
          "2021-05-09T16:00:00",
          "2021-05-10T00:00:00",
          "2021-05-10T08:00:00",
          "2021-05-10T16:00:00",
          "2021-05-11T00:00:00",
          "2021-05-11T08:00:00",
          "2021-05-11T16:00:00",
          "2021-05-12T00:00:00",
          "2021-05-12T08:00:00",
          "2021-05-12T16:00:00",
          "2021-05-13T00:00:00",
          "2021-05-13T08:00:00",
          "2021-05-13T16:00:00",
          "2021-05-14T00:00:00",
          "2021-05-14T08:00:00",
          "2021-05-14T16:00:00",
          "2021-05-15T00:00:00",
          "2021-05-15T08:00:00",
          "2021-05-15T16:00:00",
          "2021-05-16T00:00:00",
          "2021-05-16T08:00:00",
          "2021-05-16T16:00:00",
          "2021-05-17T00:00:00",
          "2021-05-17T08:00:00",
          "2021-05-17T16:00:00",
          "2021-05-18T00:00:00",
          "2021-05-18T08:00:00",
          "2021-05-18T16:00:00",
          "2021-05-19T00:00:00",
          "2021-05-19T08:00:00",
          "2021-05-19T16:00:00"
         ],
         "xaxis": "x",
         "yaxis": "y"
        },
        {
         "marker": {
          "color": "#4C78A8"
         },
         "type": "bar",
         "x": [
          "2021-05-01T08:00:00",
          "2021-05-01T16:00:00",
          "2021-05-02T00:00:00",
          "2021-05-02T08:00:00",
          "2021-05-02T16:00:00",
          "2021-05-03T00:00:00",
          "2021-05-03T08:00:00",
          "2021-05-03T16:00:00",
          "2021-05-04T00:00:00",
          "2021-05-04T08:00:00",
          "2021-05-04T16:00:00",
          "2021-05-05T00:00:00",
          "2021-05-05T08:00:00",
          "2021-05-05T16:00:00",
          "2021-05-06T00:00:00",
          "2021-05-06T08:00:00",
          "2021-05-06T16:00:00",
          "2021-05-07T00:00:00",
          "2021-05-07T08:00:00",
          "2021-05-07T16:00:00",
          "2021-05-08T00:00:00",
          "2021-05-08T08:00:00",
          "2021-05-08T16:00:00",
          "2021-05-09T00:00:00",
          "2021-05-09T08:00:00",
          "2021-05-09T16:00:00",
          "2021-05-10T00:00:00",
          "2021-05-10T08:00:00",
          "2021-05-10T16:00:00",
          "2021-05-11T00:00:00",
          "2021-05-11T08:00:00",
          "2021-05-11T16:00:00",
          "2021-05-12T00:00:00",
          "2021-05-12T08:00:00",
          "2021-05-12T16:00:00",
          "2021-05-13T00:00:00",
          "2021-05-13T08:00:00",
          "2021-05-13T16:00:00",
          "2021-05-14T00:00:00",
          "2021-05-14T08:00:00",
          "2021-05-14T16:00:00",
          "2021-05-15T00:00:00",
          "2021-05-15T08:00:00",
          "2021-05-15T16:00:00",
          "2021-05-16T00:00:00",
          "2021-05-16T08:00:00",
          "2021-05-16T16:00:00",
          "2021-05-17T00:00:00",
          "2021-05-17T08:00:00",
          "2021-05-17T16:00:00",
          "2021-05-18T00:00:00",
          "2021-05-18T08:00:00",
          "2021-05-18T16:00:00",
          "2021-05-19T00:00:00",
          "2021-05-19T08:00:00",
          "2021-05-19T16:00:00"
         ],
         "xaxis": "x2",
         "y": [
          "290.848",
          "318.805",
          "387.396",
          "282.281",
          "254.276",
          "452.074",
          "429.163",
          "285.037",
          "389.547",
          "452.138",
          "324.502",
          "345.351",
          "381.206",
          "387.512",
          "546.627",
          "327.681",
          "402.224",
          "631.024",
          "716.267",
          "447.076",
          "431.907",
          "584.534",
          "395.940",
          "684.643",
          "754.944",
          "296.296",
          "342.148",
          "572.436",
          "728.769",
          "711.504",
          "644.230",
          "365.184",
          "527.555",
          "1018.003",
          "2014.547",
          "1072.127",
          "686.809",
          "981.547",
          "619.486",
          "386.033",
          "327.066",
          "490.227",
          "568.506",
          "719.581",
          "480.902",
          "464.403",
          "1304.264",
          "1019.468",
          "458.069",
          "650.325",
          "819.681",
          "984.362",
          "1120.990",
          "2984.091",
          "3197.388",
          "479.265"
         ],
         "yaxis": "y2"
        }
       ],
       "layout": {
        "showlegend": false,
        "template": {
         "data": {
          "bar": [
           {
            "error_x": {
             "color": "rgb(36,36,36)"
            },
            "error_y": {
             "color": "rgb(36,36,36)"
            },
            "marker": {
             "line": {
              "color": "rgb(234,234,242)",
              "width": 0.5
             }
            },
            "type": "bar"
           }
          ],
          "barpolar": [
           {
            "marker": {
             "line": {
              "color": "rgb(234,234,242)",
              "width": 0.5
             }
            },
            "type": "barpolar"
           }
          ],
          "carpet": [
           {
            "aaxis": {
             "endlinecolor": "rgb(36,36,36)",
             "gridcolor": "white",
             "linecolor": "white",
             "minorgridcolor": "white",
             "startlinecolor": "rgb(36,36,36)"
            },
            "baxis": {
             "endlinecolor": "rgb(36,36,36)",
             "gridcolor": "white",
             "linecolor": "white",
             "minorgridcolor": "white",
             "startlinecolor": "rgb(36,36,36)"
            },
            "type": "carpet"
           }
          ],
          "choropleth": [
           {
            "colorbar": {
             "outlinewidth": 0,
             "tickcolor": "rgb(36,36,36)",
             "ticklen": 8,
             "ticks": "outside",
             "tickwidth": 2
            },
            "type": "choropleth"
           }
          ],
          "contour": [
           {
            "colorbar": {
             "outlinewidth": 0,
             "tickcolor": "rgb(36,36,36)",
             "ticklen": 8,
             "ticks": "outside",
             "tickwidth": 2
            },
            "colorscale": [
             [
              0,
              "rgb(2,4,25)"
             ],
             [
              0.06274509803921569,
              "rgb(24,15,41)"
             ],
             [
              0.12549019607843137,
              "rgb(47,23,57)"
             ],
             [
              0.18823529411764706,
              "rgb(71,28,72)"
             ],
             [
              0.25098039215686274,
              "rgb(97,30,82)"
             ],
             [
              0.3137254901960784,
              "rgb(123,30,89)"
             ],
             [
              0.3764705882352941,
              "rgb(150,27,91)"
             ],
             [
              0.4392156862745098,
              "rgb(177,22,88)"
             ],
             [
              0.5019607843137255,
              "rgb(203,26,79)"
             ],
             [
              0.5647058823529412,
              "rgb(223,47,67)"
             ],
             [
              0.6274509803921569,
              "rgb(236,76,61)"
             ],
             [
              0.6901960784313725,
              "rgb(242,107,73)"
             ],
             [
              0.7529411764705882,
              "rgb(244,135,95)"
             ],
             [
              0.8156862745098039,
              "rgb(245,162,122)"
             ],
             [
              0.8784313725490196,
              "rgb(246,188,153)"
             ],
             [
              0.9411764705882353,
              "rgb(247,212,187)"
             ],
             [
              1,
              "rgb(250,234,220)"
             ]
            ],
            "type": "contour"
           }
          ],
          "contourcarpet": [
           {
            "colorbar": {
             "outlinewidth": 0,
             "tickcolor": "rgb(36,36,36)",
             "ticklen": 8,
             "ticks": "outside",
             "tickwidth": 2
            },
            "type": "contourcarpet"
           }
          ],
          "heatmap": [
           {
            "colorbar": {
             "outlinewidth": 0,
             "tickcolor": "rgb(36,36,36)",
             "ticklen": 8,
             "ticks": "outside",
             "tickwidth": 2
            },
            "colorscale": [
             [
              0,
              "rgb(2,4,25)"
             ],
             [
              0.06274509803921569,
              "rgb(24,15,41)"
             ],
             [
              0.12549019607843137,
              "rgb(47,23,57)"
             ],
             [
              0.18823529411764706,
              "rgb(71,28,72)"
             ],
             [
              0.25098039215686274,
              "rgb(97,30,82)"
             ],
             [
              0.3137254901960784,
              "rgb(123,30,89)"
             ],
             [
              0.3764705882352941,
              "rgb(150,27,91)"
             ],
             [
              0.4392156862745098,
              "rgb(177,22,88)"
             ],
             [
              0.5019607843137255,
              "rgb(203,26,79)"
             ],
             [
              0.5647058823529412,
              "rgb(223,47,67)"
             ],
             [
              0.6274509803921569,
              "rgb(236,76,61)"
             ],
             [
              0.6901960784313725,
              "rgb(242,107,73)"
             ],
             [
              0.7529411764705882,
              "rgb(244,135,95)"
             ],
             [
              0.8156862745098039,
              "rgb(245,162,122)"
             ],
             [
              0.8784313725490196,
              "rgb(246,188,153)"
             ],
             [
              0.9411764705882353,
              "rgb(247,212,187)"
             ],
             [
              1,
              "rgb(250,234,220)"
             ]
            ],
            "type": "heatmap"
           }
          ],
          "heatmapgl": [
           {
            "colorbar": {
             "outlinewidth": 0,
             "tickcolor": "rgb(36,36,36)",
             "ticklen": 8,
             "ticks": "outside",
             "tickwidth": 2
            },
            "colorscale": [
             [
              0,
              "rgb(2,4,25)"
             ],
             [
              0.06274509803921569,
              "rgb(24,15,41)"
             ],
             [
              0.12549019607843137,
              "rgb(47,23,57)"
             ],
             [
              0.18823529411764706,
              "rgb(71,28,72)"
             ],
             [
              0.25098039215686274,
              "rgb(97,30,82)"
             ],
             [
              0.3137254901960784,
              "rgb(123,30,89)"
             ],
             [
              0.3764705882352941,
              "rgb(150,27,91)"
             ],
             [
              0.4392156862745098,
              "rgb(177,22,88)"
             ],
             [
              0.5019607843137255,
              "rgb(203,26,79)"
             ],
             [
              0.5647058823529412,
              "rgb(223,47,67)"
             ],
             [
              0.6274509803921569,
              "rgb(236,76,61)"
             ],
             [
              0.6901960784313725,
              "rgb(242,107,73)"
             ],
             [
              0.7529411764705882,
              "rgb(244,135,95)"
             ],
             [
              0.8156862745098039,
              "rgb(245,162,122)"
             ],
             [
              0.8784313725490196,
              "rgb(246,188,153)"
             ],
             [
              0.9411764705882353,
              "rgb(247,212,187)"
             ],
             [
              1,
              "rgb(250,234,220)"
             ]
            ],
            "type": "heatmapgl"
           }
          ],
          "histogram": [
           {
            "marker": {
             "colorbar": {
              "outlinewidth": 0,
              "tickcolor": "rgb(36,36,36)",
              "ticklen": 8,
              "ticks": "outside",
              "tickwidth": 2
             }
            },
            "type": "histogram"
           }
          ],
          "histogram2d": [
           {
            "colorbar": {
             "outlinewidth": 0,
             "tickcolor": "rgb(36,36,36)",
             "ticklen": 8,
             "ticks": "outside",
             "tickwidth": 2
            },
            "colorscale": [
             [
              0,
              "rgb(2,4,25)"
             ],
             [
              0.06274509803921569,
              "rgb(24,15,41)"
             ],
             [
              0.12549019607843137,
              "rgb(47,23,57)"
             ],
             [
              0.18823529411764706,
              "rgb(71,28,72)"
             ],
             [
              0.25098039215686274,
              "rgb(97,30,82)"
             ],
             [
              0.3137254901960784,
              "rgb(123,30,89)"
             ],
             [
              0.3764705882352941,
              "rgb(150,27,91)"
             ],
             [
              0.4392156862745098,
              "rgb(177,22,88)"
             ],
             [
              0.5019607843137255,
              "rgb(203,26,79)"
             ],
             [
              0.5647058823529412,
              "rgb(223,47,67)"
             ],
             [
              0.6274509803921569,
              "rgb(236,76,61)"
             ],
             [
              0.6901960784313725,
              "rgb(242,107,73)"
             ],
             [
              0.7529411764705882,
              "rgb(244,135,95)"
             ],
             [
              0.8156862745098039,
              "rgb(245,162,122)"
             ],
             [
              0.8784313725490196,
              "rgb(246,188,153)"
             ],
             [
              0.9411764705882353,
              "rgb(247,212,187)"
             ],
             [
              1,
              "rgb(250,234,220)"
             ]
            ],
            "type": "histogram2d"
           }
          ],
          "histogram2dcontour": [
           {
            "colorbar": {
             "outlinewidth": 0,
             "tickcolor": "rgb(36,36,36)",
             "ticklen": 8,
             "ticks": "outside",
             "tickwidth": 2
            },
            "colorscale": [
             [
              0,
              "rgb(2,4,25)"
             ],
             [
              0.06274509803921569,
              "rgb(24,15,41)"
             ],
             [
              0.12549019607843137,
              "rgb(47,23,57)"
             ],
             [
              0.18823529411764706,
              "rgb(71,28,72)"
             ],
             [
              0.25098039215686274,
              "rgb(97,30,82)"
             ],
             [
              0.3137254901960784,
              "rgb(123,30,89)"
             ],
             [
              0.3764705882352941,
              "rgb(150,27,91)"
             ],
             [
              0.4392156862745098,
              "rgb(177,22,88)"
             ],
             [
              0.5019607843137255,
              "rgb(203,26,79)"
             ],
             [
              0.5647058823529412,
              "rgb(223,47,67)"
             ],
             [
              0.6274509803921569,
              "rgb(236,76,61)"
             ],
             [
              0.6901960784313725,
              "rgb(242,107,73)"
             ],
             [
              0.7529411764705882,
              "rgb(244,135,95)"
             ],
             [
              0.8156862745098039,
              "rgb(245,162,122)"
             ],
             [
              0.8784313725490196,
              "rgb(246,188,153)"
             ],
             [
              0.9411764705882353,
              "rgb(247,212,187)"
             ],
             [
              1,
              "rgb(250,234,220)"
             ]
            ],
            "type": "histogram2dcontour"
           }
          ],
          "mesh3d": [
           {
            "colorbar": {
             "outlinewidth": 0,
             "tickcolor": "rgb(36,36,36)",
             "ticklen": 8,
             "ticks": "outside",
             "tickwidth": 2
            },
            "type": "mesh3d"
           }
          ],
          "parcoords": [
           {
            "line": {
             "colorbar": {
              "outlinewidth": 0,
              "tickcolor": "rgb(36,36,36)",
              "ticklen": 8,
              "ticks": "outside",
              "tickwidth": 2
             }
            },
            "type": "parcoords"
           }
          ],
          "pie": [
           {
            "automargin": true,
            "type": "pie"
           }
          ],
          "scatter": [
           {
            "marker": {
             "colorbar": {
              "outlinewidth": 0,
              "tickcolor": "rgb(36,36,36)",
              "ticklen": 8,
              "ticks": "outside",
              "tickwidth": 2
             }
            },
            "type": "scatter"
           }
          ],
          "scatter3d": [
           {
            "line": {
             "colorbar": {
              "outlinewidth": 0,
              "tickcolor": "rgb(36,36,36)",
              "ticklen": 8,
              "ticks": "outside",
              "tickwidth": 2
             }
            },
            "marker": {
             "colorbar": {
              "outlinewidth": 0,
              "tickcolor": "rgb(36,36,36)",
              "ticklen": 8,
              "ticks": "outside",
              "tickwidth": 2
             }
            },
            "type": "scatter3d"
           }
          ],
          "scattercarpet": [
           {
            "marker": {
             "colorbar": {
              "outlinewidth": 0,
              "tickcolor": "rgb(36,36,36)",
              "ticklen": 8,
              "ticks": "outside",
              "tickwidth": 2
             }
            },
            "type": "scattercarpet"
           }
          ],
          "scattergeo": [
           {
            "marker": {
             "colorbar": {
              "outlinewidth": 0,
              "tickcolor": "rgb(36,36,36)",
              "ticklen": 8,
              "ticks": "outside",
              "tickwidth": 2
             }
            },
            "type": "scattergeo"
           }
          ],
          "scattergl": [
           {
            "marker": {
             "colorbar": {
              "outlinewidth": 0,
              "tickcolor": "rgb(36,36,36)",
              "ticklen": 8,
              "ticks": "outside",
              "tickwidth": 2
             }
            },
            "type": "scattergl"
           }
          ],
          "scattermapbox": [
           {
            "marker": {
             "colorbar": {
              "outlinewidth": 0,
              "tickcolor": "rgb(36,36,36)",
              "ticklen": 8,
              "ticks": "outside",
              "tickwidth": 2
             }
            },
            "type": "scattermapbox"
           }
          ],
          "scatterpolar": [
           {
            "marker": {
             "colorbar": {
              "outlinewidth": 0,
              "tickcolor": "rgb(36,36,36)",
              "ticklen": 8,
              "ticks": "outside",
              "tickwidth": 2
             }
            },
            "type": "scatterpolar"
           }
          ],
          "scatterpolargl": [
           {
            "marker": {
             "colorbar": {
              "outlinewidth": 0,
              "tickcolor": "rgb(36,36,36)",
              "ticklen": 8,
              "ticks": "outside",
              "tickwidth": 2
             }
            },
            "type": "scatterpolargl"
           }
          ],
          "scatterternary": [
           {
            "marker": {
             "colorbar": {
              "outlinewidth": 0,
              "tickcolor": "rgb(36,36,36)",
              "ticklen": 8,
              "ticks": "outside",
              "tickwidth": 2
             }
            },
            "type": "scatterternary"
           }
          ],
          "surface": [
           {
            "colorbar": {
             "outlinewidth": 0,
             "tickcolor": "rgb(36,36,36)",
             "ticklen": 8,
             "ticks": "outside",
             "tickwidth": 2
            },
            "colorscale": [
             [
              0,
              "rgb(2,4,25)"
             ],
             [
              0.06274509803921569,
              "rgb(24,15,41)"
             ],
             [
              0.12549019607843137,
              "rgb(47,23,57)"
             ],
             [
              0.18823529411764706,
              "rgb(71,28,72)"
             ],
             [
              0.25098039215686274,
              "rgb(97,30,82)"
             ],
             [
              0.3137254901960784,
              "rgb(123,30,89)"
             ],
             [
              0.3764705882352941,
              "rgb(150,27,91)"
             ],
             [
              0.4392156862745098,
              "rgb(177,22,88)"
             ],
             [
              0.5019607843137255,
              "rgb(203,26,79)"
             ],
             [
              0.5647058823529412,
              "rgb(223,47,67)"
             ],
             [
              0.6274509803921569,
              "rgb(236,76,61)"
             ],
             [
              0.6901960784313725,
              "rgb(242,107,73)"
             ],
             [
              0.7529411764705882,
              "rgb(244,135,95)"
             ],
             [
              0.8156862745098039,
              "rgb(245,162,122)"
             ],
             [
              0.8784313725490196,
              "rgb(246,188,153)"
             ],
             [
              0.9411764705882353,
              "rgb(247,212,187)"
             ],
             [
              1,
              "rgb(250,234,220)"
             ]
            ],
            "type": "surface"
           }
          ],
          "table": [
           {
            "cells": {
             "fill": {
              "color": "rgb(231,231,240)"
             },
             "line": {
              "color": "white"
             }
            },
            "header": {
             "fill": {
              "color": "rgb(183,183,191)"
             },
             "line": {
              "color": "white"
             }
            },
            "type": "table"
           }
          ]
         },
         "layout": {
          "annotationdefaults": {
           "arrowcolor": "rgb(67,103,167)"
          },
          "autotypenumbers": "strict",
          "coloraxis": {
           "colorbar": {
            "outlinewidth": 0,
            "tickcolor": "rgb(36,36,36)",
            "ticklen": 8,
            "ticks": "outside",
            "tickwidth": 2
           }
          },
          "colorscale": {
           "sequential": [
            [
             0,
             "rgb(2,4,25)"
            ],
            [
             0.06274509803921569,
             "rgb(24,15,41)"
            ],
            [
             0.12549019607843137,
             "rgb(47,23,57)"
            ],
            [
             0.18823529411764706,
             "rgb(71,28,72)"
            ],
            [
             0.25098039215686274,
             "rgb(97,30,82)"
            ],
            [
             0.3137254901960784,
             "rgb(123,30,89)"
            ],
            [
             0.3764705882352941,
             "rgb(150,27,91)"
            ],
            [
             0.4392156862745098,
             "rgb(177,22,88)"
            ],
            [
             0.5019607843137255,
             "rgb(203,26,79)"
            ],
            [
             0.5647058823529412,
             "rgb(223,47,67)"
            ],
            [
             0.6274509803921569,
             "rgb(236,76,61)"
            ],
            [
             0.6901960784313725,
             "rgb(242,107,73)"
            ],
            [
             0.7529411764705882,
             "rgb(244,135,95)"
            ],
            [
             0.8156862745098039,
             "rgb(245,162,122)"
            ],
            [
             0.8784313725490196,
             "rgb(246,188,153)"
            ],
            [
             0.9411764705882353,
             "rgb(247,212,187)"
            ],
            [
             1,
             "rgb(250,234,220)"
            ]
           ],
           "sequentialminus": [
            [
             0,
             "rgb(2,4,25)"
            ],
            [
             0.06274509803921569,
             "rgb(24,15,41)"
            ],
            [
             0.12549019607843137,
             "rgb(47,23,57)"
            ],
            [
             0.18823529411764706,
             "rgb(71,28,72)"
            ],
            [
             0.25098039215686274,
             "rgb(97,30,82)"
            ],
            [
             0.3137254901960784,
             "rgb(123,30,89)"
            ],
            [
             0.3764705882352941,
             "rgb(150,27,91)"
            ],
            [
             0.4392156862745098,
             "rgb(177,22,88)"
            ],
            [
             0.5019607843137255,
             "rgb(203,26,79)"
            ],
            [
             0.5647058823529412,
             "rgb(223,47,67)"
            ],
            [
             0.6274509803921569,
             "rgb(236,76,61)"
            ],
            [
             0.6901960784313725,
             "rgb(242,107,73)"
            ],
            [
             0.7529411764705882,
             "rgb(244,135,95)"
            ],
            [
             0.8156862745098039,
             "rgb(245,162,122)"
            ],
            [
             0.8784313725490196,
             "rgb(246,188,153)"
            ],
            [
             0.9411764705882353,
             "rgb(247,212,187)"
            ],
            [
             1,
             "rgb(250,234,220)"
            ]
           ]
          },
          "colorway": [
           "rgb(76,114,176)",
           "rgb(221,132,82)",
           "rgb(85,168,104)",
           "rgb(196,78,82)",
           "rgb(129,114,179)",
           "rgb(147,120,96)",
           "rgb(218,139,195)",
           "rgb(140,140,140)",
           "rgb(204,185,116)",
           "rgb(100,181,205)"
          ],
          "font": {
           "color": "rgb(36,36,36)"
          },
          "geo": {
           "bgcolor": "white",
           "lakecolor": "white",
           "landcolor": "rgb(234,234,242)",
           "showlakes": true,
           "showland": true,
           "subunitcolor": "white"
          },
          "hoverlabel": {
           "align": "left"
          },
          "hovermode": "closest",
          "paper_bgcolor": "white",
          "plot_bgcolor": "rgb(234,234,242)",
          "polar": {
           "angularaxis": {
            "gridcolor": "white",
            "linecolor": "white",
            "showgrid": true,
            "ticks": ""
           },
           "bgcolor": "rgb(234,234,242)",
           "radialaxis": {
            "gridcolor": "white",
            "linecolor": "white",
            "showgrid": true,
            "ticks": ""
           }
          },
          "scene": {
           "xaxis": {
            "backgroundcolor": "rgb(234,234,242)",
            "gridcolor": "white",
            "gridwidth": 2,
            "linecolor": "white",
            "showbackground": true,
            "showgrid": true,
            "ticks": "",
            "zerolinecolor": "white"
           },
           "yaxis": {
            "backgroundcolor": "rgb(234,234,242)",
            "gridcolor": "white",
            "gridwidth": 2,
            "linecolor": "white",
            "showbackground": true,
            "showgrid": true,
            "ticks": "",
            "zerolinecolor": "white"
           },
           "zaxis": {
            "backgroundcolor": "rgb(234,234,242)",
            "gridcolor": "white",
            "gridwidth": 2,
            "linecolor": "white",
            "showbackground": true,
            "showgrid": true,
            "ticks": "",
            "zerolinecolor": "white"
           }
          },
          "shapedefaults": {
           "fillcolor": "rgb(67,103,167)",
           "line": {
            "width": 0
           },
           "opacity": 0.5
          },
          "ternary": {
           "aaxis": {
            "gridcolor": "white",
            "linecolor": "white",
            "showgrid": true,
            "ticks": ""
           },
           "baxis": {
            "gridcolor": "white",
            "linecolor": "white",
            "showgrid": true,
            "ticks": ""
           },
           "bgcolor": "rgb(234,234,242)",
           "caxis": {
            "gridcolor": "white",
            "linecolor": "white",
            "showgrid": true,
            "ticks": ""
           }
          },
          "xaxis": {
           "automargin": true,
           "gridcolor": "white",
           "linecolor": "white",
           "showgrid": true,
           "ticks": "",
           "title": {
            "standoff": 15
           },
           "zerolinecolor": "white"
          },
          "yaxis": {
           "automargin": true,
           "gridcolor": "white",
           "linecolor": "white",
           "showgrid": true,
           "ticks": "",
           "title": {
            "standoff": 15
           },
           "zerolinecolor": "white"
          }
         }
        },
        "title": {
         "text": "BTCUSDT Current Quarter OHLC 8 Hour Intervals"
        },
        "xaxis": {
         "anchor": "y",
         "domain": [
          0,
          1
         ],
         "matches": "x2",
         "rangeslider": {
          "visible": false
         },
         "showticklabels": false
        },
        "xaxis2": {
         "anchor": "y2",
         "domain": [
          0,
          1
         ]
        },
        "yaxis": {
         "anchor": "x",
         "domain": [
          0.24555555555555558,
          1
         ]
        },
        "yaxis2": {
         "anchor": "x2",
         "domain": [
          0,
          0.21555555555555558
         ]
        }
       }
      },
      "text/html": "<div>                            <div id=\"758e4ec0-3804-442f-b2f5-12d483b48622\" class=\"plotly-graph-div\" style=\"height:525px; width:100%;\"></div>            <script type=\"text/javascript\">                require([\"plotly\"], function(Plotly) {                    window.PLOTLYENV=window.PLOTLYENV || {};                                    if (document.getElementById(\"758e4ec0-3804-442f-b2f5-12d483b48622\")) {                    Plotly.newPlot(                        \"758e4ec0-3804-442f-b2f5-12d483b48622\",                        [{\"close\": [\"59718.6\", \"60185.5\", \"58789.2\", \"58786.4\", \"58668.0\", \"61346.5\", \"59730.2\", \"59287.8\", \"57678.6\", \"55271.6\", \"54704.4\", \"56515.7\", \"59680.4\", \"59828.5\", \"58930.8\", \"59361.7\", \"58422.9\", \"57784.8\", \"59788.9\", \"59261.5\", \"60771.6\", \"59763.3\", \"61436.3\", \"60387.4\", \"59383.2\", \"60571.8\", \"60901.8\", \"60666.4\", \"57642.0\", \"57635.7\", \"57952.1\", \"58613.1\", \"59142.9\", \"57301.9\", \"50782.8\", \"52063.1\", \"50937.2\", \"50980.6\", \"51258.8\", \"52479.9\", \"50991.4\", \"49534.2\", \"50119.2\", \"47729.9\", \"50504.7\", \"48759.8\", \"47333.1\", \"46064.0\", \"44210.5\", \"44396.3\", \"46010.6\", \"43660.6\", \"43473.3\", \"40985.1\", \"37686.9\", \"38554.9\"], \"high\": [\"60417.9\", \"60420.3\", \"60278.0\", \"59589.5\", \"59433.4\", \"61412.1\", \"61560.4\", \"60363.3\", \"59303.3\", \"58587.9\", \"56424.1\", \"57287.8\", \"59789.0\", \"60199.0\", \"59965.4\", \"60770.5\", \"59830.8\", \"59200.0\", \"60016.1\", \"61081.5\", \"60963.7\", \"61947.1\", \"62035.9\", \"61866.4\", \"60867.7\", \"60798.5\", \"62271.2\", \"61193.2\", \"61284.5\", \"58263.3\", \"58130.8\", \"58895.9\", \"60153.2\", \"59207.8\", \"57501.5\", \"52500.2\", \"52164.7\", \"51695.4\", \"51675.1\", \"52749.5\", \"52588.3\", \"51867.3\", \"50797.0\", \"50086.8\", \"50699.5\", \"50942.0\", \"49184.1\", \"47512.3\", \"46738.7\", \"45717.3\", \"46631.0\", \"46575.4\", \"44555.5\", \"44279.8\", \"42364.6\", \"40999.9\"], \"low\": [\"59321.1\", \"59542.0\", \"58288.0\", \"58100.0\", \"58358.0\", \"58634.9\", \"59363.1\", \"58422.2\", \"56202.9\", \"55000.0\", \"54488.6\", \"54441.1\", \"56375.1\", \"58600.5\", \"58438.7\", \"58896.9\", \"56965.5\", \"57028.9\", \"57516.7\", \"58700.3\", \"58817.8\", \"59623.9\", \"59785.5\", \"60075.6\", \"57943.9\", \"59014.6\", \"60320.6\", \"58634.8\", \"55099.6\", \"56260.3\", \"56566.3\", \"57638.1\", \"58517.0\", \"57137.7\", \"49699.2\", \"46258.5\", \"49650.9\", \"48056.2\", \"50079.1\", \"51145.3\", \"50180.0\", \"49445.6\", \"48938.1\", \"47506.1\", \"47362.6\", \"48622.8\", \"44500.0\", \"42700.0\", \"43943.3\", \"42923.1\", \"43954.3\", \"43414.0\", \"42866.8\", \"39003.0\", \"29235.1\", \"36500.0\"], \"open\": [\"60018.3\", \"59715.1\", \"60195.2\", \"58797.6\", \"58821.1\", \"58664.8\", \"61346.5\", \"59759.4\", \"59291.4\", \"57685.7\", \"55248.2\", \"54684.9\", \"56535.0\", \"59680.7\", \"59849.4\", \"58932.4\", \"59380.5\", \"58441.3\", \"57759.5\", \"59796.6\", \"59276.9\", \"60788.6\", \"59785.5\", \"61431.0\", \"60397.0\", \"59404.3\", \"60596.9\", \"60910.1\", \"60698.2\", \"57655.6\", \"57640.7\", \"57987.6\", \"58669.8\", \"59143.4\", \"57301.9\", \"50782.7\", \"52074.7\", \"50937.3\", \"50976.4\", \"51270.8\", \"52529.2\", \"50973.4\", \"49539.1\", \"50086.8\", \"47760.6\", \"50511.1\", \"48735.4\", \"47313.2\", \"46083.6\", \"44130.4\", \"44441.3\", \"45995.1\", \"43631.4\", \"43499.1\", \"40982.4\", \"37639.2\"], \"type\": \"candlestick\", \"x\": [\"2021-05-01T08:00:00\", \"2021-05-01T16:00:00\", \"2021-05-02T00:00:00\", \"2021-05-02T08:00:00\", \"2021-05-02T16:00:00\", \"2021-05-03T00:00:00\", \"2021-05-03T08:00:00\", \"2021-05-03T16:00:00\", \"2021-05-04T00:00:00\", \"2021-05-04T08:00:00\", \"2021-05-04T16:00:00\", \"2021-05-05T00:00:00\", \"2021-05-05T08:00:00\", \"2021-05-05T16:00:00\", \"2021-05-06T00:00:00\", \"2021-05-06T08:00:00\", \"2021-05-06T16:00:00\", \"2021-05-07T00:00:00\", \"2021-05-07T08:00:00\", \"2021-05-07T16:00:00\", \"2021-05-08T00:00:00\", \"2021-05-08T08:00:00\", \"2021-05-08T16:00:00\", \"2021-05-09T00:00:00\", \"2021-05-09T08:00:00\", \"2021-05-09T16:00:00\", \"2021-05-10T00:00:00\", \"2021-05-10T08:00:00\", \"2021-05-10T16:00:00\", \"2021-05-11T00:00:00\", \"2021-05-11T08:00:00\", \"2021-05-11T16:00:00\", \"2021-05-12T00:00:00\", \"2021-05-12T08:00:00\", \"2021-05-12T16:00:00\", \"2021-05-13T00:00:00\", \"2021-05-13T08:00:00\", \"2021-05-13T16:00:00\", \"2021-05-14T00:00:00\", \"2021-05-14T08:00:00\", \"2021-05-14T16:00:00\", \"2021-05-15T00:00:00\", \"2021-05-15T08:00:00\", \"2021-05-15T16:00:00\", \"2021-05-16T00:00:00\", \"2021-05-16T08:00:00\", \"2021-05-16T16:00:00\", \"2021-05-17T00:00:00\", \"2021-05-17T08:00:00\", \"2021-05-17T16:00:00\", \"2021-05-18T00:00:00\", \"2021-05-18T08:00:00\", \"2021-05-18T16:00:00\", \"2021-05-19T00:00:00\", \"2021-05-19T08:00:00\", \"2021-05-19T16:00:00\"], \"xaxis\": \"x\", \"yaxis\": \"y\"}, {\"marker\": {\"color\": \"#4C78A8\"}, \"type\": \"bar\", \"x\": [\"2021-05-01T08:00:00\", \"2021-05-01T16:00:00\", \"2021-05-02T00:00:00\", \"2021-05-02T08:00:00\", \"2021-05-02T16:00:00\", \"2021-05-03T00:00:00\", \"2021-05-03T08:00:00\", \"2021-05-03T16:00:00\", \"2021-05-04T00:00:00\", \"2021-05-04T08:00:00\", \"2021-05-04T16:00:00\", \"2021-05-05T00:00:00\", \"2021-05-05T08:00:00\", \"2021-05-05T16:00:00\", \"2021-05-06T00:00:00\", \"2021-05-06T08:00:00\", \"2021-05-06T16:00:00\", \"2021-05-07T00:00:00\", \"2021-05-07T08:00:00\", \"2021-05-07T16:00:00\", \"2021-05-08T00:00:00\", \"2021-05-08T08:00:00\", \"2021-05-08T16:00:00\", \"2021-05-09T00:00:00\", \"2021-05-09T08:00:00\", \"2021-05-09T16:00:00\", \"2021-05-10T00:00:00\", \"2021-05-10T08:00:00\", \"2021-05-10T16:00:00\", \"2021-05-11T00:00:00\", \"2021-05-11T08:00:00\", \"2021-05-11T16:00:00\", \"2021-05-12T00:00:00\", \"2021-05-12T08:00:00\", \"2021-05-12T16:00:00\", \"2021-05-13T00:00:00\", \"2021-05-13T08:00:00\", \"2021-05-13T16:00:00\", \"2021-05-14T00:00:00\", \"2021-05-14T08:00:00\", \"2021-05-14T16:00:00\", \"2021-05-15T00:00:00\", \"2021-05-15T08:00:00\", \"2021-05-15T16:00:00\", \"2021-05-16T00:00:00\", \"2021-05-16T08:00:00\", \"2021-05-16T16:00:00\", \"2021-05-17T00:00:00\", \"2021-05-17T08:00:00\", \"2021-05-17T16:00:00\", \"2021-05-18T00:00:00\", \"2021-05-18T08:00:00\", \"2021-05-18T16:00:00\", \"2021-05-19T00:00:00\", \"2021-05-19T08:00:00\", \"2021-05-19T16:00:00\"], \"xaxis\": \"x2\", \"y\": [\"290.848\", \"318.805\", \"387.396\", \"282.281\", \"254.276\", \"452.074\", \"429.163\", \"285.037\", \"389.547\", \"452.138\", \"324.502\", \"345.351\", \"381.206\", \"387.512\", \"546.627\", \"327.681\", \"402.224\", \"631.024\", \"716.267\", \"447.076\", \"431.907\", \"584.534\", \"395.940\", \"684.643\", \"754.944\", \"296.296\", \"342.148\", \"572.436\", \"728.769\", \"711.504\", \"644.230\", \"365.184\", \"527.555\", \"1018.003\", \"2014.547\", \"1072.127\", \"686.809\", \"981.547\", \"619.486\", \"386.033\", \"327.066\", \"490.227\", \"568.506\", \"719.581\", \"480.902\", \"464.403\", \"1304.264\", \"1019.468\", \"458.069\", \"650.325\", \"819.681\", \"984.362\", \"1120.990\", \"2984.091\", \"3197.388\", \"479.265\"], \"yaxis\": \"y2\"}],                        {\"showlegend\": false, \"template\": {\"data\": {\"bar\": [{\"error_x\": {\"color\": \"rgb(36,36,36)\"}, \"error_y\": {\"color\": \"rgb(36,36,36)\"}, \"marker\": {\"line\": {\"color\": \"rgb(234,234,242)\", \"width\": 0.5}}, \"type\": \"bar\"}], \"barpolar\": [{\"marker\": {\"line\": {\"color\": \"rgb(234,234,242)\", \"width\": 0.5}}, \"type\": \"barpolar\"}], \"carpet\": [{\"aaxis\": {\"endlinecolor\": \"rgb(36,36,36)\", \"gridcolor\": \"white\", \"linecolor\": \"white\", \"minorgridcolor\": \"white\", \"startlinecolor\": \"rgb(36,36,36)\"}, \"baxis\": {\"endlinecolor\": \"rgb(36,36,36)\", \"gridcolor\": \"white\", \"linecolor\": \"white\", \"minorgridcolor\": \"white\", \"startlinecolor\": \"rgb(36,36,36)\"}, \"type\": \"carpet\"}], \"choropleth\": [{\"colorbar\": {\"outlinewidth\": 0, \"tickcolor\": \"rgb(36,36,36)\", \"ticklen\": 8, \"ticks\": \"outside\", \"tickwidth\": 2}, \"type\": \"choropleth\"}], \"contour\": [{\"colorbar\": {\"outlinewidth\": 0, \"tickcolor\": \"rgb(36,36,36)\", \"ticklen\": 8, \"ticks\": \"outside\", \"tickwidth\": 2}, \"colorscale\": [[0.0, \"rgb(2,4,25)\"], [0.06274509803921569, \"rgb(24,15,41)\"], [0.12549019607843137, \"rgb(47,23,57)\"], [0.18823529411764706, \"rgb(71,28,72)\"], [0.25098039215686274, \"rgb(97,30,82)\"], [0.3137254901960784, \"rgb(123,30,89)\"], [0.3764705882352941, \"rgb(150,27,91)\"], [0.4392156862745098, \"rgb(177,22,88)\"], [0.5019607843137255, \"rgb(203,26,79)\"], [0.5647058823529412, \"rgb(223,47,67)\"], [0.6274509803921569, \"rgb(236,76,61)\"], [0.6901960784313725, \"rgb(242,107,73)\"], [0.7529411764705882, \"rgb(244,135,95)\"], [0.8156862745098039, \"rgb(245,162,122)\"], [0.8784313725490196, \"rgb(246,188,153)\"], [0.9411764705882353, \"rgb(247,212,187)\"], [1.0, \"rgb(250,234,220)\"]], \"type\": \"contour\"}], \"contourcarpet\": [{\"colorbar\": {\"outlinewidth\": 0, \"tickcolor\": \"rgb(36,36,36)\", \"ticklen\": 8, \"ticks\": \"outside\", \"tickwidth\": 2}, \"type\": \"contourcarpet\"}], \"heatmap\": [{\"colorbar\": {\"outlinewidth\": 0, \"tickcolor\": \"rgb(36,36,36)\", \"ticklen\": 8, \"ticks\": \"outside\", \"tickwidth\": 2}, \"colorscale\": [[0.0, \"rgb(2,4,25)\"], [0.06274509803921569, \"rgb(24,15,41)\"], [0.12549019607843137, \"rgb(47,23,57)\"], [0.18823529411764706, \"rgb(71,28,72)\"], [0.25098039215686274, \"rgb(97,30,82)\"], [0.3137254901960784, \"rgb(123,30,89)\"], [0.3764705882352941, \"rgb(150,27,91)\"], [0.4392156862745098, \"rgb(177,22,88)\"], [0.5019607843137255, \"rgb(203,26,79)\"], [0.5647058823529412, \"rgb(223,47,67)\"], [0.6274509803921569, \"rgb(236,76,61)\"], [0.6901960784313725, \"rgb(242,107,73)\"], [0.7529411764705882, \"rgb(244,135,95)\"], [0.8156862745098039, \"rgb(245,162,122)\"], [0.8784313725490196, \"rgb(246,188,153)\"], [0.9411764705882353, \"rgb(247,212,187)\"], [1.0, \"rgb(250,234,220)\"]], \"type\": \"heatmap\"}], \"heatmapgl\": [{\"colorbar\": {\"outlinewidth\": 0, \"tickcolor\": \"rgb(36,36,36)\", \"ticklen\": 8, \"ticks\": \"outside\", \"tickwidth\": 2}, \"colorscale\": [[0.0, \"rgb(2,4,25)\"], [0.06274509803921569, \"rgb(24,15,41)\"], [0.12549019607843137, \"rgb(47,23,57)\"], [0.18823529411764706, \"rgb(71,28,72)\"], [0.25098039215686274, \"rgb(97,30,82)\"], [0.3137254901960784, \"rgb(123,30,89)\"], [0.3764705882352941, \"rgb(150,27,91)\"], [0.4392156862745098, \"rgb(177,22,88)\"], [0.5019607843137255, \"rgb(203,26,79)\"], [0.5647058823529412, \"rgb(223,47,67)\"], [0.6274509803921569, \"rgb(236,76,61)\"], [0.6901960784313725, \"rgb(242,107,73)\"], [0.7529411764705882, \"rgb(244,135,95)\"], [0.8156862745098039, \"rgb(245,162,122)\"], [0.8784313725490196, \"rgb(246,188,153)\"], [0.9411764705882353, \"rgb(247,212,187)\"], [1.0, \"rgb(250,234,220)\"]], \"type\": \"heatmapgl\"}], \"histogram\": [{\"marker\": {\"colorbar\": {\"outlinewidth\": 0, \"tickcolor\": \"rgb(36,36,36)\", \"ticklen\": 8, \"ticks\": \"outside\", \"tickwidth\": 2}}, \"type\": \"histogram\"}], \"histogram2d\": [{\"colorbar\": {\"outlinewidth\": 0, \"tickcolor\": \"rgb(36,36,36)\", \"ticklen\": 8, \"ticks\": \"outside\", \"tickwidth\": 2}, \"colorscale\": [[0.0, \"rgb(2,4,25)\"], [0.06274509803921569, \"rgb(24,15,41)\"], [0.12549019607843137, \"rgb(47,23,57)\"], [0.18823529411764706, \"rgb(71,28,72)\"], [0.25098039215686274, \"rgb(97,30,82)\"], [0.3137254901960784, \"rgb(123,30,89)\"], [0.3764705882352941, \"rgb(150,27,91)\"], [0.4392156862745098, \"rgb(177,22,88)\"], [0.5019607843137255, \"rgb(203,26,79)\"], [0.5647058823529412, \"rgb(223,47,67)\"], [0.6274509803921569, \"rgb(236,76,61)\"], [0.6901960784313725, \"rgb(242,107,73)\"], [0.7529411764705882, \"rgb(244,135,95)\"], [0.8156862745098039, \"rgb(245,162,122)\"], [0.8784313725490196, \"rgb(246,188,153)\"], [0.9411764705882353, \"rgb(247,212,187)\"], [1.0, \"rgb(250,234,220)\"]], \"type\": \"histogram2d\"}], \"histogram2dcontour\": [{\"colorbar\": {\"outlinewidth\": 0, \"tickcolor\": \"rgb(36,36,36)\", \"ticklen\": 8, \"ticks\": \"outside\", \"tickwidth\": 2}, \"colorscale\": [[0.0, \"rgb(2,4,25)\"], [0.06274509803921569, \"rgb(24,15,41)\"], [0.12549019607843137, \"rgb(47,23,57)\"], [0.18823529411764706, \"rgb(71,28,72)\"], [0.25098039215686274, \"rgb(97,30,82)\"], [0.3137254901960784, \"rgb(123,30,89)\"], [0.3764705882352941, \"rgb(150,27,91)\"], [0.4392156862745098, \"rgb(177,22,88)\"], [0.5019607843137255, \"rgb(203,26,79)\"], [0.5647058823529412, \"rgb(223,47,67)\"], [0.6274509803921569, \"rgb(236,76,61)\"], [0.6901960784313725, \"rgb(242,107,73)\"], [0.7529411764705882, \"rgb(244,135,95)\"], [0.8156862745098039, \"rgb(245,162,122)\"], [0.8784313725490196, \"rgb(246,188,153)\"], [0.9411764705882353, \"rgb(247,212,187)\"], [1.0, \"rgb(250,234,220)\"]], \"type\": \"histogram2dcontour\"}], \"mesh3d\": [{\"colorbar\": {\"outlinewidth\": 0, \"tickcolor\": \"rgb(36,36,36)\", \"ticklen\": 8, \"ticks\": \"outside\", \"tickwidth\": 2}, \"type\": \"mesh3d\"}], \"parcoords\": [{\"line\": {\"colorbar\": {\"outlinewidth\": 0, \"tickcolor\": \"rgb(36,36,36)\", \"ticklen\": 8, \"ticks\": \"outside\", \"tickwidth\": 2}}, \"type\": \"parcoords\"}], \"pie\": [{\"automargin\": true, \"type\": \"pie\"}], \"scatter\": [{\"marker\": {\"colorbar\": {\"outlinewidth\": 0, \"tickcolor\": \"rgb(36,36,36)\", \"ticklen\": 8, \"ticks\": \"outside\", \"tickwidth\": 2}}, \"type\": \"scatter\"}], \"scatter3d\": [{\"line\": {\"colorbar\": {\"outlinewidth\": 0, \"tickcolor\": \"rgb(36,36,36)\", \"ticklen\": 8, \"ticks\": \"outside\", \"tickwidth\": 2}}, \"marker\": {\"colorbar\": {\"outlinewidth\": 0, \"tickcolor\": \"rgb(36,36,36)\", \"ticklen\": 8, \"ticks\": \"outside\", \"tickwidth\": 2}}, \"type\": \"scatter3d\"}], \"scattercarpet\": [{\"marker\": {\"colorbar\": {\"outlinewidth\": 0, \"tickcolor\": \"rgb(36,36,36)\", \"ticklen\": 8, \"ticks\": \"outside\", \"tickwidth\": 2}}, \"type\": \"scattercarpet\"}], \"scattergeo\": [{\"marker\": {\"colorbar\": {\"outlinewidth\": 0, \"tickcolor\": \"rgb(36,36,36)\", \"ticklen\": 8, \"ticks\": \"outside\", \"tickwidth\": 2}}, \"type\": \"scattergeo\"}], \"scattergl\": [{\"marker\": {\"colorbar\": {\"outlinewidth\": 0, \"tickcolor\": \"rgb(36,36,36)\", \"ticklen\": 8, \"ticks\": \"outside\", \"tickwidth\": 2}}, \"type\": \"scattergl\"}], \"scattermapbox\": [{\"marker\": {\"colorbar\": {\"outlinewidth\": 0, \"tickcolor\": \"rgb(36,36,36)\", \"ticklen\": 8, \"ticks\": \"outside\", \"tickwidth\": 2}}, \"type\": \"scattermapbox\"}], \"scatterpolar\": [{\"marker\": {\"colorbar\": {\"outlinewidth\": 0, \"tickcolor\": \"rgb(36,36,36)\", \"ticklen\": 8, \"ticks\": \"outside\", \"tickwidth\": 2}}, \"type\": \"scatterpolar\"}], \"scatterpolargl\": [{\"marker\": {\"colorbar\": {\"outlinewidth\": 0, \"tickcolor\": \"rgb(36,36,36)\", \"ticklen\": 8, \"ticks\": \"outside\", \"tickwidth\": 2}}, \"type\": \"scatterpolargl\"}], \"scatterternary\": [{\"marker\": {\"colorbar\": {\"outlinewidth\": 0, \"tickcolor\": \"rgb(36,36,36)\", \"ticklen\": 8, \"ticks\": \"outside\", \"tickwidth\": 2}}, \"type\": \"scatterternary\"}], \"surface\": [{\"colorbar\": {\"outlinewidth\": 0, \"tickcolor\": \"rgb(36,36,36)\", \"ticklen\": 8, \"ticks\": \"outside\", \"tickwidth\": 2}, \"colorscale\": [[0.0, \"rgb(2,4,25)\"], [0.06274509803921569, \"rgb(24,15,41)\"], [0.12549019607843137, \"rgb(47,23,57)\"], [0.18823529411764706, \"rgb(71,28,72)\"], [0.25098039215686274, \"rgb(97,30,82)\"], [0.3137254901960784, \"rgb(123,30,89)\"], [0.3764705882352941, \"rgb(150,27,91)\"], [0.4392156862745098, \"rgb(177,22,88)\"], [0.5019607843137255, \"rgb(203,26,79)\"], [0.5647058823529412, \"rgb(223,47,67)\"], [0.6274509803921569, \"rgb(236,76,61)\"], [0.6901960784313725, \"rgb(242,107,73)\"], [0.7529411764705882, \"rgb(244,135,95)\"], [0.8156862745098039, \"rgb(245,162,122)\"], [0.8784313725490196, \"rgb(246,188,153)\"], [0.9411764705882353, \"rgb(247,212,187)\"], [1.0, \"rgb(250,234,220)\"]], \"type\": \"surface\"}], \"table\": [{\"cells\": {\"fill\": {\"color\": \"rgb(231,231,240)\"}, \"line\": {\"color\": \"white\"}}, \"header\": {\"fill\": {\"color\": \"rgb(183,183,191)\"}, \"line\": {\"color\": \"white\"}}, \"type\": \"table\"}]}, \"layout\": {\"annotationdefaults\": {\"arrowcolor\": \"rgb(67,103,167)\"}, \"autotypenumbers\": \"strict\", \"coloraxis\": {\"colorbar\": {\"outlinewidth\": 0, \"tickcolor\": \"rgb(36,36,36)\", \"ticklen\": 8, \"ticks\": \"outside\", \"tickwidth\": 2}}, \"colorscale\": {\"sequential\": [[0.0, \"rgb(2,4,25)\"], [0.06274509803921569, \"rgb(24,15,41)\"], [0.12549019607843137, \"rgb(47,23,57)\"], [0.18823529411764706, \"rgb(71,28,72)\"], [0.25098039215686274, \"rgb(97,30,82)\"], [0.3137254901960784, \"rgb(123,30,89)\"], [0.3764705882352941, \"rgb(150,27,91)\"], [0.4392156862745098, \"rgb(177,22,88)\"], [0.5019607843137255, \"rgb(203,26,79)\"], [0.5647058823529412, \"rgb(223,47,67)\"], [0.6274509803921569, \"rgb(236,76,61)\"], [0.6901960784313725, \"rgb(242,107,73)\"], [0.7529411764705882, \"rgb(244,135,95)\"], [0.8156862745098039, \"rgb(245,162,122)\"], [0.8784313725490196, \"rgb(246,188,153)\"], [0.9411764705882353, \"rgb(247,212,187)\"], [1.0, \"rgb(250,234,220)\"]], \"sequentialminus\": [[0.0, \"rgb(2,4,25)\"], [0.06274509803921569, \"rgb(24,15,41)\"], [0.12549019607843137, \"rgb(47,23,57)\"], [0.18823529411764706, \"rgb(71,28,72)\"], [0.25098039215686274, \"rgb(97,30,82)\"], [0.3137254901960784, \"rgb(123,30,89)\"], [0.3764705882352941, \"rgb(150,27,91)\"], [0.4392156862745098, \"rgb(177,22,88)\"], [0.5019607843137255, \"rgb(203,26,79)\"], [0.5647058823529412, \"rgb(223,47,67)\"], [0.6274509803921569, \"rgb(236,76,61)\"], [0.6901960784313725, \"rgb(242,107,73)\"], [0.7529411764705882, \"rgb(244,135,95)\"], [0.8156862745098039, \"rgb(245,162,122)\"], [0.8784313725490196, \"rgb(246,188,153)\"], [0.9411764705882353, \"rgb(247,212,187)\"], [1.0, \"rgb(250,234,220)\"]]}, \"colorway\": [\"rgb(76,114,176)\", \"rgb(221,132,82)\", \"rgb(85,168,104)\", \"rgb(196,78,82)\", \"rgb(129,114,179)\", \"rgb(147,120,96)\", \"rgb(218,139,195)\", \"rgb(140,140,140)\", \"rgb(204,185,116)\", \"rgb(100,181,205)\"], \"font\": {\"color\": \"rgb(36,36,36)\"}, \"geo\": {\"bgcolor\": \"white\", \"lakecolor\": \"white\", \"landcolor\": \"rgb(234,234,242)\", \"showlakes\": true, \"showland\": true, \"subunitcolor\": \"white\"}, \"hoverlabel\": {\"align\": \"left\"}, \"hovermode\": \"closest\", \"paper_bgcolor\": \"white\", \"plot_bgcolor\": \"rgb(234,234,242)\", \"polar\": {\"angularaxis\": {\"gridcolor\": \"white\", \"linecolor\": \"white\", \"showgrid\": true, \"ticks\": \"\"}, \"bgcolor\": \"rgb(234,234,242)\", \"radialaxis\": {\"gridcolor\": \"white\", \"linecolor\": \"white\", \"showgrid\": true, \"ticks\": \"\"}}, \"scene\": {\"xaxis\": {\"backgroundcolor\": \"rgb(234,234,242)\", \"gridcolor\": \"white\", \"gridwidth\": 2, \"linecolor\": \"white\", \"showbackground\": true, \"showgrid\": true, \"ticks\": \"\", \"zerolinecolor\": \"white\"}, \"yaxis\": {\"backgroundcolor\": \"rgb(234,234,242)\", \"gridcolor\": \"white\", \"gridwidth\": 2, \"linecolor\": \"white\", \"showbackground\": true, \"showgrid\": true, \"ticks\": \"\", \"zerolinecolor\": \"white\"}, \"zaxis\": {\"backgroundcolor\": \"rgb(234,234,242)\", \"gridcolor\": \"white\", \"gridwidth\": 2, \"linecolor\": \"white\", \"showbackground\": true, \"showgrid\": true, \"ticks\": \"\", \"zerolinecolor\": \"white\"}}, \"shapedefaults\": {\"fillcolor\": \"rgb(67,103,167)\", \"line\": {\"width\": 0}, \"opacity\": 0.5}, \"ternary\": {\"aaxis\": {\"gridcolor\": \"white\", \"linecolor\": \"white\", \"showgrid\": true, \"ticks\": \"\"}, \"baxis\": {\"gridcolor\": \"white\", \"linecolor\": \"white\", \"showgrid\": true, \"ticks\": \"\"}, \"bgcolor\": \"rgb(234,234,242)\", \"caxis\": {\"gridcolor\": \"white\", \"linecolor\": \"white\", \"showgrid\": true, \"ticks\": \"\"}}, \"xaxis\": {\"automargin\": true, \"gridcolor\": \"white\", \"linecolor\": \"white\", \"showgrid\": true, \"ticks\": \"\", \"title\": {\"standoff\": 15}, \"zerolinecolor\": \"white\"}, \"yaxis\": {\"automargin\": true, \"gridcolor\": \"white\", \"linecolor\": \"white\", \"showgrid\": true, \"ticks\": \"\", \"title\": {\"standoff\": 15}, \"zerolinecolor\": \"white\"}}}, \"title\": {\"text\": \"BTCUSDT Current Quarter OHLC 8 Hour Intervals\"}, \"xaxis\": {\"anchor\": \"y\", \"domain\": [0.0, 1.0], \"matches\": \"x2\", \"rangeslider\": {\"visible\": false}, \"showticklabels\": false}, \"xaxis2\": {\"anchor\": \"y2\", \"domain\": [0.0, 1.0]}, \"yaxis\": {\"anchor\": \"x\", \"domain\": [0.24555555555555558, 1.0]}, \"yaxis2\": {\"anchor\": \"x2\", \"domain\": [0.0, 0.21555555555555558]}},                        {\"responsive\": true}                    ).then(function(){\n                            \nvar gd = document.getElementById('758e4ec0-3804-442f-b2f5-12d483b48622');\nvar x = new MutationObserver(function (mutations, observer) {{\n        var display = window.getComputedStyle(gd).display;\n        if (!display || display === 'none') {{\n            console.log([gd, 'removed!']);\n            Plotly.purge(gd);\n            observer.disconnect();\n        }}\n}});\n\n// Listen for the removal of the full notebook cells\nvar notebookContainer = gd.closest('#notebook-container');\nif (notebookContainer) {{\n    x.observe(notebookContainer, {childList: true});\n}}\n\n// Listen for the clearing of the current output cell\nvar outputEl = gd.closest('.output');\nif (outputEl) {{\n    x.observe(outputEl, {childList: true});\n}}\n\n                        })                };                });            </script>        </div>"
     },
     "metadata": {},
     "output_type": "display_data"
    }
   ],
   "source": [
    "df_perpetual = utils.get_continuous_contracts(pair=\"BTCUSDT\", start_time=\"2021-05-01\", contract_type=\"CURRENT_QUARTER\")\n",
    "utils.make_price_volume_chart(df_perpetual, title=\"BTCUSDT Current Quarter OHLC 8 Hour Intervals\")"
   ]
  },
  {
   "cell_type": "markdown",
   "metadata": {},
   "source": [
    "## Spot Prices"
   ]
  },
  {
   "cell_type": "markdown",
   "metadata": {},
   "source": [
    "These are the same prices as above."
   ]
  },
  {
   "cell_type": "code",
   "execution_count": 112,
   "metadata": {},
   "outputs": [
    {
     "data": {
      "application/vnd.plotly.v1+json": {
       "config": {
        "plotlyServerURL": "https://plot.ly"
       },
       "data": [
        {
         "close": [
          "57356.58000000",
          "57800.37000000",
          "56633.02000000",
          "56595.20000000",
          "56578.21000000",
          "58787.87000000",
          "57601.83000000",
          "57169.39000000",
          "55917.97000000",
          "53799.33000000",
          "53200.01000000",
          "54858.35000000",
          "57636.74000000",
          "57436.11000000",
          "56814.79000000",
          "57088.49000000",
          "56393.68000000",
          "55766.34000000",
          "57519.24000000",
          "57314.75000000",
          "58463.06000000",
          "57599.87000000",
          "58862.05000000",
          "57965.59000000",
          "57379.58000000",
          "58240.84000000",
          "58370.17000000",
          "58296.36000000",
          "55816.14000000",
          "55740.09000000",
          "56052.82000000",
          "56670.02000000",
          "57101.07000000",
          "55479.13000000",
          "49631.32000000",
          "50879.72000000",
          "49627.64000000",
          "49670.97000000",
          "49987.20000000",
          "51211.98000000",
          "49841.45000000",
          "48469.28000000",
          "48982.99000000",
          "46762.99000000",
          "49375.28000000",
          "47727.26000000",
          "46431.50000000",
          "45149.18000000",
          "43362.75000000",
          "43538.04000000",
          "45172.70000000",
          "42969.47000000",
          "42849.78000000",
          "40371.44000000",
          "37318.52000000",
          "38098.26000000"
         ],
         "high": [
          "58043.01000000",
          "57998.97000000",
          "57911.02000000",
          "57286.96000000",
          "57141.05000000",
          "58848.00000000",
          "58981.44000000",
          "58170.00000000",
          "57200.00000000",
          "56637.89000000",
          "54824.00000000",
          "55415.83000000",
          "57712.06000000",
          "58069.82000000",
          "57570.00000000",
          "58360.00000000",
          "57475.00000000",
          "57122.17000000",
          "57680.00000000",
          "58650.00000000",
          "58599.99000000",
          "59438.64000000",
          "59500.00000000",
          "59300.00000000",
          "58400.00000000",
          "58439.70000000",
          "59500.00000000",
          "58593.79000000",
          "58593.70000000",
          "56435.48000000",
          "56190.00000000",
          "56862.43000000",
          "58000.01000000",
          "57195.50000000",
          "55677.31000000",
          "51367.19000000",
          "50950.00000000",
          "50429.99000000",
          "50390.70000000",
          "51483.00000000",
          "51322.41000000",
          "50700.00000000",
          "49697.63000000",
          "48994.27000000",
          "49500.00000000",
          "49795.89000000",
          "48097.59000000",
          "46686.00000000",
          "45800.00000000",
          "44939.20000000",
          "45799.29000000",
          "45662.14000000",
          "43825.65000000",
          "43584.90000000",
          "40888.00000000",
          "40442.00000000"
         ],
         "low": [
          "56956.14000000",
          "57218.00000000",
          "56171.31000000",
          "56035.25000000",
          "56212.00000000",
          "56525.00000000",
          "57260.00000000",
          "56435.00000000",
          "54580.00000000",
          "53526.00000000",
          "53046.69000000",
          "52900.00000000",
          "54679.13000000",
          "56576.04000000",
          "56331.66000000",
          "56763.00000000",
          "55200.00000000",
          "55241.63000000",
          "55570.35000000",
          "56749.75000000",
          "56900.00000000",
          "57472.95000000",
          "57560.63000000",
          "57575.00000000",
          "56235.66000000",
          "57048.96000000",
          "58009.96000000",
          "56700.00000000",
          "53400.00000000",
          "54370.00000000",
          "54766.44000000",
          "55750.00000000",
          "56555.12000000",
          "55232.56000000",
          "48600.00000000",
          "46000.00000000",
          "48457.12000000",
          "47000.00000000",
          "48799.75000000",
          "49880.00000000",
          "49030.00000000",
          "48400.00000000",
          "47721.84000000",
          "46555.00000000",
          "46467.00000000",
          "47566.01000000",
          "43825.39000000",
          "42196.97000000",
          "43156.00000000",
          "42001.00000000",
          "43150.79000000",
          "42507.00000000",
          "42250.02000000",
          "38550.00000000",
          "30000.00000000",
          "36111.00000000"
         ],
         "open": [
          "57725.14000000",
          "57356.59000000",
          "57797.35000000",
          "56633.03000000",
          "56595.20000000",
          "56578.21000000",
          "58787.88000000",
          "57603.33000000",
          "57169.39000000",
          "55917.98000000",
          "53802.54000000",
          "53205.05000000",
          "54858.35000000",
          "57635.89000000",
          "57436.11000000",
          "56814.79000000",
          "57088.48000000",
          "56393.68000000",
          "55766.33000000",
          "57519.25000000",
          "57315.49000000",
          "58463.06000000",
          "57599.86000000",
          "58866.53000000",
          "57965.59000000",
          "57379.58000000",
          "58240.83000000",
          "58370.17000000",
          "58296.35000000",
          "55816.14000000",
          "55737.89000000",
          "56052.83000000",
          "56670.02000000",
          "57101.08000000",
          "55479.13000000",
          "49537.15000000",
          "50879.73000000",
          "49627.63000000",
          "49671.92000000",
          "49987.19000000",
          "51211.98000000",
          "49844.16000000",
          "48469.71000000",
          "48983.00000000",
          "46762.99000000",
          "49375.28000000",
          "47727.26000000",
          "46426.83000000",
          "45143.28000000",
          "43357.00000000",
          "43538.02000000",
          "45172.69000000",
          "42969.46000000",
          "42849.78000000",
          "40354.98000000",
          "37310.14000000"
         ],
         "type": "candlestick",
         "x": [
          "2021-05-01T08:00:00",
          "2021-05-01T16:00:00",
          "2021-05-02T00:00:00",
          "2021-05-02T08:00:00",
          "2021-05-02T16:00:00",
          "2021-05-03T00:00:00",
          "2021-05-03T08:00:00",
          "2021-05-03T16:00:00",
          "2021-05-04T00:00:00",
          "2021-05-04T08:00:00",
          "2021-05-04T16:00:00",
          "2021-05-05T00:00:00",
          "2021-05-05T08:00:00",
          "2021-05-05T16:00:00",
          "2021-05-06T00:00:00",
          "2021-05-06T08:00:00",
          "2021-05-06T16:00:00",
          "2021-05-07T00:00:00",
          "2021-05-07T08:00:00",
          "2021-05-07T16:00:00",
          "2021-05-08T00:00:00",
          "2021-05-08T08:00:00",
          "2021-05-08T16:00:00",
          "2021-05-09T00:00:00",
          "2021-05-09T08:00:00",
          "2021-05-09T16:00:00",
          "2021-05-10T00:00:00",
          "2021-05-10T08:00:00",
          "2021-05-10T16:00:00",
          "2021-05-11T00:00:00",
          "2021-05-11T08:00:00",
          "2021-05-11T16:00:00",
          "2021-05-12T00:00:00",
          "2021-05-12T08:00:00",
          "2021-05-12T16:00:00",
          "2021-05-13T00:00:00",
          "2021-05-13T08:00:00",
          "2021-05-13T16:00:00",
          "2021-05-14T00:00:00",
          "2021-05-14T08:00:00",
          "2021-05-14T16:00:00",
          "2021-05-15T00:00:00",
          "2021-05-15T08:00:00",
          "2021-05-15T16:00:00",
          "2021-05-16T00:00:00",
          "2021-05-16T08:00:00",
          "2021-05-16T16:00:00",
          "2021-05-17T00:00:00",
          "2021-05-17T08:00:00",
          "2021-05-17T16:00:00",
          "2021-05-18T00:00:00",
          "2021-05-18T08:00:00",
          "2021-05-18T16:00:00",
          "2021-05-19T00:00:00",
          "2021-05-19T08:00:00",
          "2021-05-19T16:00:00"
         ],
         "xaxis": "x",
         "yaxis": "y"
        },
        {
         "marker": {
          "color": "#4C78A8"
         },
         "type": "bar",
         "x": [
          "2021-05-01T08:00:00",
          "2021-05-01T16:00:00",
          "2021-05-02T00:00:00",
          "2021-05-02T08:00:00",
          "2021-05-02T16:00:00",
          "2021-05-03T00:00:00",
          "2021-05-03T08:00:00",
          "2021-05-03T16:00:00",
          "2021-05-04T00:00:00",
          "2021-05-04T08:00:00",
          "2021-05-04T16:00:00",
          "2021-05-05T00:00:00",
          "2021-05-05T08:00:00",
          "2021-05-05T16:00:00",
          "2021-05-06T00:00:00",
          "2021-05-06T08:00:00",
          "2021-05-06T16:00:00",
          "2021-05-07T00:00:00",
          "2021-05-07T08:00:00",
          "2021-05-07T16:00:00",
          "2021-05-08T00:00:00",
          "2021-05-08T08:00:00",
          "2021-05-08T16:00:00",
          "2021-05-09T00:00:00",
          "2021-05-09T08:00:00",
          "2021-05-09T16:00:00",
          "2021-05-10T00:00:00",
          "2021-05-10T08:00:00",
          "2021-05-10T16:00:00",
          "2021-05-11T00:00:00",
          "2021-05-11T08:00:00",
          "2021-05-11T16:00:00",
          "2021-05-12T00:00:00",
          "2021-05-12T08:00:00",
          "2021-05-12T16:00:00",
          "2021-05-13T00:00:00",
          "2021-05-13T08:00:00",
          "2021-05-13T16:00:00",
          "2021-05-14T00:00:00",
          "2021-05-14T08:00:00",
          "2021-05-14T16:00:00",
          "2021-05-15T00:00:00",
          "2021-05-15T08:00:00",
          "2021-05-15T16:00:00",
          "2021-05-16T00:00:00",
          "2021-05-16T08:00:00",
          "2021-05-16T16:00:00",
          "2021-05-17T00:00:00",
          "2021-05-17T08:00:00",
          "2021-05-17T16:00:00",
          "2021-05-18T00:00:00",
          "2021-05-18T08:00:00",
          "2021-05-18T16:00:00",
          "2021-05-19T00:00:00",
          "2021-05-19T08:00:00",
          "2021-05-19T16:00:00"
         ],
         "xaxis": "x2",
         "y": [
          "14566.66645500",
          "11206.84873300",
          "13347.55995600",
          "13155.23760500",
          "10310.08130200",
          "18743.26328400",
          "20603.88801500",
          "18302.77998700",
          "25496.76948500",
          "36181.74330000",
          "23646.11311800",
          "23208.39187700",
          "29294.35510100",
          "24761.17646100",
          "19369.43368200",
          "24552.85507300",
          "26259.38315300",
          "22910.94732200",
          "25220.21341400",
          "26411.58709300",
          "18335.42014900",
          "29743.89926100",
          "21630.58661800",
          "28027.54036900",
          "24795.60303200",
          "16982.97650900",
          "20791.20840300",
          "28975.49517100",
          "39819.64567600",
          "23788.29862800",
          "24895.68618700",
          "15645.55573500",
          "19815.68934600",
          "28344.90989800",
          "51682.19059200",
          "58910.80087500",
          "45446.03116000",
          "42975.17008600",
          "27897.21214500",
          "28782.75040800",
          "23402.24175300",
          "25292.64638000",
          "31049.85593100",
          "33094.94704800",
          "23603.13475700",
          "25122.96857800",
          "65543.70944000",
          "68729.31661700",
          "46989.49682500",
          "50938.35929400",
          "36471.35000200",
          "42676.01319000",
          "37832.49759200",
          "85194.67802500",
          "168694.17433500",
          "53293.24202900"
         ],
         "yaxis": "y2"
        }
       ],
       "layout": {
        "showlegend": false,
        "template": {
         "data": {
          "bar": [
           {
            "error_x": {
             "color": "rgb(36,36,36)"
            },
            "error_y": {
             "color": "rgb(36,36,36)"
            },
            "marker": {
             "line": {
              "color": "rgb(234,234,242)",
              "width": 0.5
             }
            },
            "type": "bar"
           }
          ],
          "barpolar": [
           {
            "marker": {
             "line": {
              "color": "rgb(234,234,242)",
              "width": 0.5
             }
            },
            "type": "barpolar"
           }
          ],
          "carpet": [
           {
            "aaxis": {
             "endlinecolor": "rgb(36,36,36)",
             "gridcolor": "white",
             "linecolor": "white",
             "minorgridcolor": "white",
             "startlinecolor": "rgb(36,36,36)"
            },
            "baxis": {
             "endlinecolor": "rgb(36,36,36)",
             "gridcolor": "white",
             "linecolor": "white",
             "minorgridcolor": "white",
             "startlinecolor": "rgb(36,36,36)"
            },
            "type": "carpet"
           }
          ],
          "choropleth": [
           {
            "colorbar": {
             "outlinewidth": 0,
             "tickcolor": "rgb(36,36,36)",
             "ticklen": 8,
             "ticks": "outside",
             "tickwidth": 2
            },
            "type": "choropleth"
           }
          ],
          "contour": [
           {
            "colorbar": {
             "outlinewidth": 0,
             "tickcolor": "rgb(36,36,36)",
             "ticklen": 8,
             "ticks": "outside",
             "tickwidth": 2
            },
            "colorscale": [
             [
              0,
              "rgb(2,4,25)"
             ],
             [
              0.06274509803921569,
              "rgb(24,15,41)"
             ],
             [
              0.12549019607843137,
              "rgb(47,23,57)"
             ],
             [
              0.18823529411764706,
              "rgb(71,28,72)"
             ],
             [
              0.25098039215686274,
              "rgb(97,30,82)"
             ],
             [
              0.3137254901960784,
              "rgb(123,30,89)"
             ],
             [
              0.3764705882352941,
              "rgb(150,27,91)"
             ],
             [
              0.4392156862745098,
              "rgb(177,22,88)"
             ],
             [
              0.5019607843137255,
              "rgb(203,26,79)"
             ],
             [
              0.5647058823529412,
              "rgb(223,47,67)"
             ],
             [
              0.6274509803921569,
              "rgb(236,76,61)"
             ],
             [
              0.6901960784313725,
              "rgb(242,107,73)"
             ],
             [
              0.7529411764705882,
              "rgb(244,135,95)"
             ],
             [
              0.8156862745098039,
              "rgb(245,162,122)"
             ],
             [
              0.8784313725490196,
              "rgb(246,188,153)"
             ],
             [
              0.9411764705882353,
              "rgb(247,212,187)"
             ],
             [
              1,
              "rgb(250,234,220)"
             ]
            ],
            "type": "contour"
           }
          ],
          "contourcarpet": [
           {
            "colorbar": {
             "outlinewidth": 0,
             "tickcolor": "rgb(36,36,36)",
             "ticklen": 8,
             "ticks": "outside",
             "tickwidth": 2
            },
            "type": "contourcarpet"
           }
          ],
          "heatmap": [
           {
            "colorbar": {
             "outlinewidth": 0,
             "tickcolor": "rgb(36,36,36)",
             "ticklen": 8,
             "ticks": "outside",
             "tickwidth": 2
            },
            "colorscale": [
             [
              0,
              "rgb(2,4,25)"
             ],
             [
              0.06274509803921569,
              "rgb(24,15,41)"
             ],
             [
              0.12549019607843137,
              "rgb(47,23,57)"
             ],
             [
              0.18823529411764706,
              "rgb(71,28,72)"
             ],
             [
              0.25098039215686274,
              "rgb(97,30,82)"
             ],
             [
              0.3137254901960784,
              "rgb(123,30,89)"
             ],
             [
              0.3764705882352941,
              "rgb(150,27,91)"
             ],
             [
              0.4392156862745098,
              "rgb(177,22,88)"
             ],
             [
              0.5019607843137255,
              "rgb(203,26,79)"
             ],
             [
              0.5647058823529412,
              "rgb(223,47,67)"
             ],
             [
              0.6274509803921569,
              "rgb(236,76,61)"
             ],
             [
              0.6901960784313725,
              "rgb(242,107,73)"
             ],
             [
              0.7529411764705882,
              "rgb(244,135,95)"
             ],
             [
              0.8156862745098039,
              "rgb(245,162,122)"
             ],
             [
              0.8784313725490196,
              "rgb(246,188,153)"
             ],
             [
              0.9411764705882353,
              "rgb(247,212,187)"
             ],
             [
              1,
              "rgb(250,234,220)"
             ]
            ],
            "type": "heatmap"
           }
          ],
          "heatmapgl": [
           {
            "colorbar": {
             "outlinewidth": 0,
             "tickcolor": "rgb(36,36,36)",
             "ticklen": 8,
             "ticks": "outside",
             "tickwidth": 2
            },
            "colorscale": [
             [
              0,
              "rgb(2,4,25)"
             ],
             [
              0.06274509803921569,
              "rgb(24,15,41)"
             ],
             [
              0.12549019607843137,
              "rgb(47,23,57)"
             ],
             [
              0.18823529411764706,
              "rgb(71,28,72)"
             ],
             [
              0.25098039215686274,
              "rgb(97,30,82)"
             ],
             [
              0.3137254901960784,
              "rgb(123,30,89)"
             ],
             [
              0.3764705882352941,
              "rgb(150,27,91)"
             ],
             [
              0.4392156862745098,
              "rgb(177,22,88)"
             ],
             [
              0.5019607843137255,
              "rgb(203,26,79)"
             ],
             [
              0.5647058823529412,
              "rgb(223,47,67)"
             ],
             [
              0.6274509803921569,
              "rgb(236,76,61)"
             ],
             [
              0.6901960784313725,
              "rgb(242,107,73)"
             ],
             [
              0.7529411764705882,
              "rgb(244,135,95)"
             ],
             [
              0.8156862745098039,
              "rgb(245,162,122)"
             ],
             [
              0.8784313725490196,
              "rgb(246,188,153)"
             ],
             [
              0.9411764705882353,
              "rgb(247,212,187)"
             ],
             [
              1,
              "rgb(250,234,220)"
             ]
            ],
            "type": "heatmapgl"
           }
          ],
          "histogram": [
           {
            "marker": {
             "colorbar": {
              "outlinewidth": 0,
              "tickcolor": "rgb(36,36,36)",
              "ticklen": 8,
              "ticks": "outside",
              "tickwidth": 2
             }
            },
            "type": "histogram"
           }
          ],
          "histogram2d": [
           {
            "colorbar": {
             "outlinewidth": 0,
             "tickcolor": "rgb(36,36,36)",
             "ticklen": 8,
             "ticks": "outside",
             "tickwidth": 2
            },
            "colorscale": [
             [
              0,
              "rgb(2,4,25)"
             ],
             [
              0.06274509803921569,
              "rgb(24,15,41)"
             ],
             [
              0.12549019607843137,
              "rgb(47,23,57)"
             ],
             [
              0.18823529411764706,
              "rgb(71,28,72)"
             ],
             [
              0.25098039215686274,
              "rgb(97,30,82)"
             ],
             [
              0.3137254901960784,
              "rgb(123,30,89)"
             ],
             [
              0.3764705882352941,
              "rgb(150,27,91)"
             ],
             [
              0.4392156862745098,
              "rgb(177,22,88)"
             ],
             [
              0.5019607843137255,
              "rgb(203,26,79)"
             ],
             [
              0.5647058823529412,
              "rgb(223,47,67)"
             ],
             [
              0.6274509803921569,
              "rgb(236,76,61)"
             ],
             [
              0.6901960784313725,
              "rgb(242,107,73)"
             ],
             [
              0.7529411764705882,
              "rgb(244,135,95)"
             ],
             [
              0.8156862745098039,
              "rgb(245,162,122)"
             ],
             [
              0.8784313725490196,
              "rgb(246,188,153)"
             ],
             [
              0.9411764705882353,
              "rgb(247,212,187)"
             ],
             [
              1,
              "rgb(250,234,220)"
             ]
            ],
            "type": "histogram2d"
           }
          ],
          "histogram2dcontour": [
           {
            "colorbar": {
             "outlinewidth": 0,
             "tickcolor": "rgb(36,36,36)",
             "ticklen": 8,
             "ticks": "outside",
             "tickwidth": 2
            },
            "colorscale": [
             [
              0,
              "rgb(2,4,25)"
             ],
             [
              0.06274509803921569,
              "rgb(24,15,41)"
             ],
             [
              0.12549019607843137,
              "rgb(47,23,57)"
             ],
             [
              0.18823529411764706,
              "rgb(71,28,72)"
             ],
             [
              0.25098039215686274,
              "rgb(97,30,82)"
             ],
             [
              0.3137254901960784,
              "rgb(123,30,89)"
             ],
             [
              0.3764705882352941,
              "rgb(150,27,91)"
             ],
             [
              0.4392156862745098,
              "rgb(177,22,88)"
             ],
             [
              0.5019607843137255,
              "rgb(203,26,79)"
             ],
             [
              0.5647058823529412,
              "rgb(223,47,67)"
             ],
             [
              0.6274509803921569,
              "rgb(236,76,61)"
             ],
             [
              0.6901960784313725,
              "rgb(242,107,73)"
             ],
             [
              0.7529411764705882,
              "rgb(244,135,95)"
             ],
             [
              0.8156862745098039,
              "rgb(245,162,122)"
             ],
             [
              0.8784313725490196,
              "rgb(246,188,153)"
             ],
             [
              0.9411764705882353,
              "rgb(247,212,187)"
             ],
             [
              1,
              "rgb(250,234,220)"
             ]
            ],
            "type": "histogram2dcontour"
           }
          ],
          "mesh3d": [
           {
            "colorbar": {
             "outlinewidth": 0,
             "tickcolor": "rgb(36,36,36)",
             "ticklen": 8,
             "ticks": "outside",
             "tickwidth": 2
            },
            "type": "mesh3d"
           }
          ],
          "parcoords": [
           {
            "line": {
             "colorbar": {
              "outlinewidth": 0,
              "tickcolor": "rgb(36,36,36)",
              "ticklen": 8,
              "ticks": "outside",
              "tickwidth": 2
             }
            },
            "type": "parcoords"
           }
          ],
          "pie": [
           {
            "automargin": true,
            "type": "pie"
           }
          ],
          "scatter": [
           {
            "marker": {
             "colorbar": {
              "outlinewidth": 0,
              "tickcolor": "rgb(36,36,36)",
              "ticklen": 8,
              "ticks": "outside",
              "tickwidth": 2
             }
            },
            "type": "scatter"
           }
          ],
          "scatter3d": [
           {
            "line": {
             "colorbar": {
              "outlinewidth": 0,
              "tickcolor": "rgb(36,36,36)",
              "ticklen": 8,
              "ticks": "outside",
              "tickwidth": 2
             }
            },
            "marker": {
             "colorbar": {
              "outlinewidth": 0,
              "tickcolor": "rgb(36,36,36)",
              "ticklen": 8,
              "ticks": "outside",
              "tickwidth": 2
             }
            },
            "type": "scatter3d"
           }
          ],
          "scattercarpet": [
           {
            "marker": {
             "colorbar": {
              "outlinewidth": 0,
              "tickcolor": "rgb(36,36,36)",
              "ticklen": 8,
              "ticks": "outside",
              "tickwidth": 2
             }
            },
            "type": "scattercarpet"
           }
          ],
          "scattergeo": [
           {
            "marker": {
             "colorbar": {
              "outlinewidth": 0,
              "tickcolor": "rgb(36,36,36)",
              "ticklen": 8,
              "ticks": "outside",
              "tickwidth": 2
             }
            },
            "type": "scattergeo"
           }
          ],
          "scattergl": [
           {
            "marker": {
             "colorbar": {
              "outlinewidth": 0,
              "tickcolor": "rgb(36,36,36)",
              "ticklen": 8,
              "ticks": "outside",
              "tickwidth": 2
             }
            },
            "type": "scattergl"
           }
          ],
          "scattermapbox": [
           {
            "marker": {
             "colorbar": {
              "outlinewidth": 0,
              "tickcolor": "rgb(36,36,36)",
              "ticklen": 8,
              "ticks": "outside",
              "tickwidth": 2
             }
            },
            "type": "scattermapbox"
           }
          ],
          "scatterpolar": [
           {
            "marker": {
             "colorbar": {
              "outlinewidth": 0,
              "tickcolor": "rgb(36,36,36)",
              "ticklen": 8,
              "ticks": "outside",
              "tickwidth": 2
             }
            },
            "type": "scatterpolar"
           }
          ],
          "scatterpolargl": [
           {
            "marker": {
             "colorbar": {
              "outlinewidth": 0,
              "tickcolor": "rgb(36,36,36)",
              "ticklen": 8,
              "ticks": "outside",
              "tickwidth": 2
             }
            },
            "type": "scatterpolargl"
           }
          ],
          "scatterternary": [
           {
            "marker": {
             "colorbar": {
              "outlinewidth": 0,
              "tickcolor": "rgb(36,36,36)",
              "ticklen": 8,
              "ticks": "outside",
              "tickwidth": 2
             }
            },
            "type": "scatterternary"
           }
          ],
          "surface": [
           {
            "colorbar": {
             "outlinewidth": 0,
             "tickcolor": "rgb(36,36,36)",
             "ticklen": 8,
             "ticks": "outside",
             "tickwidth": 2
            },
            "colorscale": [
             [
              0,
              "rgb(2,4,25)"
             ],
             [
              0.06274509803921569,
              "rgb(24,15,41)"
             ],
             [
              0.12549019607843137,
              "rgb(47,23,57)"
             ],
             [
              0.18823529411764706,
              "rgb(71,28,72)"
             ],
             [
              0.25098039215686274,
              "rgb(97,30,82)"
             ],
             [
              0.3137254901960784,
              "rgb(123,30,89)"
             ],
             [
              0.3764705882352941,
              "rgb(150,27,91)"
             ],
             [
              0.4392156862745098,
              "rgb(177,22,88)"
             ],
             [
              0.5019607843137255,
              "rgb(203,26,79)"
             ],
             [
              0.5647058823529412,
              "rgb(223,47,67)"
             ],
             [
              0.6274509803921569,
              "rgb(236,76,61)"
             ],
             [
              0.6901960784313725,
              "rgb(242,107,73)"
             ],
             [
              0.7529411764705882,
              "rgb(244,135,95)"
             ],
             [
              0.8156862745098039,
              "rgb(245,162,122)"
             ],
             [
              0.8784313725490196,
              "rgb(246,188,153)"
             ],
             [
              0.9411764705882353,
              "rgb(247,212,187)"
             ],
             [
              1,
              "rgb(250,234,220)"
             ]
            ],
            "type": "surface"
           }
          ],
          "table": [
           {
            "cells": {
             "fill": {
              "color": "rgb(231,231,240)"
             },
             "line": {
              "color": "white"
             }
            },
            "header": {
             "fill": {
              "color": "rgb(183,183,191)"
             },
             "line": {
              "color": "white"
             }
            },
            "type": "table"
           }
          ]
         },
         "layout": {
          "annotationdefaults": {
           "arrowcolor": "rgb(67,103,167)"
          },
          "autotypenumbers": "strict",
          "coloraxis": {
           "colorbar": {
            "outlinewidth": 0,
            "tickcolor": "rgb(36,36,36)",
            "ticklen": 8,
            "ticks": "outside",
            "tickwidth": 2
           }
          },
          "colorscale": {
           "sequential": [
            [
             0,
             "rgb(2,4,25)"
            ],
            [
             0.06274509803921569,
             "rgb(24,15,41)"
            ],
            [
             0.12549019607843137,
             "rgb(47,23,57)"
            ],
            [
             0.18823529411764706,
             "rgb(71,28,72)"
            ],
            [
             0.25098039215686274,
             "rgb(97,30,82)"
            ],
            [
             0.3137254901960784,
             "rgb(123,30,89)"
            ],
            [
             0.3764705882352941,
             "rgb(150,27,91)"
            ],
            [
             0.4392156862745098,
             "rgb(177,22,88)"
            ],
            [
             0.5019607843137255,
             "rgb(203,26,79)"
            ],
            [
             0.5647058823529412,
             "rgb(223,47,67)"
            ],
            [
             0.6274509803921569,
             "rgb(236,76,61)"
            ],
            [
             0.6901960784313725,
             "rgb(242,107,73)"
            ],
            [
             0.7529411764705882,
             "rgb(244,135,95)"
            ],
            [
             0.8156862745098039,
             "rgb(245,162,122)"
            ],
            [
             0.8784313725490196,
             "rgb(246,188,153)"
            ],
            [
             0.9411764705882353,
             "rgb(247,212,187)"
            ],
            [
             1,
             "rgb(250,234,220)"
            ]
           ],
           "sequentialminus": [
            [
             0,
             "rgb(2,4,25)"
            ],
            [
             0.06274509803921569,
             "rgb(24,15,41)"
            ],
            [
             0.12549019607843137,
             "rgb(47,23,57)"
            ],
            [
             0.18823529411764706,
             "rgb(71,28,72)"
            ],
            [
             0.25098039215686274,
             "rgb(97,30,82)"
            ],
            [
             0.3137254901960784,
             "rgb(123,30,89)"
            ],
            [
             0.3764705882352941,
             "rgb(150,27,91)"
            ],
            [
             0.4392156862745098,
             "rgb(177,22,88)"
            ],
            [
             0.5019607843137255,
             "rgb(203,26,79)"
            ],
            [
             0.5647058823529412,
             "rgb(223,47,67)"
            ],
            [
             0.6274509803921569,
             "rgb(236,76,61)"
            ],
            [
             0.6901960784313725,
             "rgb(242,107,73)"
            ],
            [
             0.7529411764705882,
             "rgb(244,135,95)"
            ],
            [
             0.8156862745098039,
             "rgb(245,162,122)"
            ],
            [
             0.8784313725490196,
             "rgb(246,188,153)"
            ],
            [
             0.9411764705882353,
             "rgb(247,212,187)"
            ],
            [
             1,
             "rgb(250,234,220)"
            ]
           ]
          },
          "colorway": [
           "rgb(76,114,176)",
           "rgb(221,132,82)",
           "rgb(85,168,104)",
           "rgb(196,78,82)",
           "rgb(129,114,179)",
           "rgb(147,120,96)",
           "rgb(218,139,195)",
           "rgb(140,140,140)",
           "rgb(204,185,116)",
           "rgb(100,181,205)"
          ],
          "font": {
           "color": "rgb(36,36,36)"
          },
          "geo": {
           "bgcolor": "white",
           "lakecolor": "white",
           "landcolor": "rgb(234,234,242)",
           "showlakes": true,
           "showland": true,
           "subunitcolor": "white"
          },
          "hoverlabel": {
           "align": "left"
          },
          "hovermode": "closest",
          "paper_bgcolor": "white",
          "plot_bgcolor": "rgb(234,234,242)",
          "polar": {
           "angularaxis": {
            "gridcolor": "white",
            "linecolor": "white",
            "showgrid": true,
            "ticks": ""
           },
           "bgcolor": "rgb(234,234,242)",
           "radialaxis": {
            "gridcolor": "white",
            "linecolor": "white",
            "showgrid": true,
            "ticks": ""
           }
          },
          "scene": {
           "xaxis": {
            "backgroundcolor": "rgb(234,234,242)",
            "gridcolor": "white",
            "gridwidth": 2,
            "linecolor": "white",
            "showbackground": true,
            "showgrid": true,
            "ticks": "",
            "zerolinecolor": "white"
           },
           "yaxis": {
            "backgroundcolor": "rgb(234,234,242)",
            "gridcolor": "white",
            "gridwidth": 2,
            "linecolor": "white",
            "showbackground": true,
            "showgrid": true,
            "ticks": "",
            "zerolinecolor": "white"
           },
           "zaxis": {
            "backgroundcolor": "rgb(234,234,242)",
            "gridcolor": "white",
            "gridwidth": 2,
            "linecolor": "white",
            "showbackground": true,
            "showgrid": true,
            "ticks": "",
            "zerolinecolor": "white"
           }
          },
          "shapedefaults": {
           "fillcolor": "rgb(67,103,167)",
           "line": {
            "width": 0
           },
           "opacity": 0.5
          },
          "ternary": {
           "aaxis": {
            "gridcolor": "white",
            "linecolor": "white",
            "showgrid": true,
            "ticks": ""
           },
           "baxis": {
            "gridcolor": "white",
            "linecolor": "white",
            "showgrid": true,
            "ticks": ""
           },
           "bgcolor": "rgb(234,234,242)",
           "caxis": {
            "gridcolor": "white",
            "linecolor": "white",
            "showgrid": true,
            "ticks": ""
           }
          },
          "xaxis": {
           "automargin": true,
           "gridcolor": "white",
           "linecolor": "white",
           "showgrid": true,
           "ticks": "",
           "title": {
            "standoff": 15
           },
           "zerolinecolor": "white"
          },
          "yaxis": {
           "automargin": true,
           "gridcolor": "white",
           "linecolor": "white",
           "showgrid": true,
           "ticks": "",
           "title": {
            "standoff": 15
           },
           "zerolinecolor": "white"
          }
         }
        },
        "title": {
         "text": "BTCUSDT OHLC 8 Hour Intervals"
        },
        "xaxis": {
         "anchor": "y",
         "domain": [
          0,
          1
         ],
         "matches": "x2",
         "rangeslider": {
          "visible": false
         },
         "showticklabels": false
        },
        "xaxis2": {
         "anchor": "y2",
         "domain": [
          0,
          1
         ]
        },
        "yaxis": {
         "anchor": "x",
         "domain": [
          0.24555555555555558,
          1
         ]
        },
        "yaxis2": {
         "anchor": "x2",
         "domain": [
          0,
          0.21555555555555558
         ]
        }
       }
      },
      "text/html": "<div>                            <div id=\"75fb5ff8-e274-4aa4-9a24-e658ab9685b6\" class=\"plotly-graph-div\" style=\"height:525px; width:100%;\"></div>            <script type=\"text/javascript\">                require([\"plotly\"], function(Plotly) {                    window.PLOTLYENV=window.PLOTLYENV || {};                                    if (document.getElementById(\"75fb5ff8-e274-4aa4-9a24-e658ab9685b6\")) {                    Plotly.newPlot(                        \"75fb5ff8-e274-4aa4-9a24-e658ab9685b6\",                        [{\"close\": [\"57356.58000000\", \"57800.37000000\", \"56633.02000000\", \"56595.20000000\", \"56578.21000000\", \"58787.87000000\", \"57601.83000000\", \"57169.39000000\", \"55917.97000000\", \"53799.33000000\", \"53200.01000000\", \"54858.35000000\", \"57636.74000000\", \"57436.11000000\", \"56814.79000000\", \"57088.49000000\", \"56393.68000000\", \"55766.34000000\", \"57519.24000000\", \"57314.75000000\", \"58463.06000000\", \"57599.87000000\", \"58862.05000000\", \"57965.59000000\", \"57379.58000000\", \"58240.84000000\", \"58370.17000000\", \"58296.36000000\", \"55816.14000000\", \"55740.09000000\", \"56052.82000000\", \"56670.02000000\", \"57101.07000000\", \"55479.13000000\", \"49631.32000000\", \"50879.72000000\", \"49627.64000000\", \"49670.97000000\", \"49987.20000000\", \"51211.98000000\", \"49841.45000000\", \"48469.28000000\", \"48982.99000000\", \"46762.99000000\", \"49375.28000000\", \"47727.26000000\", \"46431.50000000\", \"45149.18000000\", \"43362.75000000\", \"43538.04000000\", \"45172.70000000\", \"42969.47000000\", \"42849.78000000\", \"40371.44000000\", \"37318.52000000\", \"38098.26000000\"], \"high\": [\"58043.01000000\", \"57998.97000000\", \"57911.02000000\", \"57286.96000000\", \"57141.05000000\", \"58848.00000000\", \"58981.44000000\", \"58170.00000000\", \"57200.00000000\", \"56637.89000000\", \"54824.00000000\", \"55415.83000000\", \"57712.06000000\", \"58069.82000000\", \"57570.00000000\", \"58360.00000000\", \"57475.00000000\", \"57122.17000000\", \"57680.00000000\", \"58650.00000000\", \"58599.99000000\", \"59438.64000000\", \"59500.00000000\", \"59300.00000000\", \"58400.00000000\", \"58439.70000000\", \"59500.00000000\", \"58593.79000000\", \"58593.70000000\", \"56435.48000000\", \"56190.00000000\", \"56862.43000000\", \"58000.01000000\", \"57195.50000000\", \"55677.31000000\", \"51367.19000000\", \"50950.00000000\", \"50429.99000000\", \"50390.70000000\", \"51483.00000000\", \"51322.41000000\", \"50700.00000000\", \"49697.63000000\", \"48994.27000000\", \"49500.00000000\", \"49795.89000000\", \"48097.59000000\", \"46686.00000000\", \"45800.00000000\", \"44939.20000000\", \"45799.29000000\", \"45662.14000000\", \"43825.65000000\", \"43584.90000000\", \"40888.00000000\", \"40442.00000000\"], \"low\": [\"56956.14000000\", \"57218.00000000\", \"56171.31000000\", \"56035.25000000\", \"56212.00000000\", \"56525.00000000\", \"57260.00000000\", \"56435.00000000\", \"54580.00000000\", \"53526.00000000\", \"53046.69000000\", \"52900.00000000\", \"54679.13000000\", \"56576.04000000\", \"56331.66000000\", \"56763.00000000\", \"55200.00000000\", \"55241.63000000\", \"55570.35000000\", \"56749.75000000\", \"56900.00000000\", \"57472.95000000\", \"57560.63000000\", \"57575.00000000\", \"56235.66000000\", \"57048.96000000\", \"58009.96000000\", \"56700.00000000\", \"53400.00000000\", \"54370.00000000\", \"54766.44000000\", \"55750.00000000\", \"56555.12000000\", \"55232.56000000\", \"48600.00000000\", \"46000.00000000\", \"48457.12000000\", \"47000.00000000\", \"48799.75000000\", \"49880.00000000\", \"49030.00000000\", \"48400.00000000\", \"47721.84000000\", \"46555.00000000\", \"46467.00000000\", \"47566.01000000\", \"43825.39000000\", \"42196.97000000\", \"43156.00000000\", \"42001.00000000\", \"43150.79000000\", \"42507.00000000\", \"42250.02000000\", \"38550.00000000\", \"30000.00000000\", \"36111.00000000\"], \"open\": [\"57725.14000000\", \"57356.59000000\", \"57797.35000000\", \"56633.03000000\", \"56595.20000000\", \"56578.21000000\", \"58787.88000000\", \"57603.33000000\", \"57169.39000000\", \"55917.98000000\", \"53802.54000000\", \"53205.05000000\", \"54858.35000000\", \"57635.89000000\", \"57436.11000000\", \"56814.79000000\", \"57088.48000000\", \"56393.68000000\", \"55766.33000000\", \"57519.25000000\", \"57315.49000000\", \"58463.06000000\", \"57599.86000000\", \"58866.53000000\", \"57965.59000000\", \"57379.58000000\", \"58240.83000000\", \"58370.17000000\", \"58296.35000000\", \"55816.14000000\", \"55737.89000000\", \"56052.83000000\", \"56670.02000000\", \"57101.08000000\", \"55479.13000000\", \"49537.15000000\", \"50879.73000000\", \"49627.63000000\", \"49671.92000000\", \"49987.19000000\", \"51211.98000000\", \"49844.16000000\", \"48469.71000000\", \"48983.00000000\", \"46762.99000000\", \"49375.28000000\", \"47727.26000000\", \"46426.83000000\", \"45143.28000000\", \"43357.00000000\", \"43538.02000000\", \"45172.69000000\", \"42969.46000000\", \"42849.78000000\", \"40354.98000000\", \"37310.14000000\"], \"type\": \"candlestick\", \"x\": [\"2021-05-01T08:00:00\", \"2021-05-01T16:00:00\", \"2021-05-02T00:00:00\", \"2021-05-02T08:00:00\", \"2021-05-02T16:00:00\", \"2021-05-03T00:00:00\", \"2021-05-03T08:00:00\", \"2021-05-03T16:00:00\", \"2021-05-04T00:00:00\", \"2021-05-04T08:00:00\", \"2021-05-04T16:00:00\", \"2021-05-05T00:00:00\", \"2021-05-05T08:00:00\", \"2021-05-05T16:00:00\", \"2021-05-06T00:00:00\", \"2021-05-06T08:00:00\", \"2021-05-06T16:00:00\", \"2021-05-07T00:00:00\", \"2021-05-07T08:00:00\", \"2021-05-07T16:00:00\", \"2021-05-08T00:00:00\", \"2021-05-08T08:00:00\", \"2021-05-08T16:00:00\", \"2021-05-09T00:00:00\", \"2021-05-09T08:00:00\", \"2021-05-09T16:00:00\", \"2021-05-10T00:00:00\", \"2021-05-10T08:00:00\", \"2021-05-10T16:00:00\", \"2021-05-11T00:00:00\", \"2021-05-11T08:00:00\", \"2021-05-11T16:00:00\", \"2021-05-12T00:00:00\", \"2021-05-12T08:00:00\", \"2021-05-12T16:00:00\", \"2021-05-13T00:00:00\", \"2021-05-13T08:00:00\", \"2021-05-13T16:00:00\", \"2021-05-14T00:00:00\", \"2021-05-14T08:00:00\", \"2021-05-14T16:00:00\", \"2021-05-15T00:00:00\", \"2021-05-15T08:00:00\", \"2021-05-15T16:00:00\", \"2021-05-16T00:00:00\", \"2021-05-16T08:00:00\", \"2021-05-16T16:00:00\", \"2021-05-17T00:00:00\", \"2021-05-17T08:00:00\", \"2021-05-17T16:00:00\", \"2021-05-18T00:00:00\", \"2021-05-18T08:00:00\", \"2021-05-18T16:00:00\", \"2021-05-19T00:00:00\", \"2021-05-19T08:00:00\", \"2021-05-19T16:00:00\"], \"xaxis\": \"x\", \"yaxis\": \"y\"}, {\"marker\": {\"color\": \"#4C78A8\"}, \"type\": \"bar\", \"x\": [\"2021-05-01T08:00:00\", \"2021-05-01T16:00:00\", \"2021-05-02T00:00:00\", \"2021-05-02T08:00:00\", \"2021-05-02T16:00:00\", \"2021-05-03T00:00:00\", \"2021-05-03T08:00:00\", \"2021-05-03T16:00:00\", \"2021-05-04T00:00:00\", \"2021-05-04T08:00:00\", \"2021-05-04T16:00:00\", \"2021-05-05T00:00:00\", \"2021-05-05T08:00:00\", \"2021-05-05T16:00:00\", \"2021-05-06T00:00:00\", \"2021-05-06T08:00:00\", \"2021-05-06T16:00:00\", \"2021-05-07T00:00:00\", \"2021-05-07T08:00:00\", \"2021-05-07T16:00:00\", \"2021-05-08T00:00:00\", \"2021-05-08T08:00:00\", \"2021-05-08T16:00:00\", \"2021-05-09T00:00:00\", \"2021-05-09T08:00:00\", \"2021-05-09T16:00:00\", \"2021-05-10T00:00:00\", \"2021-05-10T08:00:00\", \"2021-05-10T16:00:00\", \"2021-05-11T00:00:00\", \"2021-05-11T08:00:00\", \"2021-05-11T16:00:00\", \"2021-05-12T00:00:00\", \"2021-05-12T08:00:00\", \"2021-05-12T16:00:00\", \"2021-05-13T00:00:00\", \"2021-05-13T08:00:00\", \"2021-05-13T16:00:00\", \"2021-05-14T00:00:00\", \"2021-05-14T08:00:00\", \"2021-05-14T16:00:00\", \"2021-05-15T00:00:00\", \"2021-05-15T08:00:00\", \"2021-05-15T16:00:00\", \"2021-05-16T00:00:00\", \"2021-05-16T08:00:00\", \"2021-05-16T16:00:00\", \"2021-05-17T00:00:00\", \"2021-05-17T08:00:00\", \"2021-05-17T16:00:00\", \"2021-05-18T00:00:00\", \"2021-05-18T08:00:00\", \"2021-05-18T16:00:00\", \"2021-05-19T00:00:00\", \"2021-05-19T08:00:00\", \"2021-05-19T16:00:00\"], \"xaxis\": \"x2\", \"y\": [\"14566.66645500\", \"11206.84873300\", \"13347.55995600\", \"13155.23760500\", \"10310.08130200\", \"18743.26328400\", \"20603.88801500\", \"18302.77998700\", \"25496.76948500\", \"36181.74330000\", \"23646.11311800\", \"23208.39187700\", \"29294.35510100\", \"24761.17646100\", \"19369.43368200\", \"24552.85507300\", \"26259.38315300\", \"22910.94732200\", \"25220.21341400\", \"26411.58709300\", \"18335.42014900\", \"29743.89926100\", \"21630.58661800\", \"28027.54036900\", \"24795.60303200\", \"16982.97650900\", \"20791.20840300\", \"28975.49517100\", \"39819.64567600\", \"23788.29862800\", \"24895.68618700\", \"15645.55573500\", \"19815.68934600\", \"28344.90989800\", \"51682.19059200\", \"58910.80087500\", \"45446.03116000\", \"42975.17008600\", \"27897.21214500\", \"28782.75040800\", \"23402.24175300\", \"25292.64638000\", \"31049.85593100\", \"33094.94704800\", \"23603.13475700\", \"25122.96857800\", \"65543.70944000\", \"68729.31661700\", \"46989.49682500\", \"50938.35929400\", \"36471.35000200\", \"42676.01319000\", \"37832.49759200\", \"85194.67802500\", \"168694.17433500\", \"53293.24202900\"], \"yaxis\": \"y2\"}],                        {\"showlegend\": false, \"template\": {\"data\": {\"bar\": [{\"error_x\": {\"color\": \"rgb(36,36,36)\"}, \"error_y\": {\"color\": \"rgb(36,36,36)\"}, \"marker\": {\"line\": {\"color\": \"rgb(234,234,242)\", \"width\": 0.5}}, \"type\": \"bar\"}], \"barpolar\": [{\"marker\": {\"line\": {\"color\": \"rgb(234,234,242)\", \"width\": 0.5}}, \"type\": \"barpolar\"}], \"carpet\": [{\"aaxis\": {\"endlinecolor\": \"rgb(36,36,36)\", \"gridcolor\": \"white\", \"linecolor\": \"white\", \"minorgridcolor\": \"white\", \"startlinecolor\": \"rgb(36,36,36)\"}, \"baxis\": {\"endlinecolor\": \"rgb(36,36,36)\", \"gridcolor\": \"white\", \"linecolor\": \"white\", \"minorgridcolor\": \"white\", \"startlinecolor\": \"rgb(36,36,36)\"}, \"type\": \"carpet\"}], \"choropleth\": [{\"colorbar\": {\"outlinewidth\": 0, \"tickcolor\": \"rgb(36,36,36)\", \"ticklen\": 8, \"ticks\": \"outside\", \"tickwidth\": 2}, \"type\": \"choropleth\"}], \"contour\": [{\"colorbar\": {\"outlinewidth\": 0, \"tickcolor\": \"rgb(36,36,36)\", \"ticklen\": 8, \"ticks\": \"outside\", \"tickwidth\": 2}, \"colorscale\": [[0.0, \"rgb(2,4,25)\"], [0.06274509803921569, \"rgb(24,15,41)\"], [0.12549019607843137, \"rgb(47,23,57)\"], [0.18823529411764706, \"rgb(71,28,72)\"], [0.25098039215686274, \"rgb(97,30,82)\"], [0.3137254901960784, \"rgb(123,30,89)\"], [0.3764705882352941, \"rgb(150,27,91)\"], [0.4392156862745098, \"rgb(177,22,88)\"], [0.5019607843137255, \"rgb(203,26,79)\"], [0.5647058823529412, \"rgb(223,47,67)\"], [0.6274509803921569, \"rgb(236,76,61)\"], [0.6901960784313725, \"rgb(242,107,73)\"], [0.7529411764705882, \"rgb(244,135,95)\"], [0.8156862745098039, \"rgb(245,162,122)\"], [0.8784313725490196, \"rgb(246,188,153)\"], [0.9411764705882353, \"rgb(247,212,187)\"], [1.0, \"rgb(250,234,220)\"]], \"type\": \"contour\"}], \"contourcarpet\": [{\"colorbar\": {\"outlinewidth\": 0, \"tickcolor\": \"rgb(36,36,36)\", \"ticklen\": 8, \"ticks\": \"outside\", \"tickwidth\": 2}, \"type\": \"contourcarpet\"}], \"heatmap\": [{\"colorbar\": {\"outlinewidth\": 0, \"tickcolor\": \"rgb(36,36,36)\", \"ticklen\": 8, \"ticks\": \"outside\", \"tickwidth\": 2}, \"colorscale\": [[0.0, \"rgb(2,4,25)\"], [0.06274509803921569, \"rgb(24,15,41)\"], [0.12549019607843137, \"rgb(47,23,57)\"], [0.18823529411764706, \"rgb(71,28,72)\"], [0.25098039215686274, \"rgb(97,30,82)\"], [0.3137254901960784, \"rgb(123,30,89)\"], [0.3764705882352941, \"rgb(150,27,91)\"], [0.4392156862745098, \"rgb(177,22,88)\"], [0.5019607843137255, \"rgb(203,26,79)\"], [0.5647058823529412, \"rgb(223,47,67)\"], [0.6274509803921569, \"rgb(236,76,61)\"], [0.6901960784313725, \"rgb(242,107,73)\"], [0.7529411764705882, \"rgb(244,135,95)\"], [0.8156862745098039, \"rgb(245,162,122)\"], [0.8784313725490196, \"rgb(246,188,153)\"], [0.9411764705882353, \"rgb(247,212,187)\"], [1.0, \"rgb(250,234,220)\"]], \"type\": \"heatmap\"}], \"heatmapgl\": [{\"colorbar\": {\"outlinewidth\": 0, \"tickcolor\": \"rgb(36,36,36)\", \"ticklen\": 8, \"ticks\": \"outside\", \"tickwidth\": 2}, \"colorscale\": [[0.0, \"rgb(2,4,25)\"], [0.06274509803921569, \"rgb(24,15,41)\"], [0.12549019607843137, \"rgb(47,23,57)\"], [0.18823529411764706, \"rgb(71,28,72)\"], [0.25098039215686274, \"rgb(97,30,82)\"], [0.3137254901960784, \"rgb(123,30,89)\"], [0.3764705882352941, \"rgb(150,27,91)\"], [0.4392156862745098, \"rgb(177,22,88)\"], [0.5019607843137255, \"rgb(203,26,79)\"], [0.5647058823529412, \"rgb(223,47,67)\"], [0.6274509803921569, \"rgb(236,76,61)\"], [0.6901960784313725, \"rgb(242,107,73)\"], [0.7529411764705882, \"rgb(244,135,95)\"], [0.8156862745098039, \"rgb(245,162,122)\"], [0.8784313725490196, \"rgb(246,188,153)\"], [0.9411764705882353, \"rgb(247,212,187)\"], [1.0, \"rgb(250,234,220)\"]], \"type\": \"heatmapgl\"}], \"histogram\": [{\"marker\": {\"colorbar\": {\"outlinewidth\": 0, \"tickcolor\": \"rgb(36,36,36)\", \"ticklen\": 8, \"ticks\": \"outside\", \"tickwidth\": 2}}, \"type\": \"histogram\"}], \"histogram2d\": [{\"colorbar\": {\"outlinewidth\": 0, \"tickcolor\": \"rgb(36,36,36)\", \"ticklen\": 8, \"ticks\": \"outside\", \"tickwidth\": 2}, \"colorscale\": [[0.0, \"rgb(2,4,25)\"], [0.06274509803921569, \"rgb(24,15,41)\"], [0.12549019607843137, \"rgb(47,23,57)\"], [0.18823529411764706, \"rgb(71,28,72)\"], [0.25098039215686274, \"rgb(97,30,82)\"], [0.3137254901960784, \"rgb(123,30,89)\"], [0.3764705882352941, \"rgb(150,27,91)\"], [0.4392156862745098, \"rgb(177,22,88)\"], [0.5019607843137255, \"rgb(203,26,79)\"], [0.5647058823529412, \"rgb(223,47,67)\"], [0.6274509803921569, \"rgb(236,76,61)\"], [0.6901960784313725, \"rgb(242,107,73)\"], [0.7529411764705882, \"rgb(244,135,95)\"], [0.8156862745098039, \"rgb(245,162,122)\"], [0.8784313725490196, \"rgb(246,188,153)\"], [0.9411764705882353, \"rgb(247,212,187)\"], [1.0, \"rgb(250,234,220)\"]], \"type\": \"histogram2d\"}], \"histogram2dcontour\": [{\"colorbar\": {\"outlinewidth\": 0, \"tickcolor\": \"rgb(36,36,36)\", \"ticklen\": 8, \"ticks\": \"outside\", \"tickwidth\": 2}, \"colorscale\": [[0.0, \"rgb(2,4,25)\"], [0.06274509803921569, \"rgb(24,15,41)\"], [0.12549019607843137, \"rgb(47,23,57)\"], [0.18823529411764706, \"rgb(71,28,72)\"], [0.25098039215686274, \"rgb(97,30,82)\"], [0.3137254901960784, \"rgb(123,30,89)\"], [0.3764705882352941, \"rgb(150,27,91)\"], [0.4392156862745098, \"rgb(177,22,88)\"], [0.5019607843137255, \"rgb(203,26,79)\"], [0.5647058823529412, \"rgb(223,47,67)\"], [0.6274509803921569, \"rgb(236,76,61)\"], [0.6901960784313725, \"rgb(242,107,73)\"], [0.7529411764705882, \"rgb(244,135,95)\"], [0.8156862745098039, \"rgb(245,162,122)\"], [0.8784313725490196, \"rgb(246,188,153)\"], [0.9411764705882353, \"rgb(247,212,187)\"], [1.0, \"rgb(250,234,220)\"]], \"type\": \"histogram2dcontour\"}], \"mesh3d\": [{\"colorbar\": {\"outlinewidth\": 0, \"tickcolor\": \"rgb(36,36,36)\", \"ticklen\": 8, \"ticks\": \"outside\", \"tickwidth\": 2}, \"type\": \"mesh3d\"}], \"parcoords\": [{\"line\": {\"colorbar\": {\"outlinewidth\": 0, \"tickcolor\": \"rgb(36,36,36)\", \"ticklen\": 8, \"ticks\": \"outside\", \"tickwidth\": 2}}, \"type\": \"parcoords\"}], \"pie\": [{\"automargin\": true, \"type\": \"pie\"}], \"scatter\": [{\"marker\": {\"colorbar\": {\"outlinewidth\": 0, \"tickcolor\": \"rgb(36,36,36)\", \"ticklen\": 8, \"ticks\": \"outside\", \"tickwidth\": 2}}, \"type\": \"scatter\"}], \"scatter3d\": [{\"line\": {\"colorbar\": {\"outlinewidth\": 0, \"tickcolor\": \"rgb(36,36,36)\", \"ticklen\": 8, \"ticks\": \"outside\", \"tickwidth\": 2}}, \"marker\": {\"colorbar\": {\"outlinewidth\": 0, \"tickcolor\": \"rgb(36,36,36)\", \"ticklen\": 8, \"ticks\": \"outside\", \"tickwidth\": 2}}, \"type\": \"scatter3d\"}], \"scattercarpet\": [{\"marker\": {\"colorbar\": {\"outlinewidth\": 0, \"tickcolor\": \"rgb(36,36,36)\", \"ticklen\": 8, \"ticks\": \"outside\", \"tickwidth\": 2}}, \"type\": \"scattercarpet\"}], \"scattergeo\": [{\"marker\": {\"colorbar\": {\"outlinewidth\": 0, \"tickcolor\": \"rgb(36,36,36)\", \"ticklen\": 8, \"ticks\": \"outside\", \"tickwidth\": 2}}, \"type\": \"scattergeo\"}], \"scattergl\": [{\"marker\": {\"colorbar\": {\"outlinewidth\": 0, \"tickcolor\": \"rgb(36,36,36)\", \"ticklen\": 8, \"ticks\": \"outside\", \"tickwidth\": 2}}, \"type\": \"scattergl\"}], \"scattermapbox\": [{\"marker\": {\"colorbar\": {\"outlinewidth\": 0, \"tickcolor\": \"rgb(36,36,36)\", \"ticklen\": 8, \"ticks\": \"outside\", \"tickwidth\": 2}}, \"type\": \"scattermapbox\"}], \"scatterpolar\": [{\"marker\": {\"colorbar\": {\"outlinewidth\": 0, \"tickcolor\": \"rgb(36,36,36)\", \"ticklen\": 8, \"ticks\": \"outside\", \"tickwidth\": 2}}, \"type\": \"scatterpolar\"}], \"scatterpolargl\": [{\"marker\": {\"colorbar\": {\"outlinewidth\": 0, \"tickcolor\": \"rgb(36,36,36)\", \"ticklen\": 8, \"ticks\": \"outside\", \"tickwidth\": 2}}, \"type\": \"scatterpolargl\"}], \"scatterternary\": [{\"marker\": {\"colorbar\": {\"outlinewidth\": 0, \"tickcolor\": \"rgb(36,36,36)\", \"ticklen\": 8, \"ticks\": \"outside\", \"tickwidth\": 2}}, \"type\": \"scatterternary\"}], \"surface\": [{\"colorbar\": {\"outlinewidth\": 0, \"tickcolor\": \"rgb(36,36,36)\", \"ticklen\": 8, \"ticks\": \"outside\", \"tickwidth\": 2}, \"colorscale\": [[0.0, \"rgb(2,4,25)\"], [0.06274509803921569, \"rgb(24,15,41)\"], [0.12549019607843137, \"rgb(47,23,57)\"], [0.18823529411764706, \"rgb(71,28,72)\"], [0.25098039215686274, \"rgb(97,30,82)\"], [0.3137254901960784, \"rgb(123,30,89)\"], [0.3764705882352941, \"rgb(150,27,91)\"], [0.4392156862745098, \"rgb(177,22,88)\"], [0.5019607843137255, \"rgb(203,26,79)\"], [0.5647058823529412, \"rgb(223,47,67)\"], [0.6274509803921569, \"rgb(236,76,61)\"], [0.6901960784313725, \"rgb(242,107,73)\"], [0.7529411764705882, \"rgb(244,135,95)\"], [0.8156862745098039, \"rgb(245,162,122)\"], [0.8784313725490196, \"rgb(246,188,153)\"], [0.9411764705882353, \"rgb(247,212,187)\"], [1.0, \"rgb(250,234,220)\"]], \"type\": \"surface\"}], \"table\": [{\"cells\": {\"fill\": {\"color\": \"rgb(231,231,240)\"}, \"line\": {\"color\": \"white\"}}, \"header\": {\"fill\": {\"color\": \"rgb(183,183,191)\"}, \"line\": {\"color\": \"white\"}}, \"type\": \"table\"}]}, \"layout\": {\"annotationdefaults\": {\"arrowcolor\": \"rgb(67,103,167)\"}, \"autotypenumbers\": \"strict\", \"coloraxis\": {\"colorbar\": {\"outlinewidth\": 0, \"tickcolor\": \"rgb(36,36,36)\", \"ticklen\": 8, \"ticks\": \"outside\", \"tickwidth\": 2}}, \"colorscale\": {\"sequential\": [[0.0, \"rgb(2,4,25)\"], [0.06274509803921569, \"rgb(24,15,41)\"], [0.12549019607843137, \"rgb(47,23,57)\"], [0.18823529411764706, \"rgb(71,28,72)\"], [0.25098039215686274, \"rgb(97,30,82)\"], [0.3137254901960784, \"rgb(123,30,89)\"], [0.3764705882352941, \"rgb(150,27,91)\"], [0.4392156862745098, \"rgb(177,22,88)\"], [0.5019607843137255, \"rgb(203,26,79)\"], [0.5647058823529412, \"rgb(223,47,67)\"], [0.6274509803921569, \"rgb(236,76,61)\"], [0.6901960784313725, \"rgb(242,107,73)\"], [0.7529411764705882, \"rgb(244,135,95)\"], [0.8156862745098039, \"rgb(245,162,122)\"], [0.8784313725490196, \"rgb(246,188,153)\"], [0.9411764705882353, \"rgb(247,212,187)\"], [1.0, \"rgb(250,234,220)\"]], \"sequentialminus\": [[0.0, \"rgb(2,4,25)\"], [0.06274509803921569, \"rgb(24,15,41)\"], [0.12549019607843137, \"rgb(47,23,57)\"], [0.18823529411764706, \"rgb(71,28,72)\"], [0.25098039215686274, \"rgb(97,30,82)\"], [0.3137254901960784, \"rgb(123,30,89)\"], [0.3764705882352941, \"rgb(150,27,91)\"], [0.4392156862745098, \"rgb(177,22,88)\"], [0.5019607843137255, \"rgb(203,26,79)\"], [0.5647058823529412, \"rgb(223,47,67)\"], [0.6274509803921569, \"rgb(236,76,61)\"], [0.6901960784313725, \"rgb(242,107,73)\"], [0.7529411764705882, \"rgb(244,135,95)\"], [0.8156862745098039, \"rgb(245,162,122)\"], [0.8784313725490196, \"rgb(246,188,153)\"], [0.9411764705882353, \"rgb(247,212,187)\"], [1.0, \"rgb(250,234,220)\"]]}, \"colorway\": [\"rgb(76,114,176)\", \"rgb(221,132,82)\", \"rgb(85,168,104)\", \"rgb(196,78,82)\", \"rgb(129,114,179)\", \"rgb(147,120,96)\", \"rgb(218,139,195)\", \"rgb(140,140,140)\", \"rgb(204,185,116)\", \"rgb(100,181,205)\"], \"font\": {\"color\": \"rgb(36,36,36)\"}, \"geo\": {\"bgcolor\": \"white\", \"lakecolor\": \"white\", \"landcolor\": \"rgb(234,234,242)\", \"showlakes\": true, \"showland\": true, \"subunitcolor\": \"white\"}, \"hoverlabel\": {\"align\": \"left\"}, \"hovermode\": \"closest\", \"paper_bgcolor\": \"white\", \"plot_bgcolor\": \"rgb(234,234,242)\", \"polar\": {\"angularaxis\": {\"gridcolor\": \"white\", \"linecolor\": \"white\", \"showgrid\": true, \"ticks\": \"\"}, \"bgcolor\": \"rgb(234,234,242)\", \"radialaxis\": {\"gridcolor\": \"white\", \"linecolor\": \"white\", \"showgrid\": true, \"ticks\": \"\"}}, \"scene\": {\"xaxis\": {\"backgroundcolor\": \"rgb(234,234,242)\", \"gridcolor\": \"white\", \"gridwidth\": 2, \"linecolor\": \"white\", \"showbackground\": true, \"showgrid\": true, \"ticks\": \"\", \"zerolinecolor\": \"white\"}, \"yaxis\": {\"backgroundcolor\": \"rgb(234,234,242)\", \"gridcolor\": \"white\", \"gridwidth\": 2, \"linecolor\": \"white\", \"showbackground\": true, \"showgrid\": true, \"ticks\": \"\", \"zerolinecolor\": \"white\"}, \"zaxis\": {\"backgroundcolor\": \"rgb(234,234,242)\", \"gridcolor\": \"white\", \"gridwidth\": 2, \"linecolor\": \"white\", \"showbackground\": true, \"showgrid\": true, \"ticks\": \"\", \"zerolinecolor\": \"white\"}}, \"shapedefaults\": {\"fillcolor\": \"rgb(67,103,167)\", \"line\": {\"width\": 0}, \"opacity\": 0.5}, \"ternary\": {\"aaxis\": {\"gridcolor\": \"white\", \"linecolor\": \"white\", \"showgrid\": true, \"ticks\": \"\"}, \"baxis\": {\"gridcolor\": \"white\", \"linecolor\": \"white\", \"showgrid\": true, \"ticks\": \"\"}, \"bgcolor\": \"rgb(234,234,242)\", \"caxis\": {\"gridcolor\": \"white\", \"linecolor\": \"white\", \"showgrid\": true, \"ticks\": \"\"}}, \"xaxis\": {\"automargin\": true, \"gridcolor\": \"white\", \"linecolor\": \"white\", \"showgrid\": true, \"ticks\": \"\", \"title\": {\"standoff\": 15}, \"zerolinecolor\": \"white\"}, \"yaxis\": {\"automargin\": true, \"gridcolor\": \"white\", \"linecolor\": \"white\", \"showgrid\": true, \"ticks\": \"\", \"title\": {\"standoff\": 15}, \"zerolinecolor\": \"white\"}}}, \"title\": {\"text\": \"BTCUSDT OHLC 8 Hour Intervals\"}, \"xaxis\": {\"anchor\": \"y\", \"domain\": [0.0, 1.0], \"matches\": \"x2\", \"rangeslider\": {\"visible\": false}, \"showticklabels\": false}, \"xaxis2\": {\"anchor\": \"y2\", \"domain\": [0.0, 1.0]}, \"yaxis\": {\"anchor\": \"x\", \"domain\": [0.24555555555555558, 1.0]}, \"yaxis2\": {\"anchor\": \"x2\", \"domain\": [0.0, 0.21555555555555558]}},                        {\"responsive\": true}                    ).then(function(){\n                            \nvar gd = document.getElementById('75fb5ff8-e274-4aa4-9a24-e658ab9685b6');\nvar x = new MutationObserver(function (mutations, observer) {{\n        var display = window.getComputedStyle(gd).display;\n        if (!display || display === 'none') {{\n            console.log([gd, 'removed!']);\n            Plotly.purge(gd);\n            observer.disconnect();\n        }}\n}});\n\n// Listen for the removal of the full notebook cells\nvar notebookContainer = gd.closest('#notebook-container');\nif (notebookContainer) {{\n    x.observe(notebookContainer, {childList: true});\n}}\n\n// Listen for the clearing of the current output cell\nvar outputEl = gd.closest('.output');\nif (outputEl) {{\n    x.observe(outputEl, {childList: true});\n}}\n\n                        })                };                });            </script>        </div>"
     },
     "metadata": {},
     "output_type": "display_data"
    }
   ],
   "source": [
    "df_pv = utils.get_klines(symbol=\"BTCUSDT\", start_time=\"2021-05-01\")\n",
    "utils.make_price_volume_chart(df_pv, title=\"BTCUSDT OHLC 8 Hour Intervals\")"
   ]
  },
  {
   "cell_type": "markdown",
   "metadata": {},
   "source": [
    "## Fundging Rate"
   ]
  },
  {
   "cell_type": "markdown",
   "metadata": {},
   "source": [
    "### Binance SDK"
   ]
  },
  {
   "cell_type": "code",
   "execution_count": 2,
   "metadata": {},
   "outputs": [],
   "source": [
    "request_client = RequestClient(api_key=os.getenv(\"BINANCE_API_KEY\"), secret_key=os.getenv(\"BINANCE_API_SECRET\"))"
   ]
  },
  {
   "cell_type": "code",
   "execution_count": null,
   "metadata": {},
   "outputs": [],
   "source": []
  },
  {
   "cell_type": "code",
   "execution_count": 12,
   "metadata": {},
   "outputs": [
    {
     "data": {
      "text/html": "<div>\n<style scoped>\n    .dataframe tbody tr th:only-of-type {\n        vertical-align: middle;\n    }\n\n    .dataframe tbody tr th {\n        vertical-align: top;\n    }\n\n    .dataframe thead th {\n        text-align: right;\n    }\n</style>\n<table border=\"1\" class=\"dataframe\">\n  <thead>\n    <tr style=\"text-align: right;\">\n      <th></th>\n      <th>id</th>\n      <th>price</th>\n      <th>qty</th>\n      <th>firstId</th>\n      <th>lastId</th>\n      <th>time</th>\n      <th>isBuyerMaker</th>\n    </tr>\n  </thead>\n  <tbody>\n    <tr>\n      <th>0</th>\n      <td>506155458</td>\n      <td>40277.53</td>\n      <td>0.021</td>\n      <td>830534715</td>\n      <td>830534715</td>\n      <td>1621443725657</td>\n      <td>False</td>\n    </tr>\n    <tr>\n      <th>1</th>\n      <td>506155459</td>\n      <td>40278.95</td>\n      <td>0.050</td>\n      <td>830534716</td>\n      <td>830534719</td>\n      <td>1621443725657</td>\n      <td>False</td>\n    </tr>\n    <tr>\n      <th>2</th>\n      <td>506155460</td>\n      <td>40282.67</td>\n      <td>0.191</td>\n      <td>830534720</td>\n      <td>830534720</td>\n      <td>1621443725657</td>\n      <td>False</td>\n    </tr>\n    <tr>\n      <th>3</th>\n      <td>506155461</td>\n      <td>40283.55</td>\n      <td>0.036</td>\n      <td>830534721</td>\n      <td>830534721</td>\n      <td>1621443725667</td>\n      <td>False</td>\n    </tr>\n    <tr>\n      <th>4</th>\n      <td>506155462</td>\n      <td>40278.94</td>\n      <td>0.033</td>\n      <td>830534722</td>\n      <td>830534722</td>\n      <td>1621443725672</td>\n      <td>False</td>\n    </tr>\n    <tr>\n      <th>...</th>\n      <td>...</td>\n      <td>...</td>\n      <td>...</td>\n      <td>...</td>\n      <td>...</td>\n      <td>...</td>\n      <td>...</td>\n    </tr>\n    <tr>\n      <th>95</th>\n      <td>506155553</td>\n      <td>40271.86</td>\n      <td>0.032</td>\n      <td>830534835</td>\n      <td>830534835</td>\n      <td>1621443726339</td>\n      <td>False</td>\n    </tr>\n    <tr>\n      <th>96</th>\n      <td>506155554</td>\n      <td>40272.24</td>\n      <td>0.010</td>\n      <td>830534836</td>\n      <td>830534836</td>\n      <td>1621443726339</td>\n      <td>False</td>\n    </tr>\n    <tr>\n      <th>97</th>\n      <td>506155555</td>\n      <td>40272.65</td>\n      <td>0.052</td>\n      <td>830534837</td>\n      <td>830534839</td>\n      <td>1621443726339</td>\n      <td>False</td>\n    </tr>\n    <tr>\n      <th>98</th>\n      <td>506155556</td>\n      <td>40272.73</td>\n      <td>0.026</td>\n      <td>830534840</td>\n      <td>830534840</td>\n      <td>1621443726339</td>\n      <td>False</td>\n    </tr>\n    <tr>\n      <th>99</th>\n      <td>506155557</td>\n      <td>40272.92</td>\n      <td>0.185</td>\n      <td>830534841</td>\n      <td>830534841</td>\n      <td>1621443726339</td>\n      <td>False</td>\n    </tr>\n  </tbody>\n</table>\n<p>100 rows × 7 columns</p>\n</div>",
      "text/plain": "           id     price    qty    firstId     lastId           time  \\\n0   506155458  40277.53  0.021  830534715  830534715  1621443725657   \n1   506155459  40278.95  0.050  830534716  830534719  1621443725657   \n2   506155460  40282.67  0.191  830534720  830534720  1621443725657   \n3   506155461  40283.55  0.036  830534721  830534721  1621443725667   \n4   506155462  40278.94  0.033  830534722  830534722  1621443725672   \n..        ...       ...    ...        ...        ...            ...   \n95  506155553  40271.86  0.032  830534835  830534835  1621443726339   \n96  506155554  40272.24  0.010  830534836  830534836  1621443726339   \n97  506155555  40272.65  0.052  830534837  830534839  1621443726339   \n98  506155556  40272.73  0.026  830534840  830534840  1621443726339   \n99  506155557  40272.92  0.185  830534841  830534841  1621443726339   \n\n    isBuyerMaker  \n0          False  \n1          False  \n2          False  \n3          False  \n4          False  \n..           ...  \n95         False  \n96         False  \n97         False  \n98         False  \n99         False  \n\n[100 rows x 7 columns]"
     },
     "execution_count": 12,
     "metadata": {},
     "output_type": "execute_result"
    }
   ],
   "source": [
    "A = request_client.get_aggregate_trades_list(symbol=\"BTCUSDT\", fromId=None, startTime=time.time() - 1000 * 60 * 60 * 24 * 10, endTime=None, limit=100)\n",
    "df_result = pd.DataFrame([a.__dict__ for a in A])\n",
    "df_result"
   ]
  },
  {
   "cell_type": "code",
   "execution_count": 15,
   "metadata": {},
   "outputs": [
    {
     "data": {
      "text/html": "<div>\n<style scoped>\n    .dataframe tbody tr th:only-of-type {\n        vertical-align: middle;\n    }\n\n    .dataframe tbody tr th {\n        vertical-align: top;\n    }\n\n    .dataframe thead th {\n        text-align: right;\n    }\n</style>\n<table border=\"1\" class=\"dataframe\">\n  <thead>\n    <tr style=\"text-align: right;\">\n      <th></th>\n      <th>symbol</th>\n      <th>fundingRate</th>\n      <th>fundingTime</th>\n    </tr>\n  </thead>\n  <tbody>\n    <tr>\n      <th>0</th>\n      <td>BTCUSDT</td>\n      <td>0.001155</td>\n      <td>1618588800002</td>\n    </tr>\n    <tr>\n      <th>1</th>\n      <td>BTCUSDT</td>\n      <td>0.000549</td>\n      <td>1618617600008</td>\n    </tr>\n    <tr>\n      <th>2</th>\n      <td>BTCUSDT</td>\n      <td>0.000540</td>\n      <td>1618646400000</td>\n    </tr>\n    <tr>\n      <th>3</th>\n      <td>BTCUSDT</td>\n      <td>0.000876</td>\n      <td>1618675200001</td>\n    </tr>\n    <tr>\n      <th>4</th>\n      <td>BTCUSDT</td>\n      <td>0.000816</td>\n      <td>1618704000006</td>\n    </tr>\n    <tr>\n      <th>...</th>\n      <td>...</td>\n      <td>...</td>\n      <td>...</td>\n    </tr>\n    <tr>\n      <th>95</th>\n      <td>BTCUSDT</td>\n      <td>0.000147</td>\n      <td>1621324800001</td>\n    </tr>\n    <tr>\n      <th>96</th>\n      <td>BTCUSDT</td>\n      <td>0.000218</td>\n      <td>1621353600006</td>\n    </tr>\n    <tr>\n      <th>97</th>\n      <td>BTCUSDT</td>\n      <td>0.000100</td>\n      <td>1621382400000</td>\n    </tr>\n    <tr>\n      <th>98</th>\n      <td>BTCUSDT</td>\n      <td>0.000358</td>\n      <td>1621411200003</td>\n    </tr>\n    <tr>\n      <th>99</th>\n      <td>BTCUSDT</td>\n      <td>-0.000897</td>\n      <td>1621440000018</td>\n    </tr>\n  </tbody>\n</table>\n<p>100 rows × 3 columns</p>\n</div>",
      "text/plain": "     symbol  fundingRate    fundingTime\n0   BTCUSDT     0.001155  1618588800002\n1   BTCUSDT     0.000549  1618617600008\n2   BTCUSDT     0.000540  1618646400000\n3   BTCUSDT     0.000876  1618675200001\n4   BTCUSDT     0.000816  1618704000006\n..      ...          ...            ...\n95  BTCUSDT     0.000147  1621324800001\n96  BTCUSDT     0.000218  1621353600006\n97  BTCUSDT     0.000100  1621382400000\n98  BTCUSDT     0.000358  1621411200003\n99  BTCUSDT    -0.000897  1621440000018\n\n[100 rows x 3 columns]"
     },
     "execution_count": 15,
     "metadata": {},
     "output_type": "execute_result"
    }
   ],
   "source": [
    "A = request_client.get_funding_rate(symbol=\"BTCUSDT\")\n",
    "df_result = pd.DataFrame([a.__dict__ for a in A])\n",
    "df_result"
   ]
  },
  {
   "cell_type": "code",
   "execution_count": 62,
   "metadata": {},
   "outputs": [
    {
     "data": {
      "text/html": "<div>\n<style scoped>\n    .dataframe tbody tr th:only-of-type {\n        vertical-align: middle;\n    }\n\n    .dataframe tbody tr th {\n        vertical-align: top;\n    }\n\n    .dataframe thead th {\n        text-align: right;\n    }\n</style>\n<table border=\"1\" class=\"dataframe\">\n  <thead>\n    <tr style=\"text-align: right;\">\n      <th></th>\n      <th>openTime</th>\n      <th>open</th>\n      <th>high</th>\n      <th>low</th>\n      <th>close</th>\n      <th>volume</th>\n      <th>closeTime</th>\n      <th>quoteAssetVolume</th>\n      <th>numTrades</th>\n      <th>takerBuyBaseAssetVolume</th>\n      <th>takerBuyQuoteAssetVolume</th>\n      <th>ignore</th>\n    </tr>\n  </thead>\n  <tbody>\n    <tr>\n      <th>0</th>\n      <td>1607068800000</td>\n      <td>19289.26</td>\n      <td>19457.82</td>\n      <td>18669.13</td>\n      <td>18950.00</td>\n      <td>141826.750</td>\n      <td>1607097599999</td>\n      <td>2697847975.44905</td>\n      <td>643471</td>\n      <td>67529.972</td>\n      <td>1285253601.01188</td>\n      <td>0</td>\n    </tr>\n    <tr>\n      <th>1</th>\n      <td>1607097600000</td>\n      <td>18950.00</td>\n      <td>19084.88</td>\n      <td>18570.00</td>\n      <td>18664.20</td>\n      <td>76293.777</td>\n      <td>1607126399999</td>\n      <td>1439459860.91507</td>\n      <td>395350</td>\n      <td>35684.920</td>\n      <td>673428884.24331</td>\n      <td>0</td>\n    </tr>\n    <tr>\n      <th>2</th>\n      <td>1607126400000</td>\n      <td>18662.72</td>\n      <td>18996.89</td>\n      <td>18510.00</td>\n      <td>18919.13</td>\n      <td>66746.687</td>\n      <td>1607155199999</td>\n      <td>1253971197.32179</td>\n      <td>347014</td>\n      <td>33224.910</td>\n      <td>624349092.07773</td>\n      <td>0</td>\n    </tr>\n    <tr>\n      <th>3</th>\n      <td>1607155200000</td>\n      <td>18919.12</td>\n      <td>19203.46</td>\n      <td>18919.12</td>\n      <td>19112.58</td>\n      <td>63168.196</td>\n      <td>1607183999999</td>\n      <td>1204477582.72031</td>\n      <td>357049</td>\n      <td>31922.015</td>\n      <td>608750851.24884</td>\n      <td>0</td>\n    </tr>\n    <tr>\n      <th>4</th>\n      <td>1607184000000</td>\n      <td>19112.59</td>\n      <td>19186.07</td>\n      <td>18978.44</td>\n      <td>19147.62</td>\n      <td>35997.764</td>\n      <td>1607212799999</td>\n      <td>687059081.11372</td>\n      <td>242040</td>\n      <td>17374.325</td>\n      <td>331651912.25492</td>\n      <td>0</td>\n    </tr>\n    <tr>\n      <th>...</th>\n      <td>...</td>\n      <td>...</td>\n      <td>...</td>\n      <td>...</td>\n      <td>...</td>\n      <td>...</td>\n      <td>...</td>\n      <td>...</td>\n      <td>...</td>\n      <td>...</td>\n      <td>...</td>\n      <td>...</td>\n    </tr>\n    <tr>\n      <th>495</th>\n      <td>1621324800000</td>\n      <td>45175.90</td>\n      <td>45692.56</td>\n      <td>42675.00</td>\n      <td>43000.01</td>\n      <td>231277.761</td>\n      <td>1621353599999</td>\n      <td>10188791882.16169</td>\n      <td>2344068</td>\n      <td>113848.730</td>\n      <td>5017115384.29877</td>\n      <td>0</td>\n    </tr>\n    <tr>\n      <th>496</th>\n      <td>1621353600000</td>\n      <td>43000.00</td>\n      <td>43849.41</td>\n      <td>42268.00</td>\n      <td>42882.53</td>\n      <td>203955.465</td>\n      <td>1621382399999</td>\n      <td>8780144932.85801</td>\n      <td>2032669</td>\n      <td>100214.853</td>\n      <td>4316007448.95943</td>\n      <td>0</td>\n    </tr>\n    <tr>\n      <th>497</th>\n      <td>1621382400000</td>\n      <td>42882.54</td>\n      <td>43615.93</td>\n      <td>38500.00</td>\n      <td>40372.57</td>\n      <td>445211.508</td>\n      <td>1621411199999</td>\n      <td>17982116692.99370</td>\n      <td>4345671</td>\n      <td>215577.417</td>\n      <td>8702932608.25298</td>\n      <td>0</td>\n    </tr>\n    <tr>\n      <th>498</th>\n      <td>1621411200000</td>\n      <td>40369.92</td>\n      <td>40853.00</td>\n      <td>28688.00</td>\n      <td>37304.85</td>\n      <td>581539.299</td>\n      <td>1621439999999</td>\n      <td>21574020380.05212</td>\n      <td>6221233</td>\n      <td>280333.476</td>\n      <td>10418404837.65059</td>\n      <td>0</td>\n    </tr>\n    <tr>\n      <th>499</th>\n      <td>1621440000000</td>\n      <td>37304.85</td>\n      <td>40497.81</td>\n      <td>36080.74</td>\n      <td>39133.18</td>\n      <td>136314.279</td>\n      <td>1621468799999</td>\n      <td>5292564893.61986</td>\n      <td>1616271</td>\n      <td>69250.135</td>\n      <td>2689335932.37362</td>\n      <td>0</td>\n    </tr>\n  </tbody>\n</table>\n<p>500 rows × 12 columns</p>\n</div>",
      "text/plain": "          openTime      open      high       low     close      volume  \\\n0    1607068800000  19289.26  19457.82  18669.13  18950.00  141826.750   \n1    1607097600000  18950.00  19084.88  18570.00  18664.20   76293.777   \n2    1607126400000  18662.72  18996.89  18510.00  18919.13   66746.687   \n3    1607155200000  18919.12  19203.46  18919.12  19112.58   63168.196   \n4    1607184000000  19112.59  19186.07  18978.44  19147.62   35997.764   \n..             ...       ...       ...       ...       ...         ...   \n495  1621324800000  45175.90  45692.56  42675.00  43000.01  231277.761   \n496  1621353600000  43000.00  43849.41  42268.00  42882.53  203955.465   \n497  1621382400000  42882.54  43615.93  38500.00  40372.57  445211.508   \n498  1621411200000  40369.92  40853.00  28688.00  37304.85  581539.299   \n499  1621440000000  37304.85  40497.81  36080.74  39133.18  136314.279   \n\n         closeTime   quoteAssetVolume  numTrades takerBuyBaseAssetVolume  \\\n0    1607097599999   2697847975.44905     643471               67529.972   \n1    1607126399999   1439459860.91507     395350               35684.920   \n2    1607155199999   1253971197.32179     347014               33224.910   \n3    1607183999999   1204477582.72031     357049               31922.015   \n4    1607212799999    687059081.11372     242040               17374.325   \n..             ...                ...        ...                     ...   \n495  1621353599999  10188791882.16169    2344068              113848.730   \n496  1621382399999   8780144932.85801    2032669              100214.853   \n497  1621411199999  17982116692.99370    4345671              215577.417   \n498  1621439999999  21574020380.05212    6221233              280333.476   \n499  1621468799999   5292564893.61986    1616271               69250.135   \n\n    takerBuyQuoteAssetVolume ignore  \n0           1285253601.01188      0  \n1            673428884.24331      0  \n2            624349092.07773      0  \n3            608750851.24884      0  \n4            331651912.25492      0  \n..                       ...    ...  \n495         5017115384.29877      0  \n496         4316007448.95943      0  \n497         8702932608.25298      0  \n498        10418404837.65059      0  \n499         2689335932.37362      0  \n\n[500 rows x 12 columns]"
     },
     "execution_count": 62,
     "metadata": {},
     "output_type": "execute_result"
    }
   ],
   "source": [
    "A = request_client.get_candlestick_data(symbol=\"BTCUSDT\", interval=\"8h\")\n",
    "df_result = pd.DataFrame([a.__dict__ for a in A])\n",
    "df_result"
   ]
  },
  {
   "cell_type": "code",
   "execution_count": 63,
   "metadata": {},
   "outputs": [
    {
     "data": {
      "text/plain": "0     2020-12-04 08:00:00\n1     2020-12-04 16:00:00\n2     2020-12-05 00:00:00\n3     2020-12-05 08:00:00\n4     2020-12-05 16:00:00\n              ...        \n495   2021-05-18 08:00:00\n496   2021-05-18 16:00:00\n497   2021-05-19 00:00:00\n498   2021-05-19 08:00:00\n499   2021-05-19 16:00:00\nName: openTime, Length: 500, dtype: datetime64[ns]"
     },
     "execution_count": 63,
     "metadata": {},
     "output_type": "execute_result"
    }
   ],
   "source": [
    "pd.to_datetime(df_result.openTime, unit=\"ms\")"
   ]
  },
  {
   "cell_type": "code",
   "execution_count": null,
   "metadata": {},
   "outputs": [],
   "source": [
    "A = request_client.get_candlestick_data(symbol=\"BTCUSDT\", interval=\"8h\")\n",
    "df_result = pd.DataFrame([a.__dict__ for a in A])\n",
    "df_result"
   ]
  }
 ],
 "metadata": {
  "interpreter": {
   "hash": "f88ee8450bcf0b467ff151c0407f80646193c1d54297fb4c805cc404f50286be"
  },
  "kernelspec": {
   "display_name": "Python 3.8.5 64-bit ('final_project-OI0eFCiU': pipenv)",
   "name": "python3"
  },
  "language_info": {
   "codemirror_mode": {
    "name": "ipython",
    "version": 3
   },
   "file_extension": ".py",
   "mimetype": "text/x-python",
   "name": "python",
   "nbconvert_exporter": "python",
   "pygments_lexer": "ipython3",
   "version": "3.8.5"
  },
  "orig_nbformat": 3
 },
 "nbformat": 4,
 "nbformat_minor": 2
}